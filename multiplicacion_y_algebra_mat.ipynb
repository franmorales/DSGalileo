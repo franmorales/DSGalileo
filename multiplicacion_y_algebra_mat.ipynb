{
 "cells": [
  {
   "cell_type": "markdown",
   "metadata": {},
   "source": [
    "## Ejercicio practico: multiplicacion y aritmetica matricial.\n",
    "\n",
    "**Ejercicio aplicado en DS**\n",
    "Se tiene una red neuronal sencilla(y simplificada) como la de la siguiente imagen:\n",
    "<img src=\"https://www.oreilly.com/library/view/practical-convolutional-neural/9781788392303/assets/246151fb-7893-448d-b9bb-7a87b387a24b.png\">\n",
    "\n",
    "Donde:\n",
    "* INPUT LAYER: un vector X de tamaño = 2 que representa los datos de entrada\n",
    "* HIDDEN_LAYER :capa oculta con 2 neuronas definidas por los vectores:\n",
    "    * HL1 = [0.25,0.37]\n",
    "    * HL2 = [-8,14]\n",
    "* OUTPUT_LAYER = capa de salida definida por el vector [4,9]\n",
    "\n",
    "Crear una funcion neural_network(X) para calcular:\n",
    "* Calcule la salida de cada neurona en la capa intermedia aplicada a la capa de entrada.\n",
    "* Use el resultado del paso anterior como entrada para la neurona en la capa de salida\n",
    "\n",
    "Utilizando multiplicacion de matrices se debe calcular para cada fila de la matriz de entrada X el valor de las neuronas de la capa intermedia, esto producira una nueva matriz con el mismo numero de filas que X y 2 columnas(1 para cada neurona) , a  los valores de esta matriz se les debe aplicar la funcion \"sigmoid\"(descrita a continuacion) para limitarlos al intervalo de 0 a 1, esto produce una matriz del mismo tamanio pero con valores entre 0 a 1, esta matriz se multiplica matricialmente por la matriz que representa los pesos de la capa de salida  y este proceso produce un nuevo tensor al cual se debe aplicar nuevamente la funcion sigmoid. El resultado debe ser un tensor con el mismo numero de filas que la matriz X y una sola columna(una prediccion para cada fila de X\n",
    "\n",
    "<img src=\"https://cdn-images-1.medium.com/max/1600/1*Xu7B5y9gp0iL5ooBj7LtWw.png\">"
   ]
  },
  {
   "cell_type": "code",
   "execution_count": 54,
   "metadata": {},
   "outputs": [],
   "source": [
    "import numpy as np\n",
    "def sigmoid(x): #convertir los valores de x al rango de 0 a 1\n",
    "    \n",
    "    return 1/(1+np.exp(-x))"
   ]
  },
  {
   "cell_type": "code",
   "execution_count": 55,
   "metadata": {},
   "outputs": [
    {
     "name": "stdout",
     "output_type": "stream",
     "text": [
      "[[0.99995577]\n",
      " [0.99999332]]\n"
     ]
    }
   ],
   "source": [
    "H1_W = np.array([[0.25,-8],\n",
    "                 [0.37,14]])\n",
    "OL_W = np.array([[4],[9]])\n",
    "\n",
    "X =  np.array([[0.1,0.2],\n",
    "               [1,2]])\n",
    "\n",
    "H1 = np.matmul(X,H1_W)\n",
    "\n",
    "H1 = sigmoid(H1)  # funcion de activacion: convertir a valores en el intervalo de 0 a 1\n",
    "OL = np.matmul(H1,OL_W)\n",
    "OL = sigmoid(OL)  # funcion de activacion: convertir a valores en el intervalo de 0 a 1\n",
    "\n",
    "print(OL)"
   ]
  },
  {
   "cell_type": "code",
   "execution_count": 56,
   "metadata": {},
   "outputs": [
    {
     "name": "stdout",
     "output_type": "stream",
     "text": [
      "El resultado de la primera neurona es: \n",
      " [[0.099]\n",
      " [0.99 ]]\n",
      "El resultado de la segunda neurona es: \n",
      " [[ 2.]\n",
      " [20.]]\n",
      "\n",
      "El resultado de la red neuronal para ambos sets de datos es: \n",
      " [[0.99995577]\n",
      " [0.99999332]]\n"
     ]
    }
   ],
   "source": [
    "def neural_network(X):\n",
    "    H1_W = np.array([[0.25,-8],\n",
    "                     [0.37,14]])\n",
    "    OL_W = np.array([[4],[9]])\n",
    "    H1 = np.matmul(X,H1_W)\n",
    "    print(\"El resultado de la primera neurona es: \\n\", np.array([[H1[0][0]],[H1[1][0]]]))\n",
    "    print(\"El resultado de la segunda neurona es: \\n\", np.array([[H1[0][1]],[H1[1][1]]]))\n",
    "    H1 = sigmoid(H1)\n",
    "    OL = np.matmul(H1,OL_W)\n",
    "    OL = sigmoid(OL) \n",
    "    return OL\n",
    "\n",
    "X =  np.array([[0.1,0.2],\n",
    "               [1,2]])\n",
    "print(\"\\nEl resultado de la red neuronal para ambos sets de datos es: \\n\", neural_network(X))"
   ]
  },
  {
   "cell_type": "markdown",
   "metadata": {},
   "source": [
    "### Ejercicio \n",
    "\n",
    "Implementar en una funcion neural_network(X) la red neuronal definida por la siguiente arquitectura:\n",
    "\n",
    "<img src=\"http://i.imgur.com/UNlffE1.png\">\n",
    "\n",
    "Podemos validar si fue correctamente implementada si usamos como entrada el vector x=[1,1] . Debemos obtener el resultado mostrado en la imagen.\n",
    "\n",
    "Una vez tenemos la implementacion correcta, cambiar la funcion de activacion de la capa de salida por la funcion de activacion ReLu(https://en.wikipedia.org/wiki/Rectifier_(neural_networks)):\n",
    "\n",
    "<img src=\"https://cdn-images-1.medium.com/max/1600/1*DfMRHwxY1gyyDmrIAd-gjQ.png\">\n",
    "\n",
    "Luego evaluar la red neuronal sobre la matriz de datos X(de manera vectorizada):"
   ]
  },
  {
   "cell_type": "code",
   "execution_count": 57,
   "metadata": {},
   "outputs": [],
   "source": [
    "#Creacion de la funcion de ReLu\n",
    "\n",
    "def ReLu(x):\n",
    "    condList = [x<0, x>=0]\n",
    "    funcList = [lambda x: 0, lambda x: x]\n",
    "    final =  np.piecewise(x,condList,funcList) \n",
    "    return(final)"
   ]
  },
  {
   "cell_type": "code",
   "execution_count": 58,
   "metadata": {},
   "outputs": [
    {
     "name": "stdout",
     "output_type": "stream",
     "text": [
      "[[ 0  0  0  3  5]\n",
      " [ 4  6  2  0 98]]\n"
     ]
    }
   ],
   "source": [
    "print(ReLu(np.array([[-4,0,-200,3,5],[4,6,2,-22,98]]))) #Prueba de la funcion de ReLu para matrices"
   ]
  },
  {
   "cell_type": "code",
   "execution_count": 59,
   "metadata": {},
   "outputs": [
    {
     "name": "stdout",
     "output_type": "stream",
     "text": [
      "[0.81275154]\n"
     ]
    }
   ],
   "source": [
    "def neural_network(X):\n",
    "\n",
    "    H1_W= np.array([[0.712,0.355,0.268],\n",
    "                   [0.112,0.855,0.468]])\n",
    "\n",
    "    OL_W= np.array([[0.116],[0.329], [0.708]])\n",
    "\n",
    "\n",
    "    HL =np.matmul(X, H1_W)\n",
    "    HL =sigmoid(HL)\n",
    "\n",
    "    OL =np.matmul(HL,OL_W)\n",
    "    OL =ReLu(OL)\n",
    "\n",
    "    return(OL)\n",
    "    \n",
    "testData = np.array([1,1])\n",
    "\n",
    "print(neural_network(testData))"
   ]
  },
  {
   "cell_type": "code",
   "execution_count": 60,
   "metadata": {},
   "outputs": [
    {
     "name": "stdout",
     "output_type": "stream",
     "text": [
      "[[0.85897151]\n",
      " [0.6748703 ]\n",
      " [1.14904686]\n",
      " [1.15125178]\n",
      " [1.14187076]\n",
      " [0.72619803]\n",
      " [1.15019715]\n",
      " [1.153     ]\n",
      " [1.1500904 ]\n",
      " [1.153     ]]\n"
     ]
    }
   ],
   "source": [
    "X = np.array([\n",
    "    [0.1,2],\n",
    "    [0.3,0.45],\n",
    "    [5,9],\n",
    "    [12,6],\n",
    "    [7,5],\n",
    "    [0.3,0.8],\n",
    "    [12,5],\n",
    "    [100,200],\n",
    "    [7,8],\n",
    "    [300,1500]])\n",
    "print(neural_network(X))"
   ]
  },
  {
   "cell_type": "code",
   "execution_count": null,
   "metadata": {},
   "outputs": [],
   "source": []
  }
 ],
 "metadata": {
  "kernelspec": {
   "display_name": "Python 3",
   "language": "python",
   "name": "python3"
  },
  "language_info": {
   "codemirror_mode": {
    "name": "ipython",
    "version": 3
   },
   "file_extension": ".py",
   "mimetype": "text/x-python",
   "name": "python",
   "nbconvert_exporter": "python",
   "pygments_lexer": "ipython3",
   "version": "3.7.2"
  }
 },
 "nbformat": 4,
 "nbformat_minor": 2
}
