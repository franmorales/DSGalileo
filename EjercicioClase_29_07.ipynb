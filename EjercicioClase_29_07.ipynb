{
 "cells": [
  {
   "cell_type": "markdown",
   "metadata": {},
   "source": [
    "# Ejercicio en clase: 29/07/2019"
   ]
  },
  {
   "cell_type": "code",
   "execution_count": 1,
   "metadata": {},
   "outputs": [],
   "source": [
    "import numpy as np\n",
    "from sklearn.preprocessing import PolynomialFeatures"
   ]
  },
  {
   "cell_type": "code",
   "execution_count": 2,
   "metadata": {},
   "outputs": [],
   "source": [
    "x = np.random.randint(10,size=(1,1))"
   ]
  },
  {
   "cell_type": "code",
   "execution_count": 3,
   "metadata": {
    "scrolled": true
   },
   "outputs": [
    {
     "data": {
      "text/plain": [
       "array([[0]])"
      ]
     },
     "execution_count": 3,
     "metadata": {},
     "output_type": "execute_result"
    }
   ],
   "source": [
    "x"
   ]
  },
  {
   "cell_type": "code",
   "execution_count": 4,
   "metadata": {},
   "outputs": [
    {
     "name": "stdout",
     "output_type": "stream",
     "text": [
      "[[1. 0. 0.]]\n",
      "La complejidad del polinomio aumento a:  3\n"
     ]
    }
   ],
   "source": [
    "poly = PolynomialFeatures(2)\n",
    "print(poly.fit_transform(x))\n",
    "print('La complejidad del polinomio aumento a: ', len(poly.fit_transform(x)[0]))"
   ]
  },
  {
   "cell_type": "code",
   "execution_count": 5,
   "metadata": {},
   "outputs": [
    {
     "data": {
      "text/plain": [
       "array([[5, 0]])"
      ]
     },
     "execution_count": 5,
     "metadata": {},
     "output_type": "execute_result"
    }
   ],
   "source": [
    "x = np.random.randint(10,size=(1,2))\n",
    "x"
   ]
  },
  {
   "cell_type": "code",
   "execution_count": 6,
   "metadata": {},
   "outputs": [
    {
     "name": "stdout",
     "output_type": "stream",
     "text": [
      "[[ 1.  5.  0. 25.  0.  0.]]\n",
      "La complejidad del polinomio aumento a:  6\n"
     ]
    }
   ],
   "source": [
    "print(poly.fit_transform(x))\n",
    "print('La complejidad del polinomio aumento a: ', len(poly.fit_transform(x)[0]))"
   ]
  },
  {
   "cell_type": "code",
   "execution_count": 7,
   "metadata": {},
   "outputs": [
    {
     "data": {
      "text/plain": [
       "array([[5, 1, 6]])"
      ]
     },
     "execution_count": 7,
     "metadata": {},
     "output_type": "execute_result"
    }
   ],
   "source": [
    "x = np.random.randint(1,10,size=(1,3))\n",
    "x"
   ]
  },
  {
   "cell_type": "code",
   "execution_count": 8,
   "metadata": {},
   "outputs": [
    {
     "name": "stdout",
     "output_type": "stream",
     "text": [
      "[[ 1.  5.  1.  6. 25.  5. 30.  1.  6. 36.]]\n",
      "La complejidad del polinomio aumento a:  10\n"
     ]
    }
   ],
   "source": [
    "print(poly.fit_transform(x))\n",
    "print('La complejidad del polinomio aumento a: ', len(poly.fit_transform(x)[0]))"
   ]
  },
  {
   "cell_type": "markdown",
   "metadata": {},
   "source": [
    "### Comentarios:\n",
    "\n",
    "La funcion *PolynomialFeatures* nos es util a para generar polinomios de grado 2 considerando, los coeficientes de las variables de dicho polinomio.  Ademas, nos brinda la interaccion de los polinomios entre si (es decir, la combinacion de los distintos polinomios. Esto puede ser una herramienta muy util al momento de realizar Feature Engineering, **con esta herramienta encontramos la lista de las posible features, y al momento de entrenar el modelo, en base a los pesos que nos genere, podemos ver cuales son mas significativas y poderlas utilizar**\n",
    "\n",
    "**Sin embargo, el costo computacional aumenta exponencialmente, por lo que es necesario evaluar los casos en los que sea necesario obtener las posibles combinaciones de la variable**"
   ]
  },
  {
   "cell_type": "code",
   "execution_count": null,
   "metadata": {},
   "outputs": [],
   "source": []
  }
 ],
 "metadata": {
  "kernelspec": {
   "display_name": "Python 3",
   "language": "python",
   "name": "python3"
  },
  "language_info": {
   "codemirror_mode": {
    "name": "ipython",
    "version": 3
   },
   "file_extension": ".py",
   "mimetype": "text/x-python",
   "name": "python",
   "nbconvert_exporter": "python",
   "pygments_lexer": "ipython3",
   "version": "3.6.8"
  }
 },
 "nbformat": 4,
 "nbformat_minor": 2
}
