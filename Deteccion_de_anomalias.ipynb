{
 "cells": [
  {
   "cell_type": "markdown",
   "metadata": {},
   "source": [
    "# Deteccion de anomalias."
   ]
  },
  {
   "cell_type": "code",
   "execution_count": 1,
   "metadata": {},
   "outputs": [],
   "source": [
    "import scipy.stats as sts\n",
    "import numpy as np\n",
    "import matplotlib.pyplot as plt\n",
    "import pandas as pd"
   ]
  },
  {
   "cell_type": "markdown",
   "metadata": {},
   "source": [
    "### 1. Como primer paso se tienen las features que tomamos del ejemplo en clase:"
   ]
  },
  {
   "cell_type": "markdown",
   "metadata": {},
   "source": [
    "Procedemos a graficar la data de tal forma que nos podemos dar cuenta de las tendencias  que se tienen.:"
   ]
  },
  {
   "cell_type": "code",
   "execution_count": 2,
   "metadata": {},
   "outputs": [],
   "source": [
    "trainData = np.array([[1.77,26],\n",
    "                    [1.74,31],\n",
    "                    [1.72,24],\n",
    "                    [1.78,34],\n",
    "                    [1.65,32],\n",
    "                    [1.66,29],\n",
    "                    [1.64,27],\n",
    "                    [1.85,34],\n",
    "                    [1.85,26],\n",
    "                    [1.75,21],\n",
    "                    [1.73,23],\n",
    "                    [1.79,25],\n",
    "                    [1.82,24],\n",
    "                    [1.65,25],\n",
    "                    [1.79,25],\n",
    "                    [1.72,34],\n",
    "                    [1.7,26],\n",
    "                    [1.57,25],\n",
    "                    [1.66,26],\n",
    "                    [1.75,27],\n",
    "                    [1.77,32]])"
   ]
  },
  {
   "cell_type": "code",
   "execution_count": 9,
   "metadata": {
    "scrolled": false
   },
   "outputs": [
    {
     "data": {
      "image/png": "[encoded data removed]",
      "text/plain": [
       "<Figure size 432x288 with 1 Axes>"
      ]
     },
     "metadata": {
      "needs_background": "light"
     },
     "output_type": "display_data"
    }
   ],
   "source": [
    "#plt.scatter(edad, estatura, alpha=0.5)\n",
    "plt.scatter(trainData[:,0],trainData[:,1])\n",
    "plt.xlabel('Edad')\n",
    "plt.ylabel('Estatura')\n",
    "plt.title('Edad vs. Estatura')\n",
    "plt.show()"
   ]
  },
  {
   "cell_type": "code",
   "execution_count": 4,
   "metadata": {},
   "outputs": [
    {
     "data": {
      "text/plain": [
       "array([ 1.73142857, 27.42857143])"
      ]
     },
     "execution_count": 4,
     "metadata": {},
     "output_type": "execute_result"
    }
   ],
   "source": [
    "np.mean(trainData,axis=0)"
   ]
  },
  {
   "cell_type": "markdown",
   "metadata": {},
   "source": [
    "### 2. Luego procedemos a extraer los parametros estadisiticos, obtenemos la media y la desviacion estandard:"
   ]
  },
  {
   "cell_type": "code",
   "execution_count": 5,
   "metadata": {},
   "outputs": [],
   "source": [
    "#mu = np.array([np.mean(estatura), np.mean(edad)]) #Vector de medias\n",
    "mu = np.mean(trainData,axis=0)\n",
    "#sigma = np.array([np.std(estatura),np.std(edad)]) #Vector de desviaciones estandards\n",
    "sigma = np.std(trainData,axis=0)"
   ]
  },
  {
   "cell_type": "code",
   "execution_count": 6,
   "metadata": {},
   "outputs": [],
   "source": [
    "epsilon  = 0.0004\n",
    "xTest = np.array([[0.25,2.4],\n",
    "                  [175.1,2.5],\n",
    "                  [0.15,250],\n",
    "                  [150,14]])"
   ]
  },
  {
   "cell_type": "markdown",
   "metadata": {},
   "source": [
    "### 3. Procedemos con la creacion de un ejemplo aleatorio y  la verificio:"
   ]
  },
  {
   "cell_type": "code",
   "execution_count": 7,
   "metadata": {},
   "outputs": [],
   "source": [
    "productProb = np.prod(np.multiply(np.divide(1,np.sqrt(2*np.pi)*sigma),\n",
    "                                  np.power(np.e,-1*np.divide(np.power(xTest - mu,2),\n",
    "                                  2*np.power(sigma,2)))),axis=1)"
   ]
  },
  {
   "cell_type": "code",
   "execution_count": 8,
   "metadata": {},
   "outputs": [
    {
     "data": {
      "text/html": [
       "<div>\n",
       "<style scoped>\n",
       "    .dataframe tbody tr th:only-of-type {\n",
       "        vertical-align: middle;\n",
       "    }\n",
       "\n",
       "    .dataframe tbody tr th {\n",
       "        vertical-align: top;\n",
       "    }\n",
       "\n",
       "    .dataframe thead th {\n",
       "        text-align: right;\n",
       "    }\n",
       "</style>\n",
       "<table border=\"1\" class=\"dataframe\">\n",
       "  <thead>\n",
       "    <tr style=\"text-align: right;\">\n",
       "      <th></th>\n",
       "      <th>Estatura</th>\n",
       "      <th>Edad</th>\n",
       "      <th>Tipo de dato</th>\n",
       "    </tr>\n",
       "  </thead>\n",
       "  <tbody>\n",
       "    <tr>\n",
       "      <th>0</th>\n",
       "      <td>0.25</td>\n",
       "      <td>2.4</td>\n",
       "      <td>Anomalo</td>\n",
       "    </tr>\n",
       "    <tr>\n",
       "      <th>1</th>\n",
       "      <td>175.10</td>\n",
       "      <td>2.5</td>\n",
       "      <td>Anomalo</td>\n",
       "    </tr>\n",
       "    <tr>\n",
       "      <th>2</th>\n",
       "      <td>0.15</td>\n",
       "      <td>250.0</td>\n",
       "      <td>Anomalo</td>\n",
       "    </tr>\n",
       "    <tr>\n",
       "      <th>3</th>\n",
       "      <td>150.00</td>\n",
       "      <td>14.0</td>\n",
       "      <td>Anomalo</td>\n",
       "    </tr>\n",
       "  </tbody>\n",
       "</table>\n",
       "</div>"
      ],
      "text/plain": [
       "   Estatura   Edad Tipo de dato\n",
       "0      0.25    2.4      Anomalo\n",
       "1    175.10    2.5      Anomalo\n",
       "2      0.15  250.0      Anomalo\n",
       "3    150.00   14.0      Anomalo"
      ]
     },
     "execution_count": 8,
     "metadata": {},
     "output_type": "execute_result"
    }
   ],
   "source": [
    "anomalias = pd.DataFrame({'Estatura':xTest[:,0],'Edad':xTest[:,1],'aux':productProb})\n",
    "anomalias\n",
    "anomalias.loc[(anomalias.aux<=epsilon) , 'Tipo de dato'] = 'Anomalo' \n",
    "anomalias.loc[(anomalias.aux>epsilon) , 'Tipo de dato'] = 'No-Anomalo' \n",
    "anomalias = anomalias.drop(['aux'],axis=1)\n",
    "anomalias"
   ]
  },
  {
   "cell_type": "markdown",
   "metadata": {},
   "source": [
    "## Comentarios:\n",
    "\n",
    "Para el training set, el 100% de las observaciones tomadas eran **no-anomalos** por lo que una observacion anomala, con el correcto epsilon seria facil de verificar. \n",
    "\n",
    "En este tipo de algoritmos, podemos tener data desvalanciada, por lo que no es combeniente usar un accuracy como metrica de evaluacion.\n",
    "\n",
    "Unas posibles metricas de evaluacion, se basan en medir los tipos de errores presentados en la matriz de confusion, precision/recall y F1-Score. \n",
    "\n",
    "Vemos tambien que este algoritmo no requiere de una gran cantidad de datos para ser utilizado (17 datos para este ejemplo), la desventaja es que se puede tener una observacion que no sea anomala y el sistema la detectara como tal (por ejemplo puede existir una persona de 50 años que este tomando la maestria y medir 1.65. Esto es precisamente factible, sin embargo, por la edad puede ser tomada como una observacion anomala)"
   ]
  },
  {
   "cell_type": "code",
   "execution_count": null,
   "metadata": {},
   "outputs": [],
   "source": []
  }
 ],
 "metadata": {
  "kernelspec": {
   "display_name": "Python 3",
   "language": "python",
   "name": "python3"
  },
  "language_info": {
   "codemirror_mode": {
    "name": "ipython",
    "version": 3
   },
   "file_extension": ".py",
   "mimetype": "text/x-python",
   "name": "python",
   "nbconvert_exporter": "python",
   "pygments_lexer": "ipython3",
   "version": "3.6.8"
  }
 },
 "nbformat": 4,
 "nbformat_minor": 2
}
