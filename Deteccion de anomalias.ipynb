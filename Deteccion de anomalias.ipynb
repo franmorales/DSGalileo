{
 "cells": [
  {
   "cell_type": "markdown",
   "metadata": {},
   "source": [
    "# Deteccion de anomalias."
   ]
  },
  {
   "cell_type": "code",
   "execution_count": 1,
   "metadata": {},
   "outputs": [],
   "source": [
    "import scipy.stats as sts\n",
    "import numpy as np\n",
    "import matplotlib.pyplot as plt\n",
    "import pandas as pd"
   ]
  },
  {
   "cell_type": "markdown",
   "metadata": {},
   "source": [
    "### 1. Como primer paso se tienen las features que tomamos del ejemplo en clase:"
   ]
  },
  {
   "cell_type": "code",
   "execution_count": 2,
   "metadata": {},
   "outputs": [],
   "source": [
    "estatura= [1.77,1.74,1.72,1.65,1.85,1.85,1.75,1.73,1.82,1.65,1.79,1.72,1.7,1.57,1.66,1.75,1.77]\n",
    "edad=[26,31,24,32,34,26,21,23,24,25,25,34,26,25,26,27,32]"
   ]
  },
  {
   "cell_type": "markdown",
   "metadata": {},
   "source": [
    "Procedemos a graficar la data de tal forma que nos podemos dar cuenta de las tendencias  que se tienen.:"
   ]
  },
  {
   "cell_type": "code",
   "execution_count": 3,
   "metadata": {
    "scrolled": true
   },
   "outputs": [
    {
     "data": {
      "image/png": "[encoded data removed]",
      "text/plain": [
       "<Figure size 432x288 with 1 Axes>"
      ]
     },
     "metadata": {
      "needs_background": "light"
     },
     "output_type": "display_data"
    }
   ],
   "source": [
    "#plt.scatter(edad, estatura, alpha=0.5)\n",
    "plt.scatter(estatura,edad)\n",
    "plt.xlabel('Edad')\n",
    "plt.ylabel('Estatura')\n",
    "plt.title('Edad vs. Estatura')\n",
    "plt.show()"
   ]
  },
  {
   "cell_type": "markdown",
   "metadata": {},
   "source": [
    "### 2. Luego procedemos a extraer los parametros estadisiticos, obtenemos la media y la desviacion estandard:"
   ]
  },
  {
   "cell_type": "code",
   "execution_count": 4,
   "metadata": {},
   "outputs": [],
   "source": [
    "mu = np.array([np.mean(estatura), np.mean(edad)]) #Vector de medias\n",
    "sigma = np.array([np.std(estatura),np.std(edad)]) #Vector de desviaciones estandards"
   ]
  },
  {
   "cell_type": "code",
   "execution_count": 5,
   "metadata": {},
   "outputs": [
    {
     "data": {
      "text/plain": [
       "array([ 1.73470588, 27.11764706])"
      ]
     },
     "execution_count": 5,
     "metadata": {},
     "output_type": "execute_result"
    }
   ],
   "source": [
    "mu"
   ]
  },
  {
   "cell_type": "code",
   "execution_count": 6,
   "metadata": {},
   "outputs": [
    {
     "data": {
      "text/plain": [
       "array([0.07220214, 3.8330199 ])"
      ]
     },
     "execution_count": 6,
     "metadata": {},
     "output_type": "execute_result"
    }
   ],
   "source": [
    "sigma"
   ]
  },
  {
   "cell_type": "markdown",
   "metadata": {},
   "source": [
    "### 3. Procedemos con la creacion de un ejemplo aleatorio y  la verificio:"
   ]
  },
  {
   "cell_type": "code",
   "execution_count": 7,
   "metadata": {},
   "outputs": [],
   "source": [
    "epsilon  = 0.004\n",
    "xTest = np.array([[1.75,25],\n",
    "                  [1.69,23],\n",
    "                  [1.79,26],\n",
    "                  [3.00,23], #Se prueba con un dato anomalo en la estatura\n",
    "                  [1.76,5], #Se prueba con un dato anomalo en la edad\n",
    "                  [2.00,14]]) #Se prueba con un dato anomalo en la edad y altura"
   ]
  },
  {
   "cell_type": "code",
   "execution_count": 8,
   "metadata": {},
   "outputs": [
    {
     "data": {
      "text/plain": [
       "array([4.82732179e-01, 2.66615433e-01, 4.11067399e-01, 6.64891024e-68,\n",
       "       3.18334826e-08, 1.92697643e-06])"
      ]
     },
     "execution_count": 8,
     "metadata": {},
     "output_type": "execute_result"
    }
   ],
   "source": [
    "productProb = np.prod(np.multiply(np.divide(1,np.sqrt(2*np.pi)*sigma),\n",
    "                                  np.power(np.e,-1*np.divide(np.power(xTest - mu,2),\n",
    "                                  2*np.power(sigma,2)))),axis=1)\n",
    "productProb"
   ]
  },
  {
   "cell_type": "code",
   "execution_count": 9,
   "metadata": {},
   "outputs": [
    {
     "data": {
      "text/html": [
       "<div>\n",
       "<style scoped>\n",
       "    .dataframe tbody tr th:only-of-type {\n",
       "        vertical-align: middle;\n",
       "    }\n",
       "\n",
       "    .dataframe tbody tr th {\n",
       "        vertical-align: top;\n",
       "    }\n",
       "\n",
       "    .dataframe thead th {\n",
       "        text-align: right;\n",
       "    }\n",
       "</style>\n",
       "<table border=\"1\" class=\"dataframe\">\n",
       "  <thead>\n",
       "    <tr style=\"text-align: right;\">\n",
       "      <th></th>\n",
       "      <th>Estatura</th>\n",
       "      <th>Edad</th>\n",
       "      <th>Tipo de dato</th>\n",
       "    </tr>\n",
       "  </thead>\n",
       "  <tbody>\n",
       "    <tr>\n",
       "      <th>0</th>\n",
       "      <td>1.75</td>\n",
       "      <td>25.0</td>\n",
       "      <td>No-Anomalo</td>\n",
       "    </tr>\n",
       "    <tr>\n",
       "      <th>1</th>\n",
       "      <td>1.69</td>\n",
       "      <td>23.0</td>\n",
       "      <td>No-Anomalo</td>\n",
       "    </tr>\n",
       "    <tr>\n",
       "      <th>2</th>\n",
       "      <td>1.79</td>\n",
       "      <td>26.0</td>\n",
       "      <td>No-Anomalo</td>\n",
       "    </tr>\n",
       "    <tr>\n",
       "      <th>3</th>\n",
       "      <td>3.00</td>\n",
       "      <td>23.0</td>\n",
       "      <td>Anomalo</td>\n",
       "    </tr>\n",
       "    <tr>\n",
       "      <th>4</th>\n",
       "      <td>1.76</td>\n",
       "      <td>5.0</td>\n",
       "      <td>Anomalo</td>\n",
       "    </tr>\n",
       "    <tr>\n",
       "      <th>5</th>\n",
       "      <td>2.00</td>\n",
       "      <td>14.0</td>\n",
       "      <td>Anomalo</td>\n",
       "    </tr>\n",
       "  </tbody>\n",
       "</table>\n",
       "</div>"
      ],
      "text/plain": [
       "   Estatura  Edad Tipo de dato\n",
       "0      1.75  25.0   No-Anomalo\n",
       "1      1.69  23.0   No-Anomalo\n",
       "2      1.79  26.0   No-Anomalo\n",
       "3      3.00  23.0      Anomalo\n",
       "4      1.76   5.0      Anomalo\n",
       "5      2.00  14.0      Anomalo"
      ]
     },
     "execution_count": 9,
     "metadata": {},
     "output_type": "execute_result"
    }
   ],
   "source": [
    "anomalias = pd.DataFrame({'Estatura':xTest[:,0],'Edad':xTest[:,1],'aux':productProb})\n",
    "anomalias\n",
    "anomalias.loc[(anomalias.aux<=epsilon) , 'Tipo de dato'] = 'Anomalo' \n",
    "anomalias.loc[(anomalias.aux>epsilon) , 'Tipo de dato'] = 'No-Anomalo' \n",
    "anomalias = anomalias.drop(['aux'],axis=1)\n",
    "anomalias"
   ]
  },
  {
   "cell_type": "markdown",
   "metadata": {},
   "source": [
    "## Comentarios:\n",
    "\n",
    "Para el training set, el 100% de las observaciones tomadas eran **no-anomalos** por lo que una observacion anomala, con el correcto epsilon seria facil de verificar. \n",
    "\n",
    "En este tipo de algoritmos, podemos tener data desvalanciada, por lo que no es combeniente usar un accuracy como metrica de evaluacion.\n",
    "\n",
    "Unas posibles metricas de evaluacion, se basan en medir los tipos de errores presentados en la matriz de confusion, precision/recall y F1-Score. \n",
    "\n",
    "Vemos tambien que este algoritmo no requiere de una gran cantidad de datos para ser utilizado (17 datos para este ejemplo), la desventaja es que se puede tener una observacion que no sea anomala y el sistema la detectara como tal (por ejemplo puede existir una persona de 50 años que este tomando la maestria y medir 1.65. Esto es precisamente factible, sin embargo, por la edad puede ser tomada como una observacion anomala)"
   ]
  }
 ],
 "metadata": {
  "kernelspec": {
   "display_name": "Python 3",
   "language": "python",
   "name": "python3"
  },
  "language_info": {
   "codemirror_mode": {
    "name": "ipython",
    "version": 3
   },
   "file_extension": ".py",
   "mimetype": "text/x-python",
   "name": "python",
   "nbconvert_exporter": "python",
   "pygments_lexer": "ipython3",
   "version": "3.6.8"
  }
 },
 "nbformat": 4,
 "nbformat_minor": 2
}
