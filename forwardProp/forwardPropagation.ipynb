{
 "cells": [
  {
   "cell_type": "code",
   "execution_count": 6,
   "metadata": {},
   "outputs": [],
   "source": [
    "import numpy as np\n",
    "import matplotlib.pyplot as plt"
   ]
  },
  {
   "cell_type": "markdown",
   "metadata": {},
   "source": [
    "**Se aplicara forward propagation al siguiente modelo para la creacion de la funcion XOR:**\n",
    "\n",
    "<img src=\"forwProp.png\">\n",
    "\n",
    "Dada la naturalez del problema, utilizaremos la funcion binary step como funcion de activacion: \n",
    "\n",
    "<img src=\"actFunc.png\">\n",
    "\n",
    "\n",
    "Ahora, procedemos con settear los valores de nuestro modelo. Se tendran dos matrices de pesos, una para la capa oculta y otra para la capa de salida:"
   ]
  },
  {
   "cell_type": "code",
   "execution_count": 8,
   "metadata": {},
   "outputs": [],
   "source": [
    "#Matriz de pesos de la capa oculta:\n",
    "w01 = np.array([[20,20,-10],   #Primera neurona.\n",
    "                [-20,-20,30]]) #Segunda neurona.\n",
    "\n",
    "#Matriz de pesos de la salida:\n",
    "w02 = np.array([20,20,-30])\n",
    "\n",
    "#Datos de entrada:\n",
    "X = np.array([[0,0],[0,1],[1,0],[1,1]])\n",
    "\n",
    "#Datos de salida:\n",
    "\n",
    "Y = np.array([[0],[1],[1],[0]])"
   ]
  },
  {
   "cell_type": "markdown",
   "metadata": {},
   "source": [
    "Ahora, para tener un diseño mas modular, crearemos funciones, tanto para la funcion de activacion como para el desarrollo de forward-propagation:\n",
    "\n",
    "Nota: Hay que tomar en cuenta que la funcion de activacion se aplica unicamente a los datos de salida."
   ]
  },
  {
   "cell_type": "code",
   "execution_count": 89,
   "metadata": {},
   "outputs": [],
   "source": [
    "#Funcion de activacion:\n",
    "def activFunc(x):\n",
    "    '''\n",
    "    Funcion de activacion binary step. Devuelve 0 para valores negativos y 1 para valores positivos.\n",
    "    Input: Un vector de cualquier shape.\n",
    "    Output: Un vector del mismo shape.\n",
    "    '''\n",
    "    return (x>=0)*1.0\n",
    "\n",
    "#Creacion de la funcion forwardPropagation:\n",
    "def forwardProp(x=X):\n",
    "    '''\n",
    "    Se aplica forward propagation al modelo:\n",
    "    '''\n",
    "    #Forward Propagation para la capa oculta:\n",
    "    Z_01 = np.matmul(x,w01.transpose())\n",
    "    \n",
    "    #Agregando el bias a la salida de la primera capa y aplicando la funcion de activacion:\n",
    "    a_01 = activFunc(np.append(Z_01,biasColumn, axis=1))\n",
    "    \n",
    "    #Forward Propagation para la capa de salida:\n",
    "    Z_02 = np.matmul(a_01,w02.transpose())\n",
    "    \n",
    "    #Aplicando la funcion de activacion:\n",
    "    a_02 = activFunc(Z_02)\n",
    "    \n",
    "    return(a_02,a_01)"
   ]
  },
  {
   "cell_type": "markdown",
   "metadata": {},
   "source": [
    "Ahora aplicamos el modelo a los valores de entrada:"
   ]
  },
  {
   "cell_type": "code",
   "execution_count": 84,
   "metadata": {},
   "outputs": [
    {
     "data": {
      "text/plain": [
       "array([[0],\n",
       "       [1],\n",
       "       [1],\n",
       "       [0]])"
      ]
     },
     "execution_count": 84,
     "metadata": {},
     "output_type": "execute_result"
    }
   ],
   "source": [
    "Y"
   ]
  },
  {
   "cell_type": "code",
   "execution_count": 93,
   "metadata": {},
   "outputs": [
    {
     "name": "stdout",
     "output_type": "stream",
     "text": [
      "[0. 1. 1. 0.]\n"
     ]
    }
   ],
   "source": [
    "outModel = forwardProp(x = np.append(X,biasColumn, axis=1))\n",
    "print(outModel[0])"
   ]
  },
  {
   "cell_type": "code",
   "execution_count": 95,
   "metadata": {},
   "outputs": [
    {
     "data": {
      "text/plain": [
       "array([[0., 1., 1.],\n",
       "       [1., 1., 1.],\n",
       "       [1., 1., 1.],\n",
       "       [1., 0., 1.]])"
      ]
     },
     "execution_count": 95,
     "metadata": {},
     "output_type": "execute_result"
    }
   ],
   "source": [
    "outModel[1]"
   ]
  },
  {
   "cell_type": "markdown",
   "metadata": {},
   "source": [
    "El modelo funciona correctamente! (tomar en cuenta que el vector de salida \"outModel[0]\" muestra la salida del modelo para todo el tensor de entrada, es decir los cuatro posibles valores de X. Para la primera entrada (0,0) en X, la respuesta es cero, para la segunda entrada (1,1) la respuesta es 1 y asi sucesivamente) \n",
    "\n",
    "### Graficas: \n",
    "\n",
    "La salida de la primera capa estan en la varible a_01 de la funcion forwardProp, h1 es la primera columna y h2 la segunda. La salida de la tercera neurona, es la salida del modelo en si, por lo tanto tendremos tres gráficas (una por cada neurona)."
   ]
  },
  {
   "cell_type": "code",
   "execution_count": 112,
   "metadata": {},
   "outputs": [],
   "source": [
    "outNeurona01 = outModel[1][:,0]\n",
    "outNeurona02 = outModel[1][:,1]\n",
    "outNeurona03 = outModel[0]\n",
    "X01 = X[:,0]\n",
    "X02 = X[:,1]"
   ]
  },
  {
   "cell_type": "code",
   "execution_count": 190,
   "metadata": {},
   "outputs": [
    {
     "data": {
      "text/plain": [
       "Text(0, 0.5, 'x2')"
      ]
     },
     "execution_count": 190,
     "metadata": {},
     "output_type": "execute_result"
    },
    {
     "data": {
      "image/png": "[encoded data removed]",
      "text/plain": [
       "<Figure size 1152x288 with 3 Axes>"
      ]
     },
     "metadata": {
      "needs_background": "light"
     },
     "output_type": "display_data"
    }
   ],
   "source": [
    "plt.figure(figsize=(16, 4))\n",
    "\n",
    "plt.subplot(2,3,1)\n",
    "plt.scatter(X01[outNeurona01>=1], X02[outNeurona01>=1], marker='^', label='1')\n",
    "plt.scatter(X01[outNeurona01<1], X02[outNeurona01<1], marker='s', label='0')\n",
    "plt.legend()\n",
    "plt.title(\"Salida Neurona 01\")\n",
    "plt.xlabel(\"x1\")\n",
    "plt.ylabel(\"x2\")\n",
    "\n",
    "plt.subplot(2,3,2)\n",
    "plt.scatter(X01[outNeurona02>=1], X02[outNeurona02>=1], marker='^', label='1')\n",
    "plt.scatter(X01[outNeurona02<1], X02[outNeurona02<1], marker='s', label='0')\n",
    "plt.legend()\n",
    "plt.title(\"Salida Neurona 02\")\n",
    "plt.xlabel(\"x1\")\n",
    "plt.ylabel(\"x2\")\n",
    "\n",
    "plt.subplot(2,3,3)\n",
    "plt.scatter(X01[outNeurona03>=1], X02[outNeurona03>=1], marker='^', label='1')\n",
    "plt.scatter(X01[outNeurona03<1], X02[outNeurona03<1], marker='s', label='0')\n",
    "plt.legend()\n",
    "plt.title(\"Salida Neurona 03\")\n",
    "plt.xlabel(\"x1\")\n",
    "plt.ylabel(\"x2\")"
   ]
  },
  {
   "cell_type": "markdown",
   "metadata": {},
   "source": [
    "## Conclusiones:\n",
    "\n",
    "* La primera neurona de la capa oculta, devuelve una salida cero unicamente cuando los valores de entrada son ceros ambos, por tanto, la primera neurona funciona como una compuerta **OR**\n",
    "\n",
    "\n",
    "* La segunda neurona de funciona funciona como una compuerta **and negada (NAND)** puesto que devuelve cero unicamente cuando los dos valores de entrada son 1.\n",
    "\n",
    "\n",
    "* Por ultimo, vemos que la tercera neurona ya devuelve el comportamiento deseado, puesto que es la capa de salida.\n",
    "\n",
    "\n",
    "* Al momento de explorar las capas intermedias se vuelve evidente la aplicacion de funciones compuestas para obtener el comportamiento deseado."
   ]
  },
  {
   "cell_type": "code",
   "execution_count": null,
   "metadata": {},
   "outputs": [],
   "source": []
  }
 ],
 "metadata": {
  "kernelspec": {
   "display_name": "Python 3",
   "language": "python",
   "name": "python3"
  },
  "language_info": {
   "codemirror_mode": {
    "name": "ipython",
    "version": 3
   },
   "file_extension": ".py",
   "mimetype": "text/x-python",
   "name": "python",
   "nbconvert_exporter": "python",
   "pygments_lexer": "ipython3",
   "version": "3.6.8"
  }
 },
 "nbformat": 4,
 "nbformat_minor": 2
}
