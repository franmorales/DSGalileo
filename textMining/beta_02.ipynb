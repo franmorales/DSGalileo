{
 "cells": [
  {
   "cell_type": "code",
   "execution_count": 1,
   "metadata": {},
   "outputs": [],
   "source": [
    "import numpy as np\n",
    "import pandas as pd\n",
    "import re"
   ]
  },
  {
   "cell_type": "code",
   "execution_count": 2,
   "metadata": {},
   "outputs": [],
   "source": [
    "#Cargando el .txt a una lista\n",
    "with open('argentina.txt') as f:\n",
    "    sentence_list = [[s.strip()] for s in f]\n",
    "f.close()"
   ]
  },
  {
   "cell_type": "code",
   "execution_count": 3,
   "metadata": {},
   "outputs": [],
   "source": [
    "#sentence_list"
   ]
  },
  {
   "cell_type": "code",
   "execution_count": 4,
   "metadata": {},
   "outputs": [],
   "source": [
    "#Eliminando los caracteres de fin de linea de la lista\n",
    "superString = ''\n",
    "for element in sentence_list:\n",
    "    #if len(element[0]) != 0:\n",
    "    superString += ' ' + element[0] + ' '\n",
    "    \n",
    "#Trabajando con minusculas unicamente\n",
    "superString = superString.lower()\n",
    "\n",
    "#Limpiando los strings\n",
    "superString = re.sub('\\W',' ', superString)"
   ]
  },
  {
   "cell_type": "code",
   "execution_count": 5,
   "metadata": {},
   "outputs": [],
   "source": [
    "#superString"
   ]
  },
  {
   "cell_type": "markdown",
   "metadata": {},
   "source": [
    "key words  = penal, tiro, falta, gol, tarjeta\n",
    "\n",
    "Normailizaciones de la palabra gol:\n",
    "Gooool, golazo, golasasazo\n",
    "\n",
    "Normalizacion de la palabra penal:\n",
    "Penalti"
   ]
  },
  {
   "cell_type": "code",
   "execution_count": 6,
   "metadata": {},
   "outputs": [],
   "source": [
    "#Normalizacion de penal:\n",
    "superString = re.sub(r'penal+[\\w]{2,}', 'penal', superString)"
   ]
  },
  {
   "cell_type": "code",
   "execution_count": 7,
   "metadata": {
    "scrolled": false
   },
   "outputs": [
    {
     "data": {
      "text/plain": [
       "'   comenzó el partido  rueda el balón     tiro libre para argentina  tira riquelme  falta argentina  ahora tiro libre para alemania     tensión  el aire puede cortarse  tal es la tensión en berlín     tarjeta amarilla  para podolski  por falta    nervios  bastante nervioso ha comenzado el partido  hasta ahora ninguna jugada hilvanada     tiro libre para alemania  a unos 28 metros del arco argentino     tira podolski  abbondanzieri atrapa en el segundo intento     tiro de esquina para argentina  tirado bajo al primer palo  la defensa alemana despeja     tiro libre para argentina  sesgado al arco  pero lehmann atrapa     más calmado  ahora el partido se ha calmado un poco     control  el árbitro  con un par de amonestaciones y una tarjeta amarilla  tiene ahora el partido bajo control     incursiones  argentina incursiona sobre todo por la derecha  a través de tévez y sorín     cabezazo  de ballack en el área grande  sobre el arco de abbondanzieri  luego de centro de schneider  pero el balón se pierde por centímetros afuera     media vuelta  de mertesacker  desde el borde del área grande  sale por encima del travesaño afuera     tiro de esquina para argentina  otra vez al primer palo  pero la pelota sale afuera     creación  a los 20 minutos  más elementos creativos para argentina  alemania metida muy atrás   táctica  la táctica de klinsmann  de entrar por las puntas  no da resultados hasta ahora       dominada   alemania se saca algo de encima a argentina  alemania ahora con más pelota dominada     pérdidas  no obstante  muchas pérdidas de pelotas alemanas después de dos o tres pases     precisión  falta precisión  sobre todo en el once alemán     lo esperado  en la primera media hora  el partido muy apretado  cerrado  peleado  con gran intensidad  pero sin momentos brillantes     empujones  partido interrumpido a menudo por saques de costado  tiros libres  empujones     tensión  no es un partido bonito  pero sí con una gran tensión       perdidos  los puntas de lanza alemanes bastante perdidos adelante     fuerza  argentina con más fuerza  más agresiva  alemania no encuentra su juego     pases largos  alemania lo intenta con pelotas largas  pero el balón generalmente cae en un pie argentino   elevación  las variantes son claras  mientras que argentina juega al pase corto y al ras  alemania lo intenta con pases largos y por elevación       tiro libre  tiro libre para alemania  podolski es detenido por heinze  que lo agarra de la camiseta  casi un tiro de esquina  desde la derecha     terminó el primer tiempo  la verdad es que este primer tiempo de fútbol bonito tuvo poco  mucha tensión  mucha pelea  pero ninguna oportunidad de gol  argentina cierra muy bien los espacios  alemania no encuentra la receta  un partido desaconsejado para cardiacos       comenzó el segundo tiempo  rueda nuevamente la pelota        tarjeta amarilla   para sorín  por foul      goooooool de argentina   tiro de esquina  que ejecuta riquelme desde la derecha  ayala salta y convierte     nada que perder  ahora sí  alemania no tiene nada más que perder  el partido puede ponerse interesante   más  efectivamente  alemania va ahora más para adelante     se abre  el partido se abre  al fútbol le hace bien     posesión  alemania con más posesión de pelota ahora     levantados  el público se levanta en las tribunas  nadie puede quedarse sentado     tarjeta amarilla  para mascherano  por foul contra schneider  al borde del área grande argentina  por la derecha  tiro libre para alemania  sin consecuencias     cambio en alemania  entra odonkor  sale schneider     tiro de esquina para alemania  sin consecuencias     tiro de esquina para alemania  ballack empalma  la pelota rebota en el suelo  la defensa argentina despeja     encontronazo  abbondanzieri es atendido en el área argentina  luego de encontronazo con klose  el guardameta se recupera     tiro de esquina para alemania  esta vez desde la izquierda  sin consecuencias     media cancha  argentina bajó bastante a su propia media cancha     cambio en argentina  sale abbondanzieri  lesionado  entra leonardo franco  el guardameta titular del atlético madrid   cambio en argentina  entra cambiasso  sale riquelme  chiflidos en la tribuna de los argentinos     error  error de lahm  la pelota termina en los pies de maxi rodríguez  que dispara desde la derecha de corta distancia  pero la pelota da en la red por la parte de afuera     tiro libre para alemania  al borde del área grande argentina  por foul contra odonkor  a unos 24 metros del arco argentino  sin consecuencias     cambio en alemania  sale schweinsteiger  entra borowski     cambio en argentina  sale hernán crespo  entra julio cruz  del milán      goooool de alemania   ballack levanta centro desde la derecha  a la cabeza de borowski  que pasa a klose  quien manda la pelota a la red   también de cabeza  tres cabezazos  un gol     parámetros  el partido comienza de nuevo  pero ahora con otros parámetros    riquelme está afuera  crespo está afuera  argentina  dispuesta a defender la ventaja  se ve confrontada ahora con un empate     cambio en alemania  entra neuville  sale klose  el que hizo el gol     cuatro minutos  cuatro minutos para terminar el tiempo reglamentario   habrá alargue     tarjeta amarilla  por tirarse en el área grande alemana  marcado por lahm     peligro en el área alemana  pero tévez fuera de juego  no obstante  lehmann había detenido     cuatro minutos  de tiempo complementario  se lee en el cartel     tiro de esquina para argentina  desde la derecha  lehmann atrapa     tarjeta amarilla  para odonkor  por foul     terminó el tiempo reglamentario   ahora  al alargue     vamos  comienza el alargue     una caldera  berlín hierve     atendido  tévez es atendido afuera  sangrando por la nariz luego de un encontronazo con frings  pero que no había sido falta     tarjeta amarilla  para julio cruz  por meterle un codazo a lahm  que queda marcado en el rostro     atrás  argentina se queda metida ahora bastante atrás     amonestación  el árbitro amonesta a ayala por bajar a ballack en el área con la mano  no se atrevió a cobrar penal     inversión  alemania está invirtiendo más que los argentinos en el alargue   especula argentina con los penal     tiro de esquina para alemania  cabecea metzelder  pero apremiado  pelota afuera     apuestas  argentina espera una desatención de alemania  fútbol de apuestas       atando  odonkor ata bastante a sorín por la derecha  que no se puede despegar ahora con tanta facilidad como al principio       terminó la primera parte del alargue  alemania da la impresión de estar algo más fresca  menos cansada que argentina  pero no quiere decir nada       comenzaron los últimos 15 minutos  ahora  al todo por el todo       tiro de esquina para argentina  sin consecuencias     centro  centro hacia el área argentina  de odonkor  pero el árbitro pita  tiro libre para los albicelestes     tiro de esquina para argentina  desde la derecha  sin consecuencias     poco tiempo  ocho minutos hasta los penal     intento  tiro de larga distancia de coloccini  que se pierde afuera     tarjeta amarilla  para friedrichs  por falta contra tévez     peligro  odonkor con centro bajo en dirección al arco argentino  desde la derecha  pero franco atrapa     tribunas  tiro de tévez desde afuera del área grande  a las tribunas     guerra de nervios  dos minutos para terminar el alargue     tiro libre para argentina  desde la derecha  sin consecuencias     terminó el alargue   ahora  a los penal     guardametas  los guardametas  leonardo franco  argentina  y jens lehmann  alemania    cuál será el héroe de la jornada     primer penal  tira el alemán neuville      goooool de alemania       julio cruz tira para argentina      goooool de argentina       tira michael ballack para alemania      gooooool de alemania       ayala dispara para argentina     lehmann ataja        gooool de alemania        goooool de argentina       tira borowski para alemania     gooool de alemania       tira cambiasso     lehmann ataja        alemania a semifinal     argentina eliminada  varios jugadores argentinos atacan a los alemanes   qué feo     argentina llora  fue como una pelea de boxeo  al final  argentina cae noqueda por dos penal atajados por lehmann  argentina llora  '"
      ]
     },
     "execution_count": 7,
     "metadata": {},
     "output_type": "execute_result"
    }
   ],
   "source": [
    "superString"
   ]
  },
  {
   "cell_type": "code",
   "execution_count": 8,
   "metadata": {},
   "outputs": [],
   "source": [
    "superStringList  = superString.split()\n",
    "clusterDict = {'gol':[], 'tiro':[],'penal':[],'falta':[]}\n",
    "finalStats = {'gol':[3,0], 'penales':[1,0], 'tiros libres':[1,0], 'tiros de esquina':[1,0]}\n",
    "trustRegionCluster = 5"
   ]
  },
  {
   "cell_type": "code",
   "execution_count": 9,
   "metadata": {},
   "outputs": [],
   "source": [
    "#Creacion de clusters para cada keyWord definida en clusterDict.\n",
    "for indexing in range(len(superStringList)):\n",
    "    if superStringList[indexing] in clusterDict.keys():\n",
    "        clusterDict[superStringList[indexing]].append(superStringList[indexing-5:indexing+5])        "
   ]
  },
  {
   "cell_type": "code",
   "execution_count": 10,
   "metadata": {},
   "outputs": [],
   "source": [
    "for subClust in clusterDict['tiro']:\n",
    "    if 'libre' in subClust:\n",
    "        finalStats['tiros libres'][1] += 1\n",
    "    elif 'esquina' in subClust:\n",
    "        finalStats['tiros de esquina'][1] += 1\n",
    "\n",
    "for subClust in clusterDict['penal']:\n",
    "    if 'penal' in subClust:\n",
    "        finalStats['penales'][1] += 1"
   ]
  },
  {
   "cell_type": "code",
   "execution_count": 11,
   "metadata": {
    "scrolled": true
   },
   "outputs": [],
   "source": [
    "#clusterDict['tiro']"
   ]
  },
  {
   "cell_type": "code",
   "execution_count": 12,
   "metadata": {
    "scrolled": true
   },
   "outputs": [
    {
     "data": {
      "text/plain": [
       "{'gol': [3, 0],\n",
       " 'penales': [1, 6],\n",
       " 'tiros libres': [1, 11],\n",
       " 'tiros de esquina': [1, 10]}"
      ]
     },
     "execution_count": 12,
     "metadata": {},
     "output_type": "execute_result"
    }
   ],
   "source": [
    "finalStats"
   ]
  },
  {
   "cell_type": "markdown",
   "metadata": {},
   "source": [
    "Retos para mejoras:\n",
    "\n",
    "* Crear los Clusters de forma tal que perminta realizar ngrams "
   ]
  }
 ],
 "metadata": {
  "kernelspec": {
   "display_name": "Python 3",
   "language": "python",
   "name": "python3"
  },
  "language_info": {
   "codemirror_mode": {
    "name": "ipython",
    "version": 3
   },
   "file_extension": ".py",
   "mimetype": "text/x-python",
   "name": "python",
   "nbconvert_exporter": "python",
   "pygments_lexer": "ipython3",
   "version": "3.6.8"
  }
 },
 "nbformat": 4,
 "nbformat_minor": 2
}
