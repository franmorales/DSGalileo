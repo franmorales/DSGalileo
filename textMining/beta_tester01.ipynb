{
 "cells": [
  {
   "cell_type": "markdown",
   "metadata": {},
   "source": [
    "## Etapa de preprocesamiento de data"
   ]
  },
  {
   "cell_type": "code",
   "execution_count": 1,
   "metadata": {},
   "outputs": [
    {
     "name": "stderr",
     "output_type": "stream",
     "text": [
      "[nltk_data] Downloading package wordnet to\n",
      "[nltk_data]     /Users/FranciscoMorales/nltk_data...\n",
      "[nltk_data]   Package wordnet is already up-to-date!\n"
     ]
    }
   ],
   "source": [
    "import numpy as np\n",
    "import pandas as pd\n",
    "import nltk\n",
    "import re\n",
    "from nltk.stem.snowball import SnowballStemmer\n",
    "englishStemmer=SnowballStemmer(\"spanish\")\n",
    "from nltk.stem import WordNetLemmatizer\n",
    "nltk.download('wordnet')\n",
    "from nltk.stem import PorterStemmer\n",
    " \n",
    "stemmer = PorterStemmer()\n",
    " \n",
    "lemmatizer = WordNetLemmatizer()"
   ]
  },
  {
   "cell_type": "markdown",
   "metadata": {},
   "source": [
    "* Pruebas de stemmers en español"
   ]
  },
  {
   "cell_type": "code",
   "execution_count": 2,
   "metadata": {},
   "outputs": [
    {
     "data": {
      "text/plain": [
       "'penalty'"
      ]
     },
     "execution_count": 2,
     "metadata": {},
     "output_type": "execute_result"
    }
   ],
   "source": [
    "englishStemmer.stem(\"penalty\")"
   ]
  },
  {
   "cell_type": "code",
   "execution_count": 3,
   "metadata": {},
   "outputs": [
    {
     "name": "stdout",
     "output_type": "stream",
     "text": [
      "have\n"
     ]
    }
   ],
   "source": [
    "print(lemmatizer.lemmatize('having', pos=\"v\"))"
   ]
  },
  {
   "cell_type": "code",
   "execution_count": 4,
   "metadata": {},
   "outputs": [],
   "source": [
    "listaPalabras = []"
   ]
  },
  {
   "cell_type": "code",
   "execution_count": 5,
   "metadata": {},
   "outputs": [],
   "source": [
    "#Cargando el .txt a una lista\n",
    "with open('prueba02.txt') as f:\n",
    "    sentence_list = [[s.strip()] for s in f]\n",
    "f.close()"
   ]
  },
  {
   "cell_type": "code",
   "execution_count": 6,
   "metadata": {},
   "outputs": [],
   "source": [
    "#Eliminando los caracteres de fin de linea de la lista\n",
    "for element in sentence_list:\n",
    "    if len(element[0]) != 0:\n",
    "        listaPalabras.append(element[0])"
   ]
  },
  {
   "cell_type": "code",
   "execution_count": 7,
   "metadata": {
    "scrolled": false
   },
   "outputs": [
    {
     "data": {
      "text/plain": [
       "['Luego de pasar la mitad del campo Juan Carlos plata se dirige \\\\',\n",
       " 'por el costado izquierdo haciendo un pase al pescadito Ruiz el cual \\\\',\n",
       " 'esquiva con una espectacular jugada a dos de sus contrincantes. Y estamos \\\\',\n",
       " 'llegando a nuestro 38 de juego toca la pelota el arquero de Guatemala con el \\\\',\n",
       " 'despeje largo el balón arriba, lo tiene una vez más el cuadro guatemalteco y \\\\',\n",
       " 'ahora la falta fue del jugador costarricense espera tiro libre para la selección \\\\',\n",
       " 'nacional de Guatemala. Balon para Marcelo pierde la pelota pero la recupera remata \\\\',\n",
       " 'con la pierna izquierda gol gol gol gol gol gol gol']"
      ]
     },
     "execution_count": 7,
     "metadata": {},
     "output_type": "execute_result"
    }
   ],
   "source": [
    "listaPalabras"
   ]
  },
  {
   "cell_type": "code",
   "execution_count": 8,
   "metadata": {},
   "outputs": [],
   "source": [
    "testTring = \"The film, '@Pulp Fiction' was ? released _ in % $ year 1994.\""
   ]
  },
  {
   "cell_type": "code",
   "execution_count": 9,
   "metadata": {},
   "outputs": [],
   "source": [
    "result = re.sub('\\W',' ', testTring)"
   ]
  },
  {
   "cell_type": "code",
   "execution_count": 10,
   "metadata": {},
   "outputs": [
    {
     "data": {
      "text/plain": [
       "'The film    Pulp Fiction  was   released _ in     year 1994 '"
      ]
     },
     "execution_count": 10,
     "metadata": {},
     "output_type": "execute_result"
    }
   ],
   "source": [
    "result"
   ]
  },
  {
   "cell_type": "code",
   "execution_count": 11,
   "metadata": {
    "scrolled": true
   },
   "outputs": [
    {
     "data": {
      "text/plain": [
       "['The',\n",
       " 'film',\n",
       " 'Pulp',\n",
       " 'Fiction',\n",
       " 'was',\n",
       " 'released',\n",
       " '_',\n",
       " 'in',\n",
       " 'year',\n",
       " '1994']"
      ]
     },
     "execution_count": 11,
     "metadata": {},
     "output_type": "execute_result"
    }
   ],
   "source": [
    "result.split()"
   ]
  },
  {
   "cell_type": "code",
   "execution_count": 12,
   "metadata": {},
   "outputs": [],
   "source": [
    "#Creando el superString\n",
    "superString  = ''\n",
    "for element in listaPalabras:\n",
    "    superString = superString + str(element)"
   ]
  },
  {
   "cell_type": "code",
   "execution_count": 13,
   "metadata": {},
   "outputs": [],
   "source": [
    "#quitando caracteres no alpha numericos.\n",
    "cleanWords = re.sub('\\W',' ',superString.lower())"
   ]
  },
  {
   "cell_type": "code",
   "execution_count": 14,
   "metadata": {},
   "outputs": [
    {
     "data": {
      "text/plain": [
       "'luego de pasar la mitad del campo juan carlos plata se dirige  por el costado izquierdo haciendo un pase al pescadito ruiz el cual  esquiva con una espectacular jugada a dos de sus contrincantes  y estamos  llegando a nuestro 38 de juego toca la pelota el arquero de guatemala con el  despeje largo el balón arriba  lo tiene una vez más el cuadro guatemalteco y  ahora la falta fue del jugador costarricense espera tiro libre para la selección  nacional de guatemala  balon para marcelo pierde la pelota pero la recupera remata  con la pierna izquierda gol gol gol gol gol gol gol'"
      ]
     },
     "execution_count": 14,
     "metadata": {},
     "output_type": "execute_result"
    }
   ],
   "source": [
    "cleanWords"
   ]
  },
  {
   "cell_type": "code",
   "execution_count": 15,
   "metadata": {
    "scrolled": true
   },
   "outputs": [],
   "source": [
    "#Creacion de mini cluster 20 palabras (aprox de numero de palabras dichas en 30 segundos)\n",
    "clusters = []\n",
    "cleanList = cleanWords.split()\n",
    "for i in range(len(cleanList)//20):\n",
    "    clusters.append(cleanList[i*20:(i+1)*20])\n",
    "clusters.append(cleanList[20*(len(cleanList)//20):])"
   ]
  },
  {
   "cell_type": "code",
   "execution_count": 16,
   "metadata": {},
   "outputs": [
    {
     "data": {
      "text/plain": [
       "2"
      ]
     },
     "execution_count": 16,
     "metadata": {},
     "output_type": "execute_result"
    }
   ],
   "source": [
    "len(cleanList)%20"
   ]
  },
  {
   "cell_type": "code",
   "execution_count": 17,
   "metadata": {},
   "outputs": [
    {
     "data": {
      "text/plain": [
       "102"
      ]
     },
     "execution_count": 17,
     "metadata": {},
     "output_type": "execute_result"
    }
   ],
   "source": [
    "len(cleanList)"
   ]
  },
  {
   "cell_type": "code",
   "execution_count": 18,
   "metadata": {},
   "outputs": [
    {
     "data": {
      "text/plain": [
       "6"
      ]
     },
     "execution_count": 18,
     "metadata": {},
     "output_type": "execute_result"
    }
   ],
   "source": [
    "len(clusters)"
   ]
  },
  {
   "cell_type": "code",
   "execution_count": 19,
   "metadata": {},
   "outputs": [
    {
     "name": "stdout",
     "output_type": "stream",
     "text": [
      "[['luego', 'de', 'pasar', 'la', 'mitad', 'del', 'campo', 'juan', 'carlos', 'plata', 'se', 'dirige', 'por', 'el', 'costado', 'izquierdo', 'haciendo', 'un', 'pase', 'al'], ['pescadito', 'ruiz', 'el', 'cual', 'esquiva', 'con', 'una', 'espectacular', 'jugada', 'a', 'dos', 'de', 'sus', 'contrincantes', 'y', 'estamos', 'llegando', 'a', 'nuestro', '38'], ['de', 'juego', 'toca', 'la', 'pelota', 'el', 'arquero', 'de', 'guatemala', 'con', 'el', 'despeje', 'largo', 'el', 'balón', 'arriba', 'lo', 'tiene', 'una', 'vez'], ['más', 'el', 'cuadro', 'guatemalteco', 'y', 'ahora', 'la', 'falta', 'fue', 'del', 'jugador', 'costarricense', 'espera', 'tiro', 'libre', 'para', 'la', 'selección', 'nacional', 'de'], ['guatemala', 'balon', 'para', 'marcelo', 'pierde', 'la', 'pelota', 'pero', 'la', 'recupera', 'remata', 'con', 'la', 'pierna', 'izquierda', 'gol', 'gol', 'gol', 'gol', 'gol'], ['gol', 'gol']]\n"
     ]
    }
   ],
   "source": [
    "print(clusters)"
   ]
  },
  {
   "cell_type": "code",
   "execution_count": 20,
   "metadata": {
    "scrolled": true
   },
   "outputs": [
    {
     "data": {
      "text/plain": [
       "['luego',\n",
       " 'de',\n",
       " 'pasar',\n",
       " 'la',\n",
       " 'mitad',\n",
       " 'del',\n",
       " 'campo',\n",
       " 'juan',\n",
       " 'carlos',\n",
       " 'plata',\n",
       " 'se',\n",
       " 'dirige',\n",
       " 'por',\n",
       " 'el',\n",
       " 'costado',\n",
       " 'izquierdo',\n",
       " 'haciendo',\n",
       " 'un',\n",
       " 'pase',\n",
       " 'al']"
      ]
     },
     "execution_count": 20,
     "metadata": {},
     "output_type": "execute_result"
    }
   ],
   "source": [
    "clusters[0]"
   ]
  },
  {
   "cell_type": "markdown",
   "metadata": {},
   "source": [
    "## Etapa de deteccion de keywords"
   ]
  },
  {
   "cell_type": "code",
   "execution_count": 21,
   "metadata": {},
   "outputs": [],
   "source": [
    "keyWords = {'gol':[3,0], 'penales':[1,0], 'faltas':[1,0], 'corner':[1,0]}"
   ]
  },
  {
   "cell_type": "code",
   "execution_count": 22,
   "metadata": {},
   "outputs": [],
   "source": [
    "for cluster in clusters:\n",
    "    for kw in list(keyWords.keys()):\n",
    "        if kw in cluster:\n",
    "            if cluster.count(kw) >= keyWords[kw][0]:\n",
    "                keyWords[kw][1] += 1                "
   ]
  },
  {
   "cell_type": "code",
   "execution_count": 23,
   "metadata": {},
   "outputs": [
    {
     "name": "stdout",
     "output_type": "stream",
     "text": [
      "gol\n",
      "penales\n",
      "faltas\n",
      "corner\n"
     ]
    }
   ],
   "source": [
    "for kw in list(keyWords.keys()):\n",
    "    print(kw)"
   ]
  },
  {
   "cell_type": "code",
   "execution_count": 24,
   "metadata": {},
   "outputs": [],
   "source": [
    "test = ['hola','mundo']\n",
    "testString = 'esto es un hola no mundo en'"
   ]
  },
  {
   "cell_type": "code",
   "execution_count": 25,
   "metadata": {},
   "outputs": [
    {
     "data": {
      "text/plain": [
       "'esto es un hola no mundo en'"
      ]
     },
     "execution_count": 25,
     "metadata": {},
     "output_type": "execute_result"
    }
   ],
   "source": [
    "testString"
   ]
  },
  {
   "cell_type": "code",
   "execution_count": 26,
   "metadata": {},
   "outputs": [
    {
     "data": {
      "text/plain": [
       "True"
      ]
     },
     "execution_count": 26,
     "metadata": {},
     "output_type": "execute_result"
    }
   ],
   "source": [
    "'hola' in testString"
   ]
  },
  {
   "cell_type": "code",
   "execution_count": 27,
   "metadata": {},
   "outputs": [
    {
     "data": {
      "text/plain": [
       "True"
      ]
     },
     "execution_count": 27,
     "metadata": {},
     "output_type": "execute_result"
    }
   ],
   "source": [
    "'mundo' in 'hola mundo'"
   ]
  },
  {
   "cell_type": "code",
   "execution_count": 28,
   "metadata": {},
   "outputs": [
    {
     "data": {
      "text/plain": [
       "{'gol': [3, 1], 'penales': [1, 0], 'faltas': [1, 0], 'corner': [1, 0]}"
      ]
     },
     "execution_count": 28,
     "metadata": {},
     "output_type": "execute_result"
    }
   ],
   "source": [
    "keyWords"
   ]
  },
  {
   "cell_type": "code",
   "execution_count": 29,
   "metadata": {},
   "outputs": [],
   "source": [
    "statistic = pd.DataFrame(keyWords, index=['threshold','totales'])"
   ]
  },
  {
   "cell_type": "code",
   "execution_count": 30,
   "metadata": {},
   "outputs": [
    {
     "data": {
      "text/html": [
       "<div>\n",
       "<style scoped>\n",
       "    .dataframe tbody tr th:only-of-type {\n",
       "        vertical-align: middle;\n",
       "    }\n",
       "\n",
       "    .dataframe tbody tr th {\n",
       "        vertical-align: top;\n",
       "    }\n",
       "\n",
       "    .dataframe thead th {\n",
       "        text-align: right;\n",
       "    }\n",
       "</style>\n",
       "<table border=\"1\" class=\"dataframe\">\n",
       "  <thead>\n",
       "    <tr style=\"text-align: right;\">\n",
       "      <th></th>\n",
       "      <th>gol</th>\n",
       "      <th>penales</th>\n",
       "      <th>faltas</th>\n",
       "      <th>corner</th>\n",
       "    </tr>\n",
       "  </thead>\n",
       "  <tbody>\n",
       "    <tr>\n",
       "      <th>threshold</th>\n",
       "      <td>3</td>\n",
       "      <td>1</td>\n",
       "      <td>1</td>\n",
       "      <td>1</td>\n",
       "    </tr>\n",
       "    <tr>\n",
       "      <th>totales</th>\n",
       "      <td>1</td>\n",
       "      <td>0</td>\n",
       "      <td>0</td>\n",
       "      <td>0</td>\n",
       "    </tr>\n",
       "  </tbody>\n",
       "</table>\n",
       "</div>"
      ],
      "text/plain": [
       "           gol  penales  faltas  corner\n",
       "threshold    3        1       1       1\n",
       "totales      1        0       0       0"
      ]
     },
     "execution_count": 30,
     "metadata": {},
     "output_type": "execute_result"
    }
   ],
   "source": [
    "statistic"
   ]
  },
  {
   "cell_type": "code",
   "execution_count": 31,
   "metadata": {},
   "outputs": [],
   "source": [
    "import spacy\n",
    "#nlp = spacy.load('es_core_news_md')  # same behaviour with spacy.blank('es')"
   ]
  },
  {
   "cell_type": "code",
   "execution_count": 38,
   "metadata": {},
   "outputs": [],
   "source": [
    "nlp = spacy.load('es_core_news_sm')"
   ]
  },
  {
   "cell_type": "code",
   "execution_count": 40,
   "metadata": {},
   "outputs": [
    {
     "data": {
      "text/plain": [
       "jugando"
      ]
     },
     "execution_count": 40,
     "metadata": {},
     "output_type": "execute_result"
    }
   ],
   "source": [
    "nlp('jugando')"
   ]
  },
  {
   "cell_type": "code",
   "execution_count": 50,
   "metadata": {},
   "outputs": [],
   "source": [
    "str01 = 'esto es una prueba para intentar algo mas alla utiliza goooool golazo'"
   ]
  },
  {
   "cell_type": "code",
   "execution_count": 51,
   "metadata": {},
   "outputs": [
    {
     "name": "stdout",
     "output_type": "stream",
     "text": [
      "este\n",
      "ser\n",
      "uno\n",
      "probar\n",
      "parir\n",
      "intentar\n",
      "algo\n",
      "mas\n",
      "alla\n",
      "utilizar\n",
      "goooool\n",
      "golazo\n"
     ]
    }
   ],
   "source": [
    "for token in nlp(str01):\n",
    "    print(token.lemma_)"
   ]
  },
  {
   "cell_type": "code",
   "execution_count": 56,
   "metadata": {},
   "outputs": [
    {
     "name": "stdout",
     "output_type": "stream",
     "text": [
      "('this', 'is', 'a', 'foo')\n",
      "('is', 'a', 'foo', 'bar')\n",
      "('a', 'foo', 'bar', 'sentences')\n",
      "('foo', 'bar', 'sentences', 'and')\n",
      "('bar', 'sentences', 'and', 'i')\n",
      "('sentences', 'and', 'i', 'want')\n",
      "('and', 'i', 'want', 'to')\n",
      "('i', 'want', 'to', 'ngramize')\n",
      "('want', 'to', 'ngramize', 'it')\n"
     ]
    }
   ],
   "source": [
    "from nltk import ngrams\n",
    "\n",
    "sentence = 'this is a foo bar sentences and i want to ngramize it'\n",
    "\n",
    "n = 4\n",
    "sixgrams = ngrams(sentence.split(), n)\n",
    "\n",
    "for grams in sixgrams:\n",
    "  print(grams)"
   ]
  },
  {
   "cell_type": "code",
   "execution_count": null,
   "metadata": {},
   "outputs": [],
   "source": []
  }
 ],
 "metadata": {
  "kernelspec": {
   "display_name": "Python 3",
   "language": "python",
   "name": "python3"
  },
  "language_info": {
   "codemirror_mode": {
    "name": "ipython",
    "version": 3
   },
   "file_extension": ".py",
   "mimetype": "text/x-python",
   "name": "python",
   "nbconvert_exporter": "python",
   "pygments_lexer": "ipython3",
   "version": "3.6.8"
  }
 },
 "nbformat": 4,
 "nbformat_minor": 2
}
