{
  "nbformat": 4,
  "nbformat_minor": 0,
  "metadata": {
    "colab": {
      "name": "MLP_statistical_learning_2.ipynb",
      "provenance": [],
      "collapsed_sections": [],
      "toc_visible": true
    },
    "kernelspec": {
      "name": "python3",
      "display_name": "Python 3"
    }
  },
  "cells": [
    {
      "cell_type": "code",
      "metadata": {
        "id": "NE_kFCCU7gKd",
        "colab_type": "code",
        "outputId": "4e0c7fc9-d84b-4c02-c867-b1de8d0e3a5f",
        "colab": {
          "base_uri": "https://localhost:8080/",
          "height": 34
        }
      },
      "source": [
        "from google.colab import drive\n",
        "drive.mount('/content/drive')"
      ],
      "execution_count": 1,
      "outputs": [
        {
          "output_type": "stream",
          "text": [
            "Drive already mounted at /content/drive; to attempt to forcibly remount, call drive.mount(\"/content/drive\", force_remount=True).\n"
          ],
          "name": "stdout"
        }
      ]
    },
    {
      "cell_type": "code",
      "metadata": {
        "id": "bUzDJROw8E3x",
        "colab_type": "code",
        "colab": {}
      },
      "source": [
        "import numpy as np\n",
        "import pandas as pd\n",
        "import tensorflow as tf\n",
        "from sklearn import preprocessing\n",
        "from sklearn.model_selection import train_test_split\n",
        "from sklearn.metrics import roc_auc_score, accuracy_score"
      ],
      "execution_count": 0,
      "outputs": []
    },
    {
      "cell_type": "markdown",
      "metadata": {
        "id": "mVPRLlzBuqg-",
        "colab_type": "text"
      },
      "source": [
        "# Exploracion y breve descripcion del dataset:\n",
        "\n",
        "Contexto: El concreto es el material más importante en la ingeniería civil. La resistencia a la compresión del concreto es una función altamente no lineal de la edad y los ingredientes que lo componen. Estos ingredientes incluyen cemento, escoria de alto horno, cenizas volantes,\n",
        "agua, superplastificante, agregado grueso y agregado fino.\n",
        "\n",
        "Por tanto, se buscará encontrar un modelo para la resistencia a la compresion del concreto, en funcion de sus ingredientes (6) y la edad. Por tanto tendremos un dataset con 7 variables de entrada y una de salida. El problema que el modelo busca predecir es básicamente un modelo de regresión."
      ]
    },
    {
      "cell_type": "code",
      "metadata": {
        "id": "ptnlSgqnn7Sp",
        "colab_type": "code",
        "outputId": "d3e3e6dc-9c63-4cf7-9e8c-f385ab602760",
        "colab": {
          "base_uri": "https://localhost:8080/",
          "height": 153
        }
      },
      "source": [
        "dataset = pd.read_excel('/content/drive/My Drive/MLII/MLP/Concrete_Data.xls', index_col=0)\n",
        "dataset.shape\n",
        "list(dataset.columns)"
      ],
      "execution_count": 3,
      "outputs": [
        {
          "output_type": "execute_result",
          "data": {
            "text/plain": [
              "['Blast_Furnace_Slag',\n",
              " 'Fly_Ash',\n",
              " 'Water',\n",
              " 'Superplasticizer',\n",
              " 'Coarse_Aggregate',\n",
              " 'Fine_Aggregate',\n",
              " 'Age',\n",
              " 'Concrete_compressive_strength']"
            ]
          },
          "metadata": {
            "tags": []
          },
          "execution_count": 3
        }
      ]
    },
    {
      "cell_type": "code",
      "metadata": {
        "id": "-AX_BOJloG5w",
        "colab_type": "code",
        "outputId": "be2241a9-cf7b-41e1-f884-a2b55e471783",
        "colab": {
          "base_uri": "https://localhost:8080/",
          "height": 390
        }
      },
      "source": [
        "dataset.head(10)"
      ],
      "execution_count": 4,
      "outputs": [
        {
          "output_type": "execute_result",
          "data": {
            "text/html": [
              "<div>\n",
              "<style scoped>\n",
              "    .dataframe tbody tr th:only-of-type {\n",
              "        vertical-align: middle;\n",
              "    }\n",
              "\n",
              "    .dataframe tbody tr th {\n",
              "        vertical-align: top;\n",
              "    }\n",
              "\n",
              "    .dataframe thead th {\n",
              "        text-align: right;\n",
              "    }\n",
              "</style>\n",
              "<table border=\"1\" class=\"dataframe\">\n",
              "  <thead>\n",
              "    <tr style=\"text-align: right;\">\n",
              "      <th></th>\n",
              "      <th>Blast_Furnace_Slag</th>\n",
              "      <th>Fly_Ash</th>\n",
              "      <th>Water</th>\n",
              "      <th>Superplasticizer</th>\n",
              "      <th>Coarse_Aggregate</th>\n",
              "      <th>Fine_Aggregate</th>\n",
              "      <th>Age</th>\n",
              "      <th>Concrete_compressive_strength</th>\n",
              "    </tr>\n",
              "    <tr>\n",
              "      <th>Cement</th>\n",
              "      <th></th>\n",
              "      <th></th>\n",
              "      <th></th>\n",
              "      <th></th>\n",
              "      <th></th>\n",
              "      <th></th>\n",
              "      <th></th>\n",
              "      <th></th>\n",
              "    </tr>\n",
              "  </thead>\n",
              "  <tbody>\n",
              "    <tr>\n",
              "      <th>540.0</th>\n",
              "      <td>0.0</td>\n",
              "      <td>0.0</td>\n",
              "      <td>162.0</td>\n",
              "      <td>2.5</td>\n",
              "      <td>1040.0</td>\n",
              "      <td>676.0</td>\n",
              "      <td>28</td>\n",
              "      <td>79.986111</td>\n",
              "    </tr>\n",
              "    <tr>\n",
              "      <th>540.0</th>\n",
              "      <td>0.0</td>\n",
              "      <td>0.0</td>\n",
              "      <td>162.0</td>\n",
              "      <td>2.5</td>\n",
              "      <td>1055.0</td>\n",
              "      <td>676.0</td>\n",
              "      <td>28</td>\n",
              "      <td>61.887366</td>\n",
              "    </tr>\n",
              "    <tr>\n",
              "      <th>332.5</th>\n",
              "      <td>142.5</td>\n",
              "      <td>0.0</td>\n",
              "      <td>228.0</td>\n",
              "      <td>0.0</td>\n",
              "      <td>932.0</td>\n",
              "      <td>594.0</td>\n",
              "      <td>270</td>\n",
              "      <td>40.269535</td>\n",
              "    </tr>\n",
              "    <tr>\n",
              "      <th>332.5</th>\n",
              "      <td>142.5</td>\n",
              "      <td>0.0</td>\n",
              "      <td>228.0</td>\n",
              "      <td>0.0</td>\n",
              "      <td>932.0</td>\n",
              "      <td>594.0</td>\n",
              "      <td>365</td>\n",
              "      <td>41.052780</td>\n",
              "    </tr>\n",
              "    <tr>\n",
              "      <th>198.6</th>\n",
              "      <td>132.4</td>\n",
              "      <td>0.0</td>\n",
              "      <td>192.0</td>\n",
              "      <td>0.0</td>\n",
              "      <td>978.4</td>\n",
              "      <td>825.5</td>\n",
              "      <td>360</td>\n",
              "      <td>44.296075</td>\n",
              "    </tr>\n",
              "    <tr>\n",
              "      <th>266.0</th>\n",
              "      <td>114.0</td>\n",
              "      <td>0.0</td>\n",
              "      <td>228.0</td>\n",
              "      <td>0.0</td>\n",
              "      <td>932.0</td>\n",
              "      <td>670.0</td>\n",
              "      <td>90</td>\n",
              "      <td>47.029847</td>\n",
              "    </tr>\n",
              "    <tr>\n",
              "      <th>380.0</th>\n",
              "      <td>95.0</td>\n",
              "      <td>0.0</td>\n",
              "      <td>228.0</td>\n",
              "      <td>0.0</td>\n",
              "      <td>932.0</td>\n",
              "      <td>594.0</td>\n",
              "      <td>365</td>\n",
              "      <td>43.698299</td>\n",
              "    </tr>\n",
              "    <tr>\n",
              "      <th>380.0</th>\n",
              "      <td>95.0</td>\n",
              "      <td>0.0</td>\n",
              "      <td>228.0</td>\n",
              "      <td>0.0</td>\n",
              "      <td>932.0</td>\n",
              "      <td>594.0</td>\n",
              "      <td>28</td>\n",
              "      <td>36.447770</td>\n",
              "    </tr>\n",
              "    <tr>\n",
              "      <th>266.0</th>\n",
              "      <td>114.0</td>\n",
              "      <td>0.0</td>\n",
              "      <td>228.0</td>\n",
              "      <td>0.0</td>\n",
              "      <td>932.0</td>\n",
              "      <td>670.0</td>\n",
              "      <td>28</td>\n",
              "      <td>45.854291</td>\n",
              "    </tr>\n",
              "    <tr>\n",
              "      <th>475.0</th>\n",
              "      <td>0.0</td>\n",
              "      <td>0.0</td>\n",
              "      <td>228.0</td>\n",
              "      <td>0.0</td>\n",
              "      <td>932.0</td>\n",
              "      <td>594.0</td>\n",
              "      <td>28</td>\n",
              "      <td>39.289790</td>\n",
              "    </tr>\n",
              "  </tbody>\n",
              "</table>\n",
              "</div>"
            ],
            "text/plain": [
              "        Blast_Furnace_Slag  Fly_Ash  ...  Age  Concrete_compressive_strength\n",
              "Cement                               ...                                    \n",
              "540.0                  0.0      0.0  ...   28                      79.986111\n",
              "540.0                  0.0      0.0  ...   28                      61.887366\n",
              "332.5                142.5      0.0  ...  270                      40.269535\n",
              "332.5                142.5      0.0  ...  365                      41.052780\n",
              "198.6                132.4      0.0  ...  360                      44.296075\n",
              "266.0                114.0      0.0  ...   90                      47.029847\n",
              "380.0                 95.0      0.0  ...  365                      43.698299\n",
              "380.0                 95.0      0.0  ...   28                      36.447770\n",
              "266.0                114.0      0.0  ...   28                      45.854291\n",
              "475.0                  0.0      0.0  ...   28                      39.289790\n",
              "\n",
              "[10 rows x 8 columns]"
            ]
          },
          "metadata": {
            "tags": []
          },
          "execution_count": 4
        }
      ]
    },
    {
      "cell_type": "markdown",
      "metadata": {
        "id": "LS9Kfz0ryIui",
        "colab_type": "text"
      },
      "source": [
        "# Preprocesamiento de la data.\n",
        "\n",
        "Dado que se esta trabajando con un modelo profundo, no se tiene necesidad de Feature Engeneering, por lo que no se realizara una combinacion de las mismas."
      ]
    },
    {
      "cell_type": "code",
      "metadata": {
        "id": "C7q6v7_d-POZ",
        "colab_type": "code",
        "outputId": "68f93e21-18fa-49ff-eaf6-60406978dbfe",
        "colab": {
          "base_uri": "https://localhost:8080/",
          "height": 238
        }
      },
      "source": [
        "dataset.info()"
      ],
      "execution_count": 5,
      "outputs": [
        {
          "output_type": "stream",
          "text": [
            "<class 'pandas.core.frame.DataFrame'>\n",
            "Float64Index: 1030 entries, 540.0 to 260.9\n",
            "Data columns (total 8 columns):\n",
            "Blast_Furnace_Slag               1030 non-null float64\n",
            "Fly_Ash                          1030 non-null float64\n",
            "Water                            1030 non-null float64\n",
            "Superplasticizer                 1030 non-null float64\n",
            "Coarse_Aggregate                 1030 non-null float64\n",
            "Fine_Aggregate                   1030 non-null float64\n",
            "Age                              1030 non-null int64\n",
            "Concrete_compressive_strength    1030 non-null float64\n",
            "dtypes: float64(7), int64(1)\n",
            "memory usage: 72.4 KB\n"
          ],
          "name": "stdout"
        }
      ]
    },
    {
      "cell_type": "markdown",
      "metadata": {
        "id": "FdqeHWs7-rQL",
        "colab_type": "text"
      },
      "source": [
        "* Dado que es un modelo profundo no existe la necesidad feature engineering a las variables de entrada.\n",
        "* No se cuentan con valores nulos en el dataset.\n",
        "* No  se tienen variables categoricas en el dataset por lo que no hay que aplicar one-hot encoding. \n",
        "\n",
        "\n",
        "\n",
        "**Escalamiento/normalizacion de las features: Aplicacion de la formula: x' = (x - xmin)/(xmax - xmin)**\n",
        "\n"
      ]
    },
    {
      "cell_type": "code",
      "metadata": {
        "id": "AOws6tgG-qvM",
        "colab_type": "code",
        "outputId": "2a1c7fac-d5f5-4be0-bf6c-74fdf5d0f0f2",
        "colab": {
          "base_uri": "https://localhost:8080/",
          "height": 204
        }
      },
      "source": [
        "scaling = preprocessing.MinMaxScaler()\n",
        "scaledMatrix = scaling.fit_transform(dataset)\n",
        "df_normalized = pd.DataFrame(scaledMatrix,columns=dataset.columns)\n",
        "df_normalized.head(5)"
      ],
      "execution_count": 6,
      "outputs": [
        {
          "output_type": "execute_result",
          "data": {
            "text/html": [
              "<div>\n",
              "<style scoped>\n",
              "    .dataframe tbody tr th:only-of-type {\n",
              "        vertical-align: middle;\n",
              "    }\n",
              "\n",
              "    .dataframe tbody tr th {\n",
              "        vertical-align: top;\n",
              "    }\n",
              "\n",
              "    .dataframe thead th {\n",
              "        text-align: right;\n",
              "    }\n",
              "</style>\n",
              "<table border=\"1\" class=\"dataframe\">\n",
              "  <thead>\n",
              "    <tr style=\"text-align: right;\">\n",
              "      <th></th>\n",
              "      <th>Blast_Furnace_Slag</th>\n",
              "      <th>Fly_Ash</th>\n",
              "      <th>Water</th>\n",
              "      <th>Superplasticizer</th>\n",
              "      <th>Coarse_Aggregate</th>\n",
              "      <th>Fine_Aggregate</th>\n",
              "      <th>Age</th>\n",
              "      <th>Concrete_compressive_strength</th>\n",
              "    </tr>\n",
              "  </thead>\n",
              "  <tbody>\n",
              "    <tr>\n",
              "      <th>0</th>\n",
              "      <td>0.000000</td>\n",
              "      <td>0.0</td>\n",
              "      <td>0.321357</td>\n",
              "      <td>0.07764</td>\n",
              "      <td>0.694767</td>\n",
              "      <td>0.205720</td>\n",
              "      <td>0.074176</td>\n",
              "      <td>0.967445</td>\n",
              "    </tr>\n",
              "    <tr>\n",
              "      <th>1</th>\n",
              "      <td>0.000000</td>\n",
              "      <td>0.0</td>\n",
              "      <td>0.321357</td>\n",
              "      <td>0.07764</td>\n",
              "      <td>0.738372</td>\n",
              "      <td>0.205720</td>\n",
              "      <td>0.074176</td>\n",
              "      <td>0.741964</td>\n",
              "    </tr>\n",
              "    <tr>\n",
              "      <th>2</th>\n",
              "      <td>0.396494</td>\n",
              "      <td>0.0</td>\n",
              "      <td>0.848303</td>\n",
              "      <td>0.00000</td>\n",
              "      <td>0.380814</td>\n",
              "      <td>0.000000</td>\n",
              "      <td>0.739011</td>\n",
              "      <td>0.472642</td>\n",
              "    </tr>\n",
              "    <tr>\n",
              "      <th>3</th>\n",
              "      <td>0.396494</td>\n",
              "      <td>0.0</td>\n",
              "      <td>0.848303</td>\n",
              "      <td>0.00000</td>\n",
              "      <td>0.380814</td>\n",
              "      <td>0.000000</td>\n",
              "      <td>1.000000</td>\n",
              "      <td>0.482400</td>\n",
              "    </tr>\n",
              "    <tr>\n",
              "      <th>4</th>\n",
              "      <td>0.368392</td>\n",
              "      <td>0.0</td>\n",
              "      <td>0.560878</td>\n",
              "      <td>0.00000</td>\n",
              "      <td>0.515698</td>\n",
              "      <td>0.580783</td>\n",
              "      <td>0.986264</td>\n",
              "      <td>0.522806</td>\n",
              "    </tr>\n",
              "  </tbody>\n",
              "</table>\n",
              "</div>"
            ],
            "text/plain": [
              "   Blast_Furnace_Slag  Fly_Ash  ...       Age  Concrete_compressive_strength\n",
              "0            0.000000      0.0  ...  0.074176                       0.967445\n",
              "1            0.000000      0.0  ...  0.074176                       0.741964\n",
              "2            0.396494      0.0  ...  0.739011                       0.472642\n",
              "3            0.396494      0.0  ...  1.000000                       0.482400\n",
              "4            0.368392      0.0  ...  0.986264                       0.522806\n",
              "\n",
              "[5 rows x 8 columns]"
            ]
          },
          "metadata": {
            "tags": []
          },
          "execution_count": 6
        }
      ]
    },
    {
      "cell_type": "markdown",
      "metadata": {
        "id": "bMrk2cDnT-Y_",
        "colab_type": "text"
      },
      "source": [
        "**Separacion del dataset entre los X y Y del modelo**"
      ]
    },
    {
      "cell_type": "code",
      "metadata": {
        "id": "e2ZtUmEay7uN",
        "colab_type": "code",
        "colab": {}
      },
      "source": [
        "X = df_normalized[['Blast_Furnace_Slag', 'Fly_Ash', 'Water', 'Superplasticizer', 'Coarse_Aggregate', 'Fine_Aggregate', 'Age',]]\n",
        "y = df_normalized[['Concrete_compressive_strength']]"
      ],
      "execution_count": 0,
      "outputs": []
    },
    {
      "cell_type": "code",
      "metadata": {
        "id": "BQfJV3NYzWHN",
        "colab_type": "code",
        "outputId": "1f39e024-5f71-4c2d-ff38-8f0d97c013b6",
        "colab": {
          "base_uri": "https://localhost:8080/",
          "height": 359
        }
      },
      "source": [
        "X[10:20]"
      ],
      "execution_count": 8,
      "outputs": [
        {
          "output_type": "execute_result",
          "data": {
            "text/html": [
              "<div>\n",
              "<style scoped>\n",
              "    .dataframe tbody tr th:only-of-type {\n",
              "        vertical-align: middle;\n",
              "    }\n",
              "\n",
              "    .dataframe tbody tr th {\n",
              "        vertical-align: top;\n",
              "    }\n",
              "\n",
              "    .dataframe thead th {\n",
              "        text-align: right;\n",
              "    }\n",
              "</style>\n",
              "<table border=\"1\" class=\"dataframe\">\n",
              "  <thead>\n",
              "    <tr style=\"text-align: right;\">\n",
              "      <th></th>\n",
              "      <th>Blast_Furnace_Slag</th>\n",
              "      <th>Fly_Ash</th>\n",
              "      <th>Water</th>\n",
              "      <th>Superplasticizer</th>\n",
              "      <th>Coarse_Aggregate</th>\n",
              "      <th>Fine_Aggregate</th>\n",
              "      <th>Age</th>\n",
              "    </tr>\n",
              "  </thead>\n",
              "  <tbody>\n",
              "    <tr>\n",
              "      <th>10</th>\n",
              "      <td>0.368392</td>\n",
              "      <td>0.0</td>\n",
              "      <td>0.560878</td>\n",
              "      <td>0.0</td>\n",
              "      <td>0.515698</td>\n",
              "      <td>0.580783</td>\n",
              "      <td>0.244505</td>\n",
              "    </tr>\n",
              "    <tr>\n",
              "      <th>11</th>\n",
              "      <td>0.368392</td>\n",
              "      <td>0.0</td>\n",
              "      <td>0.560878</td>\n",
              "      <td>0.0</td>\n",
              "      <td>0.515698</td>\n",
              "      <td>0.580783</td>\n",
              "      <td>0.074176</td>\n",
              "    </tr>\n",
              "    <tr>\n",
              "      <th>12</th>\n",
              "      <td>0.132165</td>\n",
              "      <td>0.0</td>\n",
              "      <td>0.848303</td>\n",
              "      <td>0.0</td>\n",
              "      <td>0.380814</td>\n",
              "      <td>0.000000</td>\n",
              "      <td>0.739011</td>\n",
              "    </tr>\n",
              "    <tr>\n",
              "      <th>13</th>\n",
              "      <td>0.528659</td>\n",
              "      <td>0.0</td>\n",
              "      <td>0.848303</td>\n",
              "      <td>0.0</td>\n",
              "      <td>0.380814</td>\n",
              "      <td>0.190667</td>\n",
              "      <td>0.244505</td>\n",
              "    </tr>\n",
              "    <tr>\n",
              "      <th>14</th>\n",
              "      <td>0.211464</td>\n",
              "      <td>0.0</td>\n",
              "      <td>0.848303</td>\n",
              "      <td>0.0</td>\n",
              "      <td>0.380814</td>\n",
              "      <td>0.190667</td>\n",
              "      <td>0.074176</td>\n",
              "    </tr>\n",
              "    <tr>\n",
              "      <th>15</th>\n",
              "      <td>0.000000</td>\n",
              "      <td>0.0</td>\n",
              "      <td>0.848303</td>\n",
              "      <td>0.0</td>\n",
              "      <td>0.380814</td>\n",
              "      <td>0.190667</td>\n",
              "      <td>0.244505</td>\n",
              "    </tr>\n",
              "    <tr>\n",
              "      <th>16</th>\n",
              "      <td>0.582638</td>\n",
              "      <td>0.0</td>\n",
              "      <td>0.560878</td>\n",
              "      <td>0.0</td>\n",
              "      <td>0.715116</td>\n",
              "      <td>0.534119</td>\n",
              "      <td>0.244505</td>\n",
              "    </tr>\n",
              "    <tr>\n",
              "      <th>17</th>\n",
              "      <td>0.105732</td>\n",
              "      <td>0.0</td>\n",
              "      <td>0.848303</td>\n",
              "      <td>0.0</td>\n",
              "      <td>0.380814</td>\n",
              "      <td>0.190667</td>\n",
              "      <td>1.000000</td>\n",
              "    </tr>\n",
              "    <tr>\n",
              "      <th>18</th>\n",
              "      <td>0.264329</td>\n",
              "      <td>0.0</td>\n",
              "      <td>0.848303</td>\n",
              "      <td>0.0</td>\n",
              "      <td>0.380814</td>\n",
              "      <td>0.000000</td>\n",
              "      <td>0.244505</td>\n",
              "    </tr>\n",
              "    <tr>\n",
              "      <th>19</th>\n",
              "      <td>0.000000</td>\n",
              "      <td>0.0</td>\n",
              "      <td>0.848303</td>\n",
              "      <td>0.0</td>\n",
              "      <td>0.380814</td>\n",
              "      <td>0.000000</td>\n",
              "      <td>0.491758</td>\n",
              "    </tr>\n",
              "  </tbody>\n",
              "</table>\n",
              "</div>"
            ],
            "text/plain": [
              "    Blast_Furnace_Slag  Fly_Ash  ...  Fine_Aggregate       Age\n",
              "10            0.368392      0.0  ...        0.580783  0.244505\n",
              "11            0.368392      0.0  ...        0.580783  0.074176\n",
              "12            0.132165      0.0  ...        0.000000  0.739011\n",
              "13            0.528659      0.0  ...        0.190667  0.244505\n",
              "14            0.211464      0.0  ...        0.190667  0.074176\n",
              "15            0.000000      0.0  ...        0.190667  0.244505\n",
              "16            0.582638      0.0  ...        0.534119  0.244505\n",
              "17            0.105732      0.0  ...        0.190667  1.000000\n",
              "18            0.264329      0.0  ...        0.000000  0.244505\n",
              "19            0.000000      0.0  ...        0.000000  0.491758\n",
              "\n",
              "[10 rows x 7 columns]"
            ]
          },
          "metadata": {
            "tags": []
          },
          "execution_count": 8
        }
      ]
    },
    {
      "cell_type": "code",
      "metadata": {
        "id": "8jJYiaBAzYTf",
        "colab_type": "code",
        "outputId": "089bdec6-ad73-4e9c-c02d-1fbae5d107ed",
        "colab": {
          "base_uri": "https://localhost:8080/",
          "height": 359
        }
      },
      "source": [
        "y[10:20]"
      ],
      "execution_count": 9,
      "outputs": [
        {
          "output_type": "execute_result",
          "data": {
            "text/html": [
              "<div>\n",
              "<style scoped>\n",
              "    .dataframe tbody tr th:only-of-type {\n",
              "        vertical-align: middle;\n",
              "    }\n",
              "\n",
              "    .dataframe tbody tr th {\n",
              "        vertical-align: top;\n",
              "    }\n",
              "\n",
              "    .dataframe thead th {\n",
              "        text-align: right;\n",
              "    }\n",
              "</style>\n",
              "<table border=\"1\" class=\"dataframe\">\n",
              "  <thead>\n",
              "    <tr style=\"text-align: right;\">\n",
              "      <th></th>\n",
              "      <th>Concrete_compressive_strength</th>\n",
              "    </tr>\n",
              "  </thead>\n",
              "  <tbody>\n",
              "    <tr>\n",
              "      <th>10</th>\n",
              "      <td>0.445292</td>\n",
              "    </tr>\n",
              "    <tr>\n",
              "      <th>11</th>\n",
              "      <td>0.320054</td>\n",
              "    </tr>\n",
              "    <tr>\n",
              "      <th>12</th>\n",
              "      <td>0.506820</td>\n",
              "    </tr>\n",
              "    <tr>\n",
              "      <th>13</th>\n",
              "      <td>0.498273</td>\n",
              "    </tr>\n",
              "    <tr>\n",
              "      <th>14</th>\n",
              "      <td>0.566631</td>\n",
              "    </tr>\n",
              "    <tr>\n",
              "      <th>15</th>\n",
              "      <td>0.630100</td>\n",
              "    </tr>\n",
              "    <tr>\n",
              "      <th>16</th>\n",
              "      <td>0.461286</td>\n",
              "    </tr>\n",
              "    <tr>\n",
              "      <th>17</th>\n",
              "      <td>0.670386</td>\n",
              "    </tr>\n",
              "    <tr>\n",
              "      <th>18</th>\n",
              "      <td>0.476301</td>\n",
              "    </tr>\n",
              "    <tr>\n",
              "      <th>19</th>\n",
              "      <td>0.501933</td>\n",
              "    </tr>\n",
              "  </tbody>\n",
              "</table>\n",
              "</div>"
            ],
            "text/plain": [
              "    Concrete_compressive_strength\n",
              "10                       0.445292\n",
              "11                       0.320054\n",
              "12                       0.506820\n",
              "13                       0.498273\n",
              "14                       0.566631\n",
              "15                       0.630100\n",
              "16                       0.461286\n",
              "17                       0.670386\n",
              "18                       0.476301\n",
              "19                       0.501933"
            ]
          },
          "metadata": {
            "tags": []
          },
          "execution_count": 9
        }
      ]
    },
    {
      "cell_type": "markdown",
      "metadata": {
        "id": "FPBlnEAiUDW1",
        "colab_type": "text"
      },
      "source": [
        "**Cross validations and k-folds**\n",
        "\n",
        "Procedemos a realizar el split de la data en Train/Test, se tomaran un 15% de datos para el Test, y un 85% de datos para el Train. Tambien utilizamos crossValidation k folds.\n",
        "\n",
        "Generamos tres conjuntos e training sets"
      ]
    },
    {
      "cell_type": "code",
      "metadata": {
        "id": "w2qMHOPNUKOJ",
        "colab_type": "code",
        "colab": {}
      },
      "source": [
        "def crossValidKfolds(X,y,k=3,itTest = 3):\n",
        "    if itTest>k:\n",
        "        return None\n",
        "    elif itTest == k:\n",
        "        return (X[(X.shape[0]//k)*(itTest-1):],   #xTest             \n",
        "                y[(y.shape[0]//k)*(itTest-1):],   #yTest\n",
        "                X[:(X.shape[0]//k)*(itTest-1)],   #xTrain\n",
        "                y[:(y.shape[0]//k)*(itTest-1)])   #yTrain\n",
        "    elif itTest == 1:\n",
        "        return (X[(X.shape[0]//k)*(itTest-1): (X.shape[0]//k)*(itTest)],                \n",
        "                y[(y.shape[0]//k)*(itTest-1): (y.shape[0]//k)*(itTest)],\n",
        "                X[(X.shape[0]//k)*(itTest):],\n",
        "                y[(y.shape[0]//k)*(itTest):])\n",
        "    else:\n",
        "        firstX = X[:(X.shape[0]//k)*(itTest-1)]\n",
        "        secndX = X[(X.shape[0]//k)*(itTest):]\n",
        "        firstY = y[:(y.shape[0]//k)*(itTest-1)]\n",
        "        secndY = y[(y.shape[0]//k)*(itTest):]\n",
        "        return (X[(X.shape[0]//k)*(itTest-1): (X.shape[0]//k)*(itTest)],                \n",
        "                y[(y.shape[0]//k)*(itTest-1): (y.shape[0]//k)*(itTest)],\n",
        "                pd.concat([firstX, secndX]),\n",
        "                pd.concat([firstY, secndY])) "
      ],
      "execution_count": 0,
      "outputs": []
    },
    {
      "cell_type": "code",
      "metadata": {
        "id": "ITbUHZ4GUGd0",
        "colab_type": "code",
        "colab": {}
      },
      "source": [
        "porcentajeTest = 0.15"
      ],
      "execution_count": 0,
      "outputs": []
    },
    {
      "cell_type": "code",
      "metadata": {
        "id": "TRGshxe5UVVg",
        "colab_type": "code",
        "colab": {}
      },
      "source": [
        "#Devolvemos el segmento 2 de 6 (int(1/0.15))\n",
        "xTest01,yTest01,xTrain01,yTrain01 = crossValidKfolds(X,y,k=int(1/porcentajeTest),itTest = 2)\n",
        "#Devolvemos el segmento 4 de 6 (int(1/0.15))\n",
        "xTest02,yTest02,xTrain02,yTrain02 = crossValidKfolds(X,y,k=int(1/porcentajeTest),itTest = 4)\n",
        "#Devolvemos el segmento 6 de 6 (int(1/0.15))\n",
        "xTest03,yTest03,xTrain03,yTrain03 = crossValidKfolds(X,y,k=int(1/porcentajeTest),itTest = 6)"
      ],
      "execution_count": 0,
      "outputs": []
    },
    {
      "cell_type": "markdown",
      "metadata": {
        "id": "SVTCH2_mTdlq",
        "colab_type": "text"
      },
      "source": [
        "**Agregando el Bias a cada set de entrenamiento**"
      ]
    },
    {
      "cell_type": "code",
      "metadata": {
        "id": "qMxIDGmxTchd",
        "colab_type": "code",
        "colab": {}
      },
      "source": [
        "#xTrain01['Bias'] = 1\n",
        "#xTrain02['Bias'] = 1\n",
        "#xTrain03['Bias'] = 1"
      ],
      "execution_count": 0,
      "outputs": []
    },
    {
      "cell_type": "code",
      "metadata": {
        "id": "UuJmQAPfVqcs",
        "colab_type": "code",
        "outputId": "6cad5405-dfbb-48f3-b483-a9b323407857",
        "colab": {
          "base_uri": "https://localhost:8080/",
          "height": 221
        }
      },
      "source": [
        "print(xTest01.shape)\n",
        "xTest01.head()"
      ],
      "execution_count": 14,
      "outputs": [
        {
          "output_type": "stream",
          "text": [
            "(171, 7)\n"
          ],
          "name": "stdout"
        },
        {
          "output_type": "execute_result",
          "data": {
            "text/html": [
              "<div>\n",
              "<style scoped>\n",
              "    .dataframe tbody tr th:only-of-type {\n",
              "        vertical-align: middle;\n",
              "    }\n",
              "\n",
              "    .dataframe tbody tr th {\n",
              "        vertical-align: top;\n",
              "    }\n",
              "\n",
              "    .dataframe thead th {\n",
              "        text-align: right;\n",
              "    }\n",
              "</style>\n",
              "<table border=\"1\" class=\"dataframe\">\n",
              "  <thead>\n",
              "    <tr style=\"text-align: right;\">\n",
              "      <th></th>\n",
              "      <th>Blast_Furnace_Slag</th>\n",
              "      <th>Fly_Ash</th>\n",
              "      <th>Water</th>\n",
              "      <th>Superplasticizer</th>\n",
              "      <th>Coarse_Aggregate</th>\n",
              "      <th>Fine_Aggregate</th>\n",
              "      <th>Age</th>\n",
              "    </tr>\n",
              "  </thead>\n",
              "  <tbody>\n",
              "    <tr>\n",
              "      <th>171</th>\n",
              "      <td>0.000000</td>\n",
              "      <td>0.0</td>\n",
              "      <td>0.160080</td>\n",
              "      <td>0.875776</td>\n",
              "      <td>0.148547</td>\n",
              "      <td>0.751882</td>\n",
              "      <td>0.247253</td>\n",
              "    </tr>\n",
              "    <tr>\n",
              "      <th>172</th>\n",
              "      <td>0.295771</td>\n",
              "      <td>0.0</td>\n",
              "      <td>0.253493</td>\n",
              "      <td>0.512422</td>\n",
              "      <td>0.148547</td>\n",
              "      <td>0.735324</td>\n",
              "      <td>0.247253</td>\n",
              "    </tr>\n",
              "    <tr>\n",
              "      <th>173</th>\n",
              "      <td>0.591263</td>\n",
              "      <td>0.0</td>\n",
              "      <td>0.271058</td>\n",
              "      <td>0.444099</td>\n",
              "      <td>0.148547</td>\n",
              "      <td>0.718515</td>\n",
              "      <td>0.247253</td>\n",
              "    </tr>\n",
              "    <tr>\n",
              "      <th>174</th>\n",
              "      <td>0.263495</td>\n",
              "      <td>0.0</td>\n",
              "      <td>0.204790</td>\n",
              "      <td>0.354037</td>\n",
              "      <td>0.423837</td>\n",
              "      <td>0.647516</td>\n",
              "      <td>0.247253</td>\n",
              "    </tr>\n",
              "    <tr>\n",
              "      <th>175</th>\n",
              "      <td>0.525876</td>\n",
              "      <td>0.0</td>\n",
              "      <td>0.344511</td>\n",
              "      <td>0.360248</td>\n",
              "      <td>0.417733</td>\n",
              "      <td>0.405921</td>\n",
              "      <td>0.247253</td>\n",
              "    </tr>\n",
              "  </tbody>\n",
              "</table>\n",
              "</div>"
            ],
            "text/plain": [
              "     Blast_Furnace_Slag  Fly_Ash  ...  Fine_Aggregate       Age\n",
              "171            0.000000      0.0  ...        0.751882  0.247253\n",
              "172            0.295771      0.0  ...        0.735324  0.247253\n",
              "173            0.591263      0.0  ...        0.718515  0.247253\n",
              "174            0.263495      0.0  ...        0.647516  0.247253\n",
              "175            0.525876      0.0  ...        0.405921  0.247253\n",
              "\n",
              "[5 rows x 7 columns]"
            ]
          },
          "metadata": {
            "tags": []
          },
          "execution_count": 14
        }
      ]
    },
    {
      "cell_type": "code",
      "metadata": {
        "id": "_xmEvBWPWBVh",
        "colab_type": "code",
        "outputId": "4cf03e78-3900-48ca-a84e-e83def8f1236",
        "colab": {
          "base_uri": "https://localhost:8080/",
          "height": 221
        }
      },
      "source": [
        "print(yTest01.shape)\n",
        "yTest01.head()"
      ],
      "execution_count": 15,
      "outputs": [
        {
          "output_type": "stream",
          "text": [
            "(171, 1)\n"
          ],
          "name": "stdout"
        },
        {
          "output_type": "execute_result",
          "data": {
            "text/html": [
              "<div>\n",
              "<style scoped>\n",
              "    .dataframe tbody tr th:only-of-type {\n",
              "        vertical-align: middle;\n",
              "    }\n",
              "\n",
              "    .dataframe tbody tr th {\n",
              "        vertical-align: top;\n",
              "    }\n",
              "\n",
              "    .dataframe thead th {\n",
              "        text-align: right;\n",
              "    }\n",
              "</style>\n",
              "<table border=\"1\" class=\"dataframe\">\n",
              "  <thead>\n",
              "    <tr style=\"text-align: right;\">\n",
              "      <th></th>\n",
              "      <th>Concrete_compressive_strength</th>\n",
              "    </tr>\n",
              "  </thead>\n",
              "  <tbody>\n",
              "    <tr>\n",
              "      <th>171</th>\n",
              "      <td>0.708464</td>\n",
              "    </tr>\n",
              "    <tr>\n",
              "      <th>172</th>\n",
              "      <td>0.783195</td>\n",
              "    </tr>\n",
              "    <tr>\n",
              "      <th>173</th>\n",
              "      <td>0.819358</td>\n",
              "    </tr>\n",
              "    <tr>\n",
              "      <th>174</th>\n",
              "      <td>0.911526</td>\n",
              "    </tr>\n",
              "    <tr>\n",
              "      <th>175</th>\n",
              "      <td>0.958855</td>\n",
              "    </tr>\n",
              "  </tbody>\n",
              "</table>\n",
              "</div>"
            ],
            "text/plain": [
              "     Concrete_compressive_strength\n",
              "171                       0.708464\n",
              "172                       0.783195\n",
              "173                       0.819358\n",
              "174                       0.911526\n",
              "175                       0.958855"
            ]
          },
          "metadata": {
            "tags": []
          },
          "execution_count": 15
        }
      ]
    },
    {
      "cell_type": "code",
      "metadata": {
        "id": "VPE6pqyPWZMt",
        "colab_type": "code",
        "outputId": "affbc9d4-2820-439c-be65-c81ecc1b0bdb",
        "colab": {
          "base_uri": "https://localhost:8080/",
          "height": 221
        }
      },
      "source": [
        "print(xTrain01.shape)\n",
        "xTrain01.head()"
      ],
      "execution_count": 16,
      "outputs": [
        {
          "output_type": "stream",
          "text": [
            "(859, 8)\n"
          ],
          "name": "stdout"
        },
        {
          "output_type": "execute_result",
          "data": {
            "text/html": [
              "<div>\n",
              "<style scoped>\n",
              "    .dataframe tbody tr th:only-of-type {\n",
              "        vertical-align: middle;\n",
              "    }\n",
              "\n",
              "    .dataframe tbody tr th {\n",
              "        vertical-align: top;\n",
              "    }\n",
              "\n",
              "    .dataframe thead th {\n",
              "        text-align: right;\n",
              "    }\n",
              "</style>\n",
              "<table border=\"1\" class=\"dataframe\">\n",
              "  <thead>\n",
              "    <tr style=\"text-align: right;\">\n",
              "      <th></th>\n",
              "      <th>Blast_Furnace_Slag</th>\n",
              "      <th>Fly_Ash</th>\n",
              "      <th>Water</th>\n",
              "      <th>Superplasticizer</th>\n",
              "      <th>Coarse_Aggregate</th>\n",
              "      <th>Fine_Aggregate</th>\n",
              "      <th>Age</th>\n",
              "      <th>Bias</th>\n",
              "    </tr>\n",
              "  </thead>\n",
              "  <tbody>\n",
              "    <tr>\n",
              "      <th>0</th>\n",
              "      <td>0.000000</td>\n",
              "      <td>0.0</td>\n",
              "      <td>0.321357</td>\n",
              "      <td>0.07764</td>\n",
              "      <td>0.694767</td>\n",
              "      <td>0.205720</td>\n",
              "      <td>0.074176</td>\n",
              "      <td>1</td>\n",
              "    </tr>\n",
              "    <tr>\n",
              "      <th>1</th>\n",
              "      <td>0.000000</td>\n",
              "      <td>0.0</td>\n",
              "      <td>0.321357</td>\n",
              "      <td>0.07764</td>\n",
              "      <td>0.738372</td>\n",
              "      <td>0.205720</td>\n",
              "      <td>0.074176</td>\n",
              "      <td>1</td>\n",
              "    </tr>\n",
              "    <tr>\n",
              "      <th>2</th>\n",
              "      <td>0.396494</td>\n",
              "      <td>0.0</td>\n",
              "      <td>0.848303</td>\n",
              "      <td>0.00000</td>\n",
              "      <td>0.380814</td>\n",
              "      <td>0.000000</td>\n",
              "      <td>0.739011</td>\n",
              "      <td>1</td>\n",
              "    </tr>\n",
              "    <tr>\n",
              "      <th>3</th>\n",
              "      <td>0.396494</td>\n",
              "      <td>0.0</td>\n",
              "      <td>0.848303</td>\n",
              "      <td>0.00000</td>\n",
              "      <td>0.380814</td>\n",
              "      <td>0.000000</td>\n",
              "      <td>1.000000</td>\n",
              "      <td>1</td>\n",
              "    </tr>\n",
              "    <tr>\n",
              "      <th>4</th>\n",
              "      <td>0.368392</td>\n",
              "      <td>0.0</td>\n",
              "      <td>0.560878</td>\n",
              "      <td>0.00000</td>\n",
              "      <td>0.515698</td>\n",
              "      <td>0.580783</td>\n",
              "      <td>0.986264</td>\n",
              "      <td>1</td>\n",
              "    </tr>\n",
              "  </tbody>\n",
              "</table>\n",
              "</div>"
            ],
            "text/plain": [
              "   Blast_Furnace_Slag  Fly_Ash     Water  ...  Fine_Aggregate       Age  Bias\n",
              "0            0.000000      0.0  0.321357  ...        0.205720  0.074176     1\n",
              "1            0.000000      0.0  0.321357  ...        0.205720  0.074176     1\n",
              "2            0.396494      0.0  0.848303  ...        0.000000  0.739011     1\n",
              "3            0.396494      0.0  0.848303  ...        0.000000  1.000000     1\n",
              "4            0.368392      0.0  0.560878  ...        0.580783  0.986264     1\n",
              "\n",
              "[5 rows x 8 columns]"
            ]
          },
          "metadata": {
            "tags": []
          },
          "execution_count": 16
        }
      ]
    },
    {
      "cell_type": "code",
      "metadata": {
        "id": "9Tefo3JSdt0Z",
        "colab_type": "code",
        "outputId": "9b477d76-cb81-4a99-f83f-2a2796a269e8",
        "colab": {
          "base_uri": "https://localhost:8080/",
          "height": 221
        }
      },
      "source": [
        "print(yTrain01.shape)\n",
        "yTrain01.head()"
      ],
      "execution_count": 17,
      "outputs": [
        {
          "output_type": "stream",
          "text": [
            "(859, 1)\n"
          ],
          "name": "stdout"
        },
        {
          "output_type": "execute_result",
          "data": {
            "text/html": [
              "<div>\n",
              "<style scoped>\n",
              "    .dataframe tbody tr th:only-of-type {\n",
              "        vertical-align: middle;\n",
              "    }\n",
              "\n",
              "    .dataframe tbody tr th {\n",
              "        vertical-align: top;\n",
              "    }\n",
              "\n",
              "    .dataframe thead th {\n",
              "        text-align: right;\n",
              "    }\n",
              "</style>\n",
              "<table border=\"1\" class=\"dataframe\">\n",
              "  <thead>\n",
              "    <tr style=\"text-align: right;\">\n",
              "      <th></th>\n",
              "      <th>Concrete_compressive_strength</th>\n",
              "    </tr>\n",
              "  </thead>\n",
              "  <tbody>\n",
              "    <tr>\n",
              "      <th>0</th>\n",
              "      <td>0.967445</td>\n",
              "    </tr>\n",
              "    <tr>\n",
              "      <th>1</th>\n",
              "      <td>0.741964</td>\n",
              "    </tr>\n",
              "    <tr>\n",
              "      <th>2</th>\n",
              "      <td>0.472642</td>\n",
              "    </tr>\n",
              "    <tr>\n",
              "      <th>3</th>\n",
              "      <td>0.482400</td>\n",
              "    </tr>\n",
              "    <tr>\n",
              "      <th>4</th>\n",
              "      <td>0.522806</td>\n",
              "    </tr>\n",
              "  </tbody>\n",
              "</table>\n",
              "</div>"
            ],
            "text/plain": [
              "   Concrete_compressive_strength\n",
              "0                       0.967445\n",
              "1                       0.741964\n",
              "2                       0.472642\n",
              "3                       0.482400\n",
              "4                       0.522806"
            ]
          },
          "metadata": {
            "tags": []
          },
          "execution_count": 17
        }
      ]
    },
    {
      "cell_type": "markdown",
      "metadata": {
        "id": "BJ3FzZ7lust7",
        "colab_type": "text"
      },
      "source": [
        "# Arquitectura de la red\n",
        "\n",
        "* Funciones de activacion:\n",
        "\n",
        "Para la neurona de salida, como funcion de activacion, se utilizará la funcion ReLu, dada que la data ha sido normalizada, tendrá unicamente valores entre 0 y 1.\n",
        "\n",
        "* Funcion de costo:\n",
        "\n",
        "Dada la regresion, se utilizará la clásica funcion de costo MSE.\n",
        "\n",
        "* Input y Output layer:\n",
        "\n",
        "Tenemos 7 features, por lo que tendremos 7 parametros de entrada. Dado que buscamos resolver un problema de regresion, utilizaremos unicamente una capa de salida. \n",
        "\n",
        "* Hidden Layer(s):\n",
        "\n",
        "Se partira de un modelo de dos capas ocultas, cada capa con cinco neuronas. A partir de esto, se iniciará la experimentación. Como función de activación para cada capa, se utilizará le función ReLu, aunque tambien se experimentará con la función Leaky ReLu.\n",
        "\n",
        "* Optimizadores:  Se utilizara el optimizador Nesterov y el Adam.\n",
        "\n",
        "* Se utilizará early stopping, deteniendo el entrenamiento cuando el error comience a aumentar.\n",
        "\n",
        "* Se utilizará dropout en caso de ser necesario, para combatir el overfitting de la red.\n",
        "\n",
        "* Como numero de neuronas en cada capa interna, se utilizaran 5 neuronas.\n",
        "\n",
        "* Como numero de capas internas, el modelo utilizará dos capas.\n",
        "\n",
        "*Los hiper parametros de numero de capas y numero de neuronas en cada capa oculta, podrán variar dependiendo de si tenemos overfitting o underfitting.\n",
        "\n",
        "Se aplicara mini batch gradient descent con un batch de 64, y a partir de ahi se harán pruebas."
      ]
    },
    {
      "cell_type": "markdown",
      "metadata": {
        "id": "JQLWmp-u4lN8",
        "colab_type": "text"
      },
      "source": [
        "### Creacion del grafo:"
      ]
    },
    {
      "cell_type": "markdown",
      "metadata": {
        "id": "ytBaN1KVHGkr",
        "colab_type": "text"
      },
      "source": [
        "Semantica de las matrices de pesos:\n",
        "* Filas: Representan la cantidad e parametros entrenables (incluyendo el bias)\n",
        "* Columnas: Representan la cantidad de neuronas."
      ]
    },
    {
      "cell_type": "code",
      "metadata": {
        "id": "zGorXA1mOxxJ",
        "colab_type": "code",
        "colab": {}
      },
      "source": [
        "def batchsizeDivision(x=xTrain01,y=yTrain01,batchSize=128):\n",
        "  batchesListX = []\n",
        "  batchesListY = []\n",
        "  for i in range((x.shape[0]//batchSize)+1):\n",
        "    if i>=(x.shape[0]/batchSize):\n",
        "      batchesListX.append(x[i*batchSize:])\n",
        "      batchesListY.append(y[i*batchSize:])\n",
        "    else:\n",
        "      batchesListX.append(x[i*batchSize:(i+1)*batchSize])\n",
        "      batchesListY.append(y[i*batchSize:(i+1)*batchSize])\n",
        "  return (batchesListX,batchesListY)"
      ],
      "execution_count": 0,
      "outputs": []
    },
    {
      "cell_type": "code",
      "metadata": {
        "id": "Ay8kOFDRuqIs",
        "colab_type": "code",
        "colab": {}
      },
      "source": [
        "MLPgraph = tf.Graph()\n",
        "with MLPgraph.as_default():\n",
        "  #Carga de la data:\n",
        "  with tf.name_scope('pureData') as scope:\n",
        "\n",
        "    #Inicializando matrices de pesos (Xavier inicialization)\n",
        "    w01 = tf.get_variable(name= \"W1\", shape=[8, 5],\n",
        "           initializer=tf.contrib.layers.xavier_initializer())\n",
        "    w02 = tf.get_variable(name= \"W2\", shape=[6, 5],\n",
        "           initializer=tf.contrib.layers.xavier_initializer())\n",
        "    w03 = tf.get_variable(name= \"W3\", shape=[6, 1],\n",
        "            initializer=tf.contrib.layers.xavier_initializer())\n",
        "    #Aplicando matriz de pesos a capa:\n",
        "    preX = tf.placeholder(dtype=tf.float32,name='X', shape = [None,7])\n",
        "    Y = tf.placeholder(dtype=tf.float32,name='Y', shape= [None,1])\n",
        "    learningRate = tf.placeholder(dtype=tf.float32,name='LR')\n",
        "\n",
        "    X = tf.pad(tensor=preX,paddings= tf.constant([[0,0],[1,0]]),\n",
        "               mode='CONSTANT',constant_values=1.0000) #vector de 8x128\n",
        "\n",
        "\n",
        "  with tf.name_scope('feedFoward') as scope:\n",
        "    #Aplicando feedFoward - Primera capa oculta\n",
        "    a01 = tf.nn.relu(tf.matmul(X,w01))\n",
        "    A01 = tf.pad(tensor=a01,paddings= tf.constant([[0,0],[1,0]]),\n",
        "               mode='CONSTANT',constant_values=1.0000) \n",
        "    #Aplicando feedFoward - Segunda capa oculta\n",
        "    a02 = tf.nn.relu(tf.matmul(A01,w02))\n",
        "    A02 = tf.pad(tensor=a02,paddings= tf.constant([[0,0],[1,0]]),\n",
        "                 mode='CONSTANT',constant_values=1.0000) \n",
        "    #Aplicando feedForward - Tercera capa oculta\n",
        "    a03 = tf.nn.relu(tf.matmul(A02,w03))   \n",
        "  \n",
        "  with tf.name_scope('costFunctionMSE') as scope:\n",
        "    costFunction = 0.5*tf.reduce_mean(tf.pow((Y-a03),2))\n",
        "\n",
        "  with tf.name_scope('gradient_optimizer') as scope:\n",
        "    optimizador =  tf.train.AdamOptimizer(learningRate).minimize(costFunction)\n",
        "    #optimizer = tf.train.AdamOptimizer(learning_rate).minimize(costFunction,var_list=[w01,w02,w03])"
      ],
      "execution_count": 0,
      "outputs": []
    },
    {
      "cell_type": "code",
      "metadata": {
        "id": "i1an6Ddhdxlh",
        "colab_type": "code",
        "colab": {}
      },
      "source": [
        "def trainingFunction(x,y,lr,epoch,showError):\n",
        "  tf.reset_default_graph()\n",
        "  with tf.Session(graph = MLPgraph) as session:\n",
        "    init=tf.global_variables_initializer().run() \n",
        "    for i in range(epoch):\n",
        "      total,W1,W2, W3,_ = session.run([costFunction, w01,w02,w03,optimizador],feed_dict = {X:x,Y:y,learningRate:lr})\n",
        "      if i%showError == 0:\n",
        "        print('Epoch: '+str(i)+' error: '+str(total))"
      ],
      "execution_count": 0,
      "outputs": []
    },
    {
      "cell_type": "code",
      "metadata": {
        "id": "_R9nbnD3qavm",
        "colab_type": "code",
        "colab": {
          "base_uri": "https://localhost:8080/",
          "height": 187
        },
        "outputId": "42452ad7-2239-4e31-cba9-d8e3946d0ab3"
      },
      "source": [
        "trainingFunction(x=xTrain01,y=yTrain01,lr=0.00000001,epoch=10000,showError=1000)"
      ],
      "execution_count": 79,
      "outputs": [
        {
          "output_type": "stream",
          "text": [
            "Epoch: 0 error: 0.09569114\n",
            "Epoch: 1000 error: 0.0956856\n",
            "Epoch: 2000 error: 0.095680065\n",
            "Epoch: 3000 error: 0.09567452\n",
            "Epoch: 4000 error: 0.09566899\n",
            "Epoch: 5000 error: 0.09566344\n",
            "Epoch: 6000 error: 0.095657915\n",
            "Epoch: 7000 error: 0.09565235\n",
            "Epoch: 8000 error: 0.095646836\n",
            "Epoch: 9000 error: 0.09564131\n"
          ],
          "name": "stdout"
        }
      ]
    },
    {
      "cell_type": "code",
      "metadata": {
        "id": "Pq27_roOrROi",
        "colab_type": "code",
        "colab": {}
      },
      "source": [
        ""
      ],
      "execution_count": 0,
      "outputs": []
    }
  ]
}