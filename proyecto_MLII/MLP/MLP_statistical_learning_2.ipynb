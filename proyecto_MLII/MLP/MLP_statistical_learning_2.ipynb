{
 "cells": [
  {
   "cell_type": "code",
   "execution_count": 1,
   "metadata": {
    "colab": {},
    "colab_type": "code",
    "id": "bUzDJROw8E3x"
   },
   "outputs": [],
   "source": [
    "import numpy as np\n",
    "import pandas as pd\n",
    "import tensorflow as tf\n",
    "from sklearn import preprocessing\n",
    "from sklearn.model_selection import train_test_split\n",
    "from sklearn.metrics import roc_auc_score, accuracy_score"
   ]
  },
  {
   "cell_type": "markdown",
   "metadata": {
    "colab_type": "text",
    "id": "mVPRLlzBuqg-"
   },
   "source": [
    "# Exploracion y breve descripcion del dataset:\n",
    "\n",
    "Contexto: El concreto es el material más importante en la ingeniería civil. La resistencia a la compresión del concreto es una función altamente no lineal de la edad y los ingredientes que lo componen. Estos ingredientes incluyen cemento, escoria de alto horno, cenizas volantes,\n",
    "agua, superplastificante, agregado grueso y agregado fino.\n",
    "\n",
    "Por tanto, se buscará encontrar un modelo para la resistencia a la compresion del concreto, en funcion de sus ingredientes (6) y la edad. Por tanto tendremos un dataset con 7 variables de entrada y una de salida. El problema que el modelo busca predecir es básicamente un modelo de regresión."
   ]
  },
  {
   "cell_type": "code",
   "execution_count": 2,
   "metadata": {
    "colab": {
     "base_uri": "https://localhost:8080/",
     "height": 153
    },
    "colab_type": "code",
    "id": "ptnlSgqnn7Sp",
    "outputId": "d3e3e6dc-9c63-4cf7-9e8c-f385ab602760"
   },
   "outputs": [
    {
     "data": {
      "text/plain": [
       "['Blast_Furnace_Slag',\n",
       " 'Fly_Ash',\n",
       " 'Water',\n",
       " 'Superplasticizer',\n",
       " 'Coarse_Aggregate',\n",
       " 'Fine_Aggregate',\n",
       " 'Age',\n",
       " 'Concrete_compressive_strength']"
      ]
     },
     "execution_count": 2,
     "metadata": {},
     "output_type": "execute_result"
    }
   ],
   "source": [
    "dataset = pd.read_excel('Concrete_Data.xls', index_col=0)\n",
    "dataset.shape\n",
    "list(dataset.columns)"
   ]
  },
  {
   "cell_type": "code",
   "execution_count": 3,
   "metadata": {
    "colab": {
     "base_uri": "https://localhost:8080/",
     "height": 390
    },
    "colab_type": "code",
    "id": "-AX_BOJloG5w",
    "outputId": "be2241a9-cf7b-41e1-f884-a2b55e471783"
   },
   "outputs": [
    {
     "data": {
      "text/html": [
       "<div>\n",
       "<style scoped>\n",
       "    .dataframe tbody tr th:only-of-type {\n",
       "        vertical-align: middle;\n",
       "    }\n",
       "\n",
       "    .dataframe tbody tr th {\n",
       "        vertical-align: top;\n",
       "    }\n",
       "\n",
       "    .dataframe thead th {\n",
       "        text-align: right;\n",
       "    }\n",
       "</style>\n",
       "<table border=\"1\" class=\"dataframe\">\n",
       "  <thead>\n",
       "    <tr style=\"text-align: right;\">\n",
       "      <th></th>\n",
       "      <th>Blast_Furnace_Slag</th>\n",
       "      <th>Fly_Ash</th>\n",
       "      <th>Water</th>\n",
       "      <th>Superplasticizer</th>\n",
       "      <th>Coarse_Aggregate</th>\n",
       "      <th>Fine_Aggregate</th>\n",
       "      <th>Age</th>\n",
       "      <th>Concrete_compressive_strength</th>\n",
       "    </tr>\n",
       "    <tr>\n",
       "      <th>Cement</th>\n",
       "      <th></th>\n",
       "      <th></th>\n",
       "      <th></th>\n",
       "      <th></th>\n",
       "      <th></th>\n",
       "      <th></th>\n",
       "      <th></th>\n",
       "      <th></th>\n",
       "    </tr>\n",
       "  </thead>\n",
       "  <tbody>\n",
       "    <tr>\n",
       "      <th>540.0</th>\n",
       "      <td>0.0</td>\n",
       "      <td>0.0</td>\n",
       "      <td>162.0</td>\n",
       "      <td>2.5</td>\n",
       "      <td>1040.0</td>\n",
       "      <td>676.0</td>\n",
       "      <td>28</td>\n",
       "      <td>79.986111</td>\n",
       "    </tr>\n",
       "    <tr>\n",
       "      <th>540.0</th>\n",
       "      <td>0.0</td>\n",
       "      <td>0.0</td>\n",
       "      <td>162.0</td>\n",
       "      <td>2.5</td>\n",
       "      <td>1055.0</td>\n",
       "      <td>676.0</td>\n",
       "      <td>28</td>\n",
       "      <td>61.887366</td>\n",
       "    </tr>\n",
       "    <tr>\n",
       "      <th>332.5</th>\n",
       "      <td>142.5</td>\n",
       "      <td>0.0</td>\n",
       "      <td>228.0</td>\n",
       "      <td>0.0</td>\n",
       "      <td>932.0</td>\n",
       "      <td>594.0</td>\n",
       "      <td>270</td>\n",
       "      <td>40.269535</td>\n",
       "    </tr>\n",
       "    <tr>\n",
       "      <th>332.5</th>\n",
       "      <td>142.5</td>\n",
       "      <td>0.0</td>\n",
       "      <td>228.0</td>\n",
       "      <td>0.0</td>\n",
       "      <td>932.0</td>\n",
       "      <td>594.0</td>\n",
       "      <td>365</td>\n",
       "      <td>41.052780</td>\n",
       "    </tr>\n",
       "    <tr>\n",
       "      <th>198.6</th>\n",
       "      <td>132.4</td>\n",
       "      <td>0.0</td>\n",
       "      <td>192.0</td>\n",
       "      <td>0.0</td>\n",
       "      <td>978.4</td>\n",
       "      <td>825.5</td>\n",
       "      <td>360</td>\n",
       "      <td>44.296075</td>\n",
       "    </tr>\n",
       "    <tr>\n",
       "      <th>266.0</th>\n",
       "      <td>114.0</td>\n",
       "      <td>0.0</td>\n",
       "      <td>228.0</td>\n",
       "      <td>0.0</td>\n",
       "      <td>932.0</td>\n",
       "      <td>670.0</td>\n",
       "      <td>90</td>\n",
       "      <td>47.029847</td>\n",
       "    </tr>\n",
       "    <tr>\n",
       "      <th>380.0</th>\n",
       "      <td>95.0</td>\n",
       "      <td>0.0</td>\n",
       "      <td>228.0</td>\n",
       "      <td>0.0</td>\n",
       "      <td>932.0</td>\n",
       "      <td>594.0</td>\n",
       "      <td>365</td>\n",
       "      <td>43.698299</td>\n",
       "    </tr>\n",
       "    <tr>\n",
       "      <th>380.0</th>\n",
       "      <td>95.0</td>\n",
       "      <td>0.0</td>\n",
       "      <td>228.0</td>\n",
       "      <td>0.0</td>\n",
       "      <td>932.0</td>\n",
       "      <td>594.0</td>\n",
       "      <td>28</td>\n",
       "      <td>36.447770</td>\n",
       "    </tr>\n",
       "    <tr>\n",
       "      <th>266.0</th>\n",
       "      <td>114.0</td>\n",
       "      <td>0.0</td>\n",
       "      <td>228.0</td>\n",
       "      <td>0.0</td>\n",
       "      <td>932.0</td>\n",
       "      <td>670.0</td>\n",
       "      <td>28</td>\n",
       "      <td>45.854291</td>\n",
       "    </tr>\n",
       "    <tr>\n",
       "      <th>475.0</th>\n",
       "      <td>0.0</td>\n",
       "      <td>0.0</td>\n",
       "      <td>228.0</td>\n",
       "      <td>0.0</td>\n",
       "      <td>932.0</td>\n",
       "      <td>594.0</td>\n",
       "      <td>28</td>\n",
       "      <td>39.289790</td>\n",
       "    </tr>\n",
       "  </tbody>\n",
       "</table>\n",
       "</div>"
      ],
      "text/plain": [
       "        Blast_Furnace_Slag  Fly_Ash  Water  Superplasticizer  \\\n",
       "Cement                                                         \n",
       "540.0                  0.0      0.0  162.0               2.5   \n",
       "540.0                  0.0      0.0  162.0               2.5   \n",
       "332.5                142.5      0.0  228.0               0.0   \n",
       "332.5                142.5      0.0  228.0               0.0   \n",
       "198.6                132.4      0.0  192.0               0.0   \n",
       "266.0                114.0      0.0  228.0               0.0   \n",
       "380.0                 95.0      0.0  228.0               0.0   \n",
       "380.0                 95.0      0.0  228.0               0.0   \n",
       "266.0                114.0      0.0  228.0               0.0   \n",
       "475.0                  0.0      0.0  228.0               0.0   \n",
       "\n",
       "        Coarse_Aggregate  Fine_Aggregate  Age  Concrete_compressive_strength  \n",
       "Cement                                                                        \n",
       "540.0             1040.0           676.0   28                      79.986111  \n",
       "540.0             1055.0           676.0   28                      61.887366  \n",
       "332.5              932.0           594.0  270                      40.269535  \n",
       "332.5              932.0           594.0  365                      41.052780  \n",
       "198.6              978.4           825.5  360                      44.296075  \n",
       "266.0              932.0           670.0   90                      47.029847  \n",
       "380.0              932.0           594.0  365                      43.698299  \n",
       "380.0              932.0           594.0   28                      36.447770  \n",
       "266.0              932.0           670.0   28                      45.854291  \n",
       "475.0              932.0           594.0   28                      39.289790  "
      ]
     },
     "execution_count": 3,
     "metadata": {},
     "output_type": "execute_result"
    }
   ],
   "source": [
    "dataset.head(10)"
   ]
  },
  {
   "cell_type": "markdown",
   "metadata": {
    "colab_type": "text",
    "id": "LS9Kfz0ryIui"
   },
   "source": [
    "# Preprocesamiento de la data.\n",
    "\n",
    "Dado que se esta trabajando con un modelo profundo, no se tiene necesidad de Feature Engeneering, por lo que no se realizara una combinacion de las mismas."
   ]
  },
  {
   "cell_type": "code",
   "execution_count": 4,
   "metadata": {
    "colab": {
     "base_uri": "https://localhost:8080/",
     "height": 238
    },
    "colab_type": "code",
    "id": "C7q6v7_d-POZ",
    "outputId": "68f93e21-18fa-49ff-eaf6-60406978dbfe"
   },
   "outputs": [
    {
     "name": "stdout",
     "output_type": "stream",
     "text": [
      "<class 'pandas.core.frame.DataFrame'>\n",
      "Float64Index: 1030 entries, 540.0 to 260.9\n",
      "Data columns (total 8 columns):\n",
      "Blast_Furnace_Slag               1030 non-null float64\n",
      "Fly_Ash                          1030 non-null float64\n",
      "Water                            1030 non-null float64\n",
      "Superplasticizer                 1030 non-null float64\n",
      "Coarse_Aggregate                 1030 non-null float64\n",
      "Fine_Aggregate                   1030 non-null float64\n",
      "Age                              1030 non-null int64\n",
      "Concrete_compressive_strength    1030 non-null float64\n",
      "dtypes: float64(7), int64(1)\n",
      "memory usage: 72.4 KB\n"
     ]
    }
   ],
   "source": [
    "dataset.info()"
   ]
  },
  {
   "cell_type": "markdown",
   "metadata": {
    "colab_type": "text",
    "id": "FdqeHWs7-rQL"
   },
   "source": [
    "* Dado que es un modelo profundo no existe la necesidad feature engineering a las variables de entrada.\n",
    "* No se cuentan con valores nulos en el dataset.\n",
    "* No  se tienen variables categoricas en el dataset por lo que no hay que aplicar one-hot encoding. \n",
    "\n",
    "\n",
    "\n",
    "**Escalamiento/normalizacion de las features: Aplicacion de la formula: x' = (x - xmin)/(xmax - xmin)**\n",
    "\n"
   ]
  },
  {
   "cell_type": "code",
   "execution_count": 5,
   "metadata": {
    "colab": {
     "base_uri": "https://localhost:8080/",
     "height": 204
    },
    "colab_type": "code",
    "id": "AOws6tgG-qvM",
    "outputId": "2a1c7fac-d5f5-4be0-bf6c-74fdf5d0f0f2"
   },
   "outputs": [
    {
     "data": {
      "text/html": [
       "<div>\n",
       "<style scoped>\n",
       "    .dataframe tbody tr th:only-of-type {\n",
       "        vertical-align: middle;\n",
       "    }\n",
       "\n",
       "    .dataframe tbody tr th {\n",
       "        vertical-align: top;\n",
       "    }\n",
       "\n",
       "    .dataframe thead th {\n",
       "        text-align: right;\n",
       "    }\n",
       "</style>\n",
       "<table border=\"1\" class=\"dataframe\">\n",
       "  <thead>\n",
       "    <tr style=\"text-align: right;\">\n",
       "      <th></th>\n",
       "      <th>Blast_Furnace_Slag</th>\n",
       "      <th>Fly_Ash</th>\n",
       "      <th>Water</th>\n",
       "      <th>Superplasticizer</th>\n",
       "      <th>Coarse_Aggregate</th>\n",
       "      <th>Fine_Aggregate</th>\n",
       "      <th>Age</th>\n",
       "      <th>Concrete_compressive_strength</th>\n",
       "    </tr>\n",
       "  </thead>\n",
       "  <tbody>\n",
       "    <tr>\n",
       "      <th>0</th>\n",
       "      <td>0.000000</td>\n",
       "      <td>0.0</td>\n",
       "      <td>0.321357</td>\n",
       "      <td>0.07764</td>\n",
       "      <td>0.694767</td>\n",
       "      <td>0.205720</td>\n",
       "      <td>0.074176</td>\n",
       "      <td>0.967445</td>\n",
       "    </tr>\n",
       "    <tr>\n",
       "      <th>1</th>\n",
       "      <td>0.000000</td>\n",
       "      <td>0.0</td>\n",
       "      <td>0.321357</td>\n",
       "      <td>0.07764</td>\n",
       "      <td>0.738372</td>\n",
       "      <td>0.205720</td>\n",
       "      <td>0.074176</td>\n",
       "      <td>0.741964</td>\n",
       "    </tr>\n",
       "    <tr>\n",
       "      <th>2</th>\n",
       "      <td>0.396494</td>\n",
       "      <td>0.0</td>\n",
       "      <td>0.848303</td>\n",
       "      <td>0.00000</td>\n",
       "      <td>0.380814</td>\n",
       "      <td>0.000000</td>\n",
       "      <td>0.739011</td>\n",
       "      <td>0.472642</td>\n",
       "    </tr>\n",
       "    <tr>\n",
       "      <th>3</th>\n",
       "      <td>0.396494</td>\n",
       "      <td>0.0</td>\n",
       "      <td>0.848303</td>\n",
       "      <td>0.00000</td>\n",
       "      <td>0.380814</td>\n",
       "      <td>0.000000</td>\n",
       "      <td>1.000000</td>\n",
       "      <td>0.482400</td>\n",
       "    </tr>\n",
       "    <tr>\n",
       "      <th>4</th>\n",
       "      <td>0.368392</td>\n",
       "      <td>0.0</td>\n",
       "      <td>0.560878</td>\n",
       "      <td>0.00000</td>\n",
       "      <td>0.515698</td>\n",
       "      <td>0.580783</td>\n",
       "      <td>0.986264</td>\n",
       "      <td>0.522806</td>\n",
       "    </tr>\n",
       "  </tbody>\n",
       "</table>\n",
       "</div>"
      ],
      "text/plain": [
       "   Blast_Furnace_Slag  Fly_Ash     Water  Superplasticizer  Coarse_Aggregate  \\\n",
       "0            0.000000      0.0  0.321357           0.07764          0.694767   \n",
       "1            0.000000      0.0  0.321357           0.07764          0.738372   \n",
       "2            0.396494      0.0  0.848303           0.00000          0.380814   \n",
       "3            0.396494      0.0  0.848303           0.00000          0.380814   \n",
       "4            0.368392      0.0  0.560878           0.00000          0.515698   \n",
       "\n",
       "   Fine_Aggregate       Age  Concrete_compressive_strength  \n",
       "0        0.205720  0.074176                       0.967445  \n",
       "1        0.205720  0.074176                       0.741964  \n",
       "2        0.000000  0.739011                       0.472642  \n",
       "3        0.000000  1.000000                       0.482400  \n",
       "4        0.580783  0.986264                       0.522806  "
      ]
     },
     "execution_count": 5,
     "metadata": {},
     "output_type": "execute_result"
    }
   ],
   "source": [
    "scaling = preprocessing.MinMaxScaler()\n",
    "scaledMatrix = scaling.fit_transform(dataset)\n",
    "df_normalized = pd.DataFrame(scaledMatrix,columns=dataset.columns)\n",
    "df_normalized.head(5)"
   ]
  },
  {
   "cell_type": "markdown",
   "metadata": {
    "colab_type": "text",
    "id": "bMrk2cDnT-Y_"
   },
   "source": [
    "**Separacion del dataset entre los X y Y del modelo**"
   ]
  },
  {
   "cell_type": "code",
   "execution_count": 6,
   "metadata": {
    "colab": {},
    "colab_type": "code",
    "id": "e2ZtUmEay7uN"
   },
   "outputs": [],
   "source": [
    "X = df_normalized[['Blast_Furnace_Slag', 'Fly_Ash', 'Water', 'Superplasticizer', 'Coarse_Aggregate', 'Fine_Aggregate', 'Age',]]\n",
    "y = df_normalized[['Concrete_compressive_strength']]"
   ]
  },
  {
   "cell_type": "code",
   "execution_count": 7,
   "metadata": {
    "colab": {
     "base_uri": "https://localhost:8080/",
     "height": 359
    },
    "colab_type": "code",
    "id": "BQfJV3NYzWHN",
    "outputId": "1f39e024-5f71-4c2d-ff38-8f0d97c013b6"
   },
   "outputs": [
    {
     "data": {
      "text/html": [
       "<div>\n",
       "<style scoped>\n",
       "    .dataframe tbody tr th:only-of-type {\n",
       "        vertical-align: middle;\n",
       "    }\n",
       "\n",
       "    .dataframe tbody tr th {\n",
       "        vertical-align: top;\n",
       "    }\n",
       "\n",
       "    .dataframe thead th {\n",
       "        text-align: right;\n",
       "    }\n",
       "</style>\n",
       "<table border=\"1\" class=\"dataframe\">\n",
       "  <thead>\n",
       "    <tr style=\"text-align: right;\">\n",
       "      <th></th>\n",
       "      <th>Blast_Furnace_Slag</th>\n",
       "      <th>Fly_Ash</th>\n",
       "      <th>Water</th>\n",
       "      <th>Superplasticizer</th>\n",
       "      <th>Coarse_Aggregate</th>\n",
       "      <th>Fine_Aggregate</th>\n",
       "      <th>Age</th>\n",
       "    </tr>\n",
       "  </thead>\n",
       "  <tbody>\n",
       "    <tr>\n",
       "      <th>10</th>\n",
       "      <td>0.368392</td>\n",
       "      <td>0.0</td>\n",
       "      <td>0.560878</td>\n",
       "      <td>0.0</td>\n",
       "      <td>0.515698</td>\n",
       "      <td>0.580783</td>\n",
       "      <td>0.244505</td>\n",
       "    </tr>\n",
       "    <tr>\n",
       "      <th>11</th>\n",
       "      <td>0.368392</td>\n",
       "      <td>0.0</td>\n",
       "      <td>0.560878</td>\n",
       "      <td>0.0</td>\n",
       "      <td>0.515698</td>\n",
       "      <td>0.580783</td>\n",
       "      <td>0.074176</td>\n",
       "    </tr>\n",
       "    <tr>\n",
       "      <th>12</th>\n",
       "      <td>0.132165</td>\n",
       "      <td>0.0</td>\n",
       "      <td>0.848303</td>\n",
       "      <td>0.0</td>\n",
       "      <td>0.380814</td>\n",
       "      <td>0.000000</td>\n",
       "      <td>0.739011</td>\n",
       "    </tr>\n",
       "    <tr>\n",
       "      <th>13</th>\n",
       "      <td>0.528659</td>\n",
       "      <td>0.0</td>\n",
       "      <td>0.848303</td>\n",
       "      <td>0.0</td>\n",
       "      <td>0.380814</td>\n",
       "      <td>0.190667</td>\n",
       "      <td>0.244505</td>\n",
       "    </tr>\n",
       "    <tr>\n",
       "      <th>14</th>\n",
       "      <td>0.211464</td>\n",
       "      <td>0.0</td>\n",
       "      <td>0.848303</td>\n",
       "      <td>0.0</td>\n",
       "      <td>0.380814</td>\n",
       "      <td>0.190667</td>\n",
       "      <td>0.074176</td>\n",
       "    </tr>\n",
       "    <tr>\n",
       "      <th>15</th>\n",
       "      <td>0.000000</td>\n",
       "      <td>0.0</td>\n",
       "      <td>0.848303</td>\n",
       "      <td>0.0</td>\n",
       "      <td>0.380814</td>\n",
       "      <td>0.190667</td>\n",
       "      <td>0.244505</td>\n",
       "    </tr>\n",
       "    <tr>\n",
       "      <th>16</th>\n",
       "      <td>0.582638</td>\n",
       "      <td>0.0</td>\n",
       "      <td>0.560878</td>\n",
       "      <td>0.0</td>\n",
       "      <td>0.715116</td>\n",
       "      <td>0.534119</td>\n",
       "      <td>0.244505</td>\n",
       "    </tr>\n",
       "    <tr>\n",
       "      <th>17</th>\n",
       "      <td>0.105732</td>\n",
       "      <td>0.0</td>\n",
       "      <td>0.848303</td>\n",
       "      <td>0.0</td>\n",
       "      <td>0.380814</td>\n",
       "      <td>0.190667</td>\n",
       "      <td>1.000000</td>\n",
       "    </tr>\n",
       "    <tr>\n",
       "      <th>18</th>\n",
       "      <td>0.264329</td>\n",
       "      <td>0.0</td>\n",
       "      <td>0.848303</td>\n",
       "      <td>0.0</td>\n",
       "      <td>0.380814</td>\n",
       "      <td>0.000000</td>\n",
       "      <td>0.244505</td>\n",
       "    </tr>\n",
       "    <tr>\n",
       "      <th>19</th>\n",
       "      <td>0.000000</td>\n",
       "      <td>0.0</td>\n",
       "      <td>0.848303</td>\n",
       "      <td>0.0</td>\n",
       "      <td>0.380814</td>\n",
       "      <td>0.000000</td>\n",
       "      <td>0.491758</td>\n",
       "    </tr>\n",
       "  </tbody>\n",
       "</table>\n",
       "</div>"
      ],
      "text/plain": [
       "    Blast_Furnace_Slag  Fly_Ash     Water  Superplasticizer  Coarse_Aggregate  \\\n",
       "10            0.368392      0.0  0.560878               0.0          0.515698   \n",
       "11            0.368392      0.0  0.560878               0.0          0.515698   \n",
       "12            0.132165      0.0  0.848303               0.0          0.380814   \n",
       "13            0.528659      0.0  0.848303               0.0          0.380814   \n",
       "14            0.211464      0.0  0.848303               0.0          0.380814   \n",
       "15            0.000000      0.0  0.848303               0.0          0.380814   \n",
       "16            0.582638      0.0  0.560878               0.0          0.715116   \n",
       "17            0.105732      0.0  0.848303               0.0          0.380814   \n",
       "18            0.264329      0.0  0.848303               0.0          0.380814   \n",
       "19            0.000000      0.0  0.848303               0.0          0.380814   \n",
       "\n",
       "    Fine_Aggregate       Age  \n",
       "10        0.580783  0.244505  \n",
       "11        0.580783  0.074176  \n",
       "12        0.000000  0.739011  \n",
       "13        0.190667  0.244505  \n",
       "14        0.190667  0.074176  \n",
       "15        0.190667  0.244505  \n",
       "16        0.534119  0.244505  \n",
       "17        0.190667  1.000000  \n",
       "18        0.000000  0.244505  \n",
       "19        0.000000  0.491758  "
      ]
     },
     "execution_count": 7,
     "metadata": {},
     "output_type": "execute_result"
    }
   ],
   "source": [
    "X[10:20]"
   ]
  },
  {
   "cell_type": "code",
   "execution_count": 8,
   "metadata": {
    "colab": {
     "base_uri": "https://localhost:8080/",
     "height": 359
    },
    "colab_type": "code",
    "id": "8jJYiaBAzYTf",
    "outputId": "089bdec6-ad73-4e9c-c02d-1fbae5d107ed"
   },
   "outputs": [
    {
     "data": {
      "text/html": [
       "<div>\n",
       "<style scoped>\n",
       "    .dataframe tbody tr th:only-of-type {\n",
       "        vertical-align: middle;\n",
       "    }\n",
       "\n",
       "    .dataframe tbody tr th {\n",
       "        vertical-align: top;\n",
       "    }\n",
       "\n",
       "    .dataframe thead th {\n",
       "        text-align: right;\n",
       "    }\n",
       "</style>\n",
       "<table border=\"1\" class=\"dataframe\">\n",
       "  <thead>\n",
       "    <tr style=\"text-align: right;\">\n",
       "      <th></th>\n",
       "      <th>Concrete_compressive_strength</th>\n",
       "    </tr>\n",
       "  </thead>\n",
       "  <tbody>\n",
       "    <tr>\n",
       "      <th>10</th>\n",
       "      <td>0.445292</td>\n",
       "    </tr>\n",
       "    <tr>\n",
       "      <th>11</th>\n",
       "      <td>0.320054</td>\n",
       "    </tr>\n",
       "    <tr>\n",
       "      <th>12</th>\n",
       "      <td>0.506820</td>\n",
       "    </tr>\n",
       "    <tr>\n",
       "      <th>13</th>\n",
       "      <td>0.498273</td>\n",
       "    </tr>\n",
       "    <tr>\n",
       "      <th>14</th>\n",
       "      <td>0.566631</td>\n",
       "    </tr>\n",
       "    <tr>\n",
       "      <th>15</th>\n",
       "      <td>0.630100</td>\n",
       "    </tr>\n",
       "    <tr>\n",
       "      <th>16</th>\n",
       "      <td>0.461286</td>\n",
       "    </tr>\n",
       "    <tr>\n",
       "      <th>17</th>\n",
       "      <td>0.670386</td>\n",
       "    </tr>\n",
       "    <tr>\n",
       "      <th>18</th>\n",
       "      <td>0.476301</td>\n",
       "    </tr>\n",
       "    <tr>\n",
       "      <th>19</th>\n",
       "      <td>0.501933</td>\n",
       "    </tr>\n",
       "  </tbody>\n",
       "</table>\n",
       "</div>"
      ],
      "text/plain": [
       "    Concrete_compressive_strength\n",
       "10                       0.445292\n",
       "11                       0.320054\n",
       "12                       0.506820\n",
       "13                       0.498273\n",
       "14                       0.566631\n",
       "15                       0.630100\n",
       "16                       0.461286\n",
       "17                       0.670386\n",
       "18                       0.476301\n",
       "19                       0.501933"
      ]
     },
     "execution_count": 8,
     "metadata": {},
     "output_type": "execute_result"
    }
   ],
   "source": [
    "y[10:20]"
   ]
  },
  {
   "cell_type": "markdown",
   "metadata": {
    "colab_type": "text",
    "id": "FPBlnEAiUDW1"
   },
   "source": [
    "**Cross validations and k-folds**\n",
    "\n",
    "Procedemos a realizar el split de la data en Train/Test, se tomaran un 15% de datos para el Test, y un 85% de datos para el Train. Tambien utilizamos crossValidation k folds.\n",
    "\n",
    "Generamos tres conjuntos e training sets"
   ]
  },
  {
   "cell_type": "code",
   "execution_count": 9,
   "metadata": {
    "colab": {},
    "colab_type": "code",
    "id": "w2qMHOPNUKOJ"
   },
   "outputs": [],
   "source": [
    "def crossValidKfolds(X,y,k=3,itTest = 3):\n",
    "    if itTest>k:\n",
    "        return None\n",
    "    elif itTest == k:\n",
    "        return (X[(X.shape[0]//k)*(itTest-1):],   #xTest             \n",
    "                y[(y.shape[0]//k)*(itTest-1):],   #yTest\n",
    "                X[:(X.shape[0]//k)*(itTest-1)],   #xTrain\n",
    "                y[:(y.shape[0]//k)*(itTest-1)])   #yTrain\n",
    "    elif itTest == 1:\n",
    "        return (X[(X.shape[0]//k)*(itTest-1): (X.shape[0]//k)*(itTest)],                \n",
    "                y[(y.shape[0]//k)*(itTest-1): (y.shape[0]//k)*(itTest)],\n",
    "                X[(X.shape[0]//k)*(itTest):],\n",
    "                y[(y.shape[0]//k)*(itTest):])\n",
    "    else:\n",
    "        firstX = X[:(X.shape[0]//k)*(itTest-1)]\n",
    "        secndX = X[(X.shape[0]//k)*(itTest):]\n",
    "        firstY = y[:(y.shape[0]//k)*(itTest-1)]\n",
    "        secndY = y[(y.shape[0]//k)*(itTest):]\n",
    "        return (X[(X.shape[0]//k)*(itTest-1): (X.shape[0]//k)*(itTest)],                \n",
    "                y[(y.shape[0]//k)*(itTest-1): (y.shape[0]//k)*(itTest)],\n",
    "                pd.concat([firstX, secndX]),\n",
    "                pd.concat([firstY, secndY])) "
   ]
  },
  {
   "cell_type": "code",
   "execution_count": 10,
   "metadata": {
    "colab": {},
    "colab_type": "code",
    "id": "ITbUHZ4GUGd0"
   },
   "outputs": [],
   "source": [
    "porcentajeTest = 0.15"
   ]
  },
  {
   "cell_type": "code",
   "execution_count": 11,
   "metadata": {
    "colab": {},
    "colab_type": "code",
    "id": "TRGshxe5UVVg"
   },
   "outputs": [],
   "source": [
    "#Devolvemos el segmento 2 de 6 (int(1/0.15))\n",
    "xTest01,yTest01,xTrain01,yTrain01 = crossValidKfolds(X,y,k=int(1/porcentajeTest),itTest = 2)\n",
    "#Devolvemos el segmento 4 de 6 (int(1/0.15))\n",
    "xTest02,yTest02,xTrain02,yTrain02 = crossValidKfolds(X,y,k=int(1/porcentajeTest),itTest = 4)\n",
    "#Devolvemos el segmento 6 de 6 (int(1/0.15))\n",
    "xTest03,yTest03,xTrain03,yTrain03 = crossValidKfolds(X,y,k=int(1/porcentajeTest),itTest = 6)"
   ]
  },
  {
   "cell_type": "markdown",
   "metadata": {
    "colab_type": "text",
    "id": "SVTCH2_mTdlq"
   },
   "source": [
    "**Agregando el Bias a cada set de entrenamiento**"
   ]
  },
  {
   "cell_type": "code",
   "execution_count": 12,
   "metadata": {
    "colab": {},
    "colab_type": "code",
    "id": "qMxIDGmxTchd"
   },
   "outputs": [],
   "source": [
    "#xTrain01['Bias'] = 1\n",
    "#xTrain02['Bias'] = 1\n",
    "#xTrain03['Bias'] = 1"
   ]
  },
  {
   "cell_type": "code",
   "execution_count": 13,
   "metadata": {
    "colab": {
     "base_uri": "https://localhost:8080/",
     "height": 221
    },
    "colab_type": "code",
    "id": "UuJmQAPfVqcs",
    "outputId": "6cad5405-dfbb-48f3-b483-a9b323407857"
   },
   "outputs": [
    {
     "name": "stdout",
     "output_type": "stream",
     "text": [
      "(171, 7)\n"
     ]
    },
    {
     "data": {
      "text/html": [
       "<div>\n",
       "<style scoped>\n",
       "    .dataframe tbody tr th:only-of-type {\n",
       "        vertical-align: middle;\n",
       "    }\n",
       "\n",
       "    .dataframe tbody tr th {\n",
       "        vertical-align: top;\n",
       "    }\n",
       "\n",
       "    .dataframe thead th {\n",
       "        text-align: right;\n",
       "    }\n",
       "</style>\n",
       "<table border=\"1\" class=\"dataframe\">\n",
       "  <thead>\n",
       "    <tr style=\"text-align: right;\">\n",
       "      <th></th>\n",
       "      <th>Blast_Furnace_Slag</th>\n",
       "      <th>Fly_Ash</th>\n",
       "      <th>Water</th>\n",
       "      <th>Superplasticizer</th>\n",
       "      <th>Coarse_Aggregate</th>\n",
       "      <th>Fine_Aggregate</th>\n",
       "      <th>Age</th>\n",
       "    </tr>\n",
       "  </thead>\n",
       "  <tbody>\n",
       "    <tr>\n",
       "      <th>171</th>\n",
       "      <td>0.000000</td>\n",
       "      <td>0.0</td>\n",
       "      <td>0.160080</td>\n",
       "      <td>0.875776</td>\n",
       "      <td>0.148547</td>\n",
       "      <td>0.751882</td>\n",
       "      <td>0.247253</td>\n",
       "    </tr>\n",
       "    <tr>\n",
       "      <th>172</th>\n",
       "      <td>0.295771</td>\n",
       "      <td>0.0</td>\n",
       "      <td>0.253493</td>\n",
       "      <td>0.512422</td>\n",
       "      <td>0.148547</td>\n",
       "      <td>0.735324</td>\n",
       "      <td>0.247253</td>\n",
       "    </tr>\n",
       "    <tr>\n",
       "      <th>173</th>\n",
       "      <td>0.591263</td>\n",
       "      <td>0.0</td>\n",
       "      <td>0.271058</td>\n",
       "      <td>0.444099</td>\n",
       "      <td>0.148547</td>\n",
       "      <td>0.718515</td>\n",
       "      <td>0.247253</td>\n",
       "    </tr>\n",
       "    <tr>\n",
       "      <th>174</th>\n",
       "      <td>0.263495</td>\n",
       "      <td>0.0</td>\n",
       "      <td>0.204790</td>\n",
       "      <td>0.354037</td>\n",
       "      <td>0.423837</td>\n",
       "      <td>0.647516</td>\n",
       "      <td>0.247253</td>\n",
       "    </tr>\n",
       "    <tr>\n",
       "      <th>175</th>\n",
       "      <td>0.525876</td>\n",
       "      <td>0.0</td>\n",
       "      <td>0.344511</td>\n",
       "      <td>0.360248</td>\n",
       "      <td>0.417733</td>\n",
       "      <td>0.405921</td>\n",
       "      <td>0.247253</td>\n",
       "    </tr>\n",
       "  </tbody>\n",
       "</table>\n",
       "</div>"
      ],
      "text/plain": [
       "     Blast_Furnace_Slag  Fly_Ash     Water  Superplasticizer  \\\n",
       "171            0.000000      0.0  0.160080          0.875776   \n",
       "172            0.295771      0.0  0.253493          0.512422   \n",
       "173            0.591263      0.0  0.271058          0.444099   \n",
       "174            0.263495      0.0  0.204790          0.354037   \n",
       "175            0.525876      0.0  0.344511          0.360248   \n",
       "\n",
       "     Coarse_Aggregate  Fine_Aggregate       Age  \n",
       "171          0.148547        0.751882  0.247253  \n",
       "172          0.148547        0.735324  0.247253  \n",
       "173          0.148547        0.718515  0.247253  \n",
       "174          0.423837        0.647516  0.247253  \n",
       "175          0.417733        0.405921  0.247253  "
      ]
     },
     "execution_count": 13,
     "metadata": {},
     "output_type": "execute_result"
    }
   ],
   "source": [
    "print(xTest01.shape)\n",
    "xTest01.head()"
   ]
  },
  {
   "cell_type": "code",
   "execution_count": 14,
   "metadata": {
    "colab": {
     "base_uri": "https://localhost:8080/",
     "height": 221
    },
    "colab_type": "code",
    "id": "_xmEvBWPWBVh",
    "outputId": "4cf03e78-3900-48ca-a84e-e83def8f1236"
   },
   "outputs": [
    {
     "name": "stdout",
     "output_type": "stream",
     "text": [
      "(171, 1)\n"
     ]
    },
    {
     "data": {
      "text/html": [
       "<div>\n",
       "<style scoped>\n",
       "    .dataframe tbody tr th:only-of-type {\n",
       "        vertical-align: middle;\n",
       "    }\n",
       "\n",
       "    .dataframe tbody tr th {\n",
       "        vertical-align: top;\n",
       "    }\n",
       "\n",
       "    .dataframe thead th {\n",
       "        text-align: right;\n",
       "    }\n",
       "</style>\n",
       "<table border=\"1\" class=\"dataframe\">\n",
       "  <thead>\n",
       "    <tr style=\"text-align: right;\">\n",
       "      <th></th>\n",
       "      <th>Concrete_compressive_strength</th>\n",
       "    </tr>\n",
       "  </thead>\n",
       "  <tbody>\n",
       "    <tr>\n",
       "      <th>171</th>\n",
       "      <td>0.708464</td>\n",
       "    </tr>\n",
       "    <tr>\n",
       "      <th>172</th>\n",
       "      <td>0.783195</td>\n",
       "    </tr>\n",
       "    <tr>\n",
       "      <th>173</th>\n",
       "      <td>0.819358</td>\n",
       "    </tr>\n",
       "    <tr>\n",
       "      <th>174</th>\n",
       "      <td>0.911526</td>\n",
       "    </tr>\n",
       "    <tr>\n",
       "      <th>175</th>\n",
       "      <td>0.958855</td>\n",
       "    </tr>\n",
       "  </tbody>\n",
       "</table>\n",
       "</div>"
      ],
      "text/plain": [
       "     Concrete_compressive_strength\n",
       "171                       0.708464\n",
       "172                       0.783195\n",
       "173                       0.819358\n",
       "174                       0.911526\n",
       "175                       0.958855"
      ]
     },
     "execution_count": 14,
     "metadata": {},
     "output_type": "execute_result"
    }
   ],
   "source": [
    "print(yTest01.shape)\n",
    "yTest01.head()"
   ]
  },
  {
   "cell_type": "code",
   "execution_count": 15,
   "metadata": {
    "colab": {
     "base_uri": "https://localhost:8080/",
     "height": 221
    },
    "colab_type": "code",
    "id": "VPE6pqyPWZMt",
    "outputId": "affbc9d4-2820-439c-be65-c81ecc1b0bdb"
   },
   "outputs": [
    {
     "name": "stdout",
     "output_type": "stream",
     "text": [
      "(859, 7)\n"
     ]
    },
    {
     "data": {
      "text/html": [
       "<div>\n",
       "<style scoped>\n",
       "    .dataframe tbody tr th:only-of-type {\n",
       "        vertical-align: middle;\n",
       "    }\n",
       "\n",
       "    .dataframe tbody tr th {\n",
       "        vertical-align: top;\n",
       "    }\n",
       "\n",
       "    .dataframe thead th {\n",
       "        text-align: right;\n",
       "    }\n",
       "</style>\n",
       "<table border=\"1\" class=\"dataframe\">\n",
       "  <thead>\n",
       "    <tr style=\"text-align: right;\">\n",
       "      <th></th>\n",
       "      <th>Blast_Furnace_Slag</th>\n",
       "      <th>Fly_Ash</th>\n",
       "      <th>Water</th>\n",
       "      <th>Superplasticizer</th>\n",
       "      <th>Coarse_Aggregate</th>\n",
       "      <th>Fine_Aggregate</th>\n",
       "      <th>Age</th>\n",
       "    </tr>\n",
       "  </thead>\n",
       "  <tbody>\n",
       "    <tr>\n",
       "      <th>0</th>\n",
       "      <td>0.000000</td>\n",
       "      <td>0.0</td>\n",
       "      <td>0.321357</td>\n",
       "      <td>0.07764</td>\n",
       "      <td>0.694767</td>\n",
       "      <td>0.205720</td>\n",
       "      <td>0.074176</td>\n",
       "    </tr>\n",
       "    <tr>\n",
       "      <th>1</th>\n",
       "      <td>0.000000</td>\n",
       "      <td>0.0</td>\n",
       "      <td>0.321357</td>\n",
       "      <td>0.07764</td>\n",
       "      <td>0.738372</td>\n",
       "      <td>0.205720</td>\n",
       "      <td>0.074176</td>\n",
       "    </tr>\n",
       "    <tr>\n",
       "      <th>2</th>\n",
       "      <td>0.396494</td>\n",
       "      <td>0.0</td>\n",
       "      <td>0.848303</td>\n",
       "      <td>0.00000</td>\n",
       "      <td>0.380814</td>\n",
       "      <td>0.000000</td>\n",
       "      <td>0.739011</td>\n",
       "    </tr>\n",
       "    <tr>\n",
       "      <th>3</th>\n",
       "      <td>0.396494</td>\n",
       "      <td>0.0</td>\n",
       "      <td>0.848303</td>\n",
       "      <td>0.00000</td>\n",
       "      <td>0.380814</td>\n",
       "      <td>0.000000</td>\n",
       "      <td>1.000000</td>\n",
       "    </tr>\n",
       "    <tr>\n",
       "      <th>4</th>\n",
       "      <td>0.368392</td>\n",
       "      <td>0.0</td>\n",
       "      <td>0.560878</td>\n",
       "      <td>0.00000</td>\n",
       "      <td>0.515698</td>\n",
       "      <td>0.580783</td>\n",
       "      <td>0.986264</td>\n",
       "    </tr>\n",
       "  </tbody>\n",
       "</table>\n",
       "</div>"
      ],
      "text/plain": [
       "   Blast_Furnace_Slag  Fly_Ash     Water  Superplasticizer  Coarse_Aggregate  \\\n",
       "0            0.000000      0.0  0.321357           0.07764          0.694767   \n",
       "1            0.000000      0.0  0.321357           0.07764          0.738372   \n",
       "2            0.396494      0.0  0.848303           0.00000          0.380814   \n",
       "3            0.396494      0.0  0.848303           0.00000          0.380814   \n",
       "4            0.368392      0.0  0.560878           0.00000          0.515698   \n",
       "\n",
       "   Fine_Aggregate       Age  \n",
       "0        0.205720  0.074176  \n",
       "1        0.205720  0.074176  \n",
       "2        0.000000  0.739011  \n",
       "3        0.000000  1.000000  \n",
       "4        0.580783  0.986264  "
      ]
     },
     "execution_count": 15,
     "metadata": {},
     "output_type": "execute_result"
    }
   ],
   "source": [
    "print(xTrain01.shape)\n",
    "xTrain01.head()"
   ]
  },
  {
   "cell_type": "code",
   "execution_count": 16,
   "metadata": {
    "colab": {
     "base_uri": "https://localhost:8080/",
     "height": 221
    },
    "colab_type": "code",
    "id": "9Tefo3JSdt0Z",
    "outputId": "9b477d76-cb81-4a99-f83f-2a2796a269e8"
   },
   "outputs": [
    {
     "name": "stdout",
     "output_type": "stream",
     "text": [
      "(859, 1)\n"
     ]
    },
    {
     "data": {
      "text/html": [
       "<div>\n",
       "<style scoped>\n",
       "    .dataframe tbody tr th:only-of-type {\n",
       "        vertical-align: middle;\n",
       "    }\n",
       "\n",
       "    .dataframe tbody tr th {\n",
       "        vertical-align: top;\n",
       "    }\n",
       "\n",
       "    .dataframe thead th {\n",
       "        text-align: right;\n",
       "    }\n",
       "</style>\n",
       "<table border=\"1\" class=\"dataframe\">\n",
       "  <thead>\n",
       "    <tr style=\"text-align: right;\">\n",
       "      <th></th>\n",
       "      <th>Concrete_compressive_strength</th>\n",
       "    </tr>\n",
       "  </thead>\n",
       "  <tbody>\n",
       "    <tr>\n",
       "      <th>0</th>\n",
       "      <td>0.967445</td>\n",
       "    </tr>\n",
       "    <tr>\n",
       "      <th>1</th>\n",
       "      <td>0.741964</td>\n",
       "    </tr>\n",
       "    <tr>\n",
       "      <th>2</th>\n",
       "      <td>0.472642</td>\n",
       "    </tr>\n",
       "    <tr>\n",
       "      <th>3</th>\n",
       "      <td>0.482400</td>\n",
       "    </tr>\n",
       "    <tr>\n",
       "      <th>4</th>\n",
       "      <td>0.522806</td>\n",
       "    </tr>\n",
       "  </tbody>\n",
       "</table>\n",
       "</div>"
      ],
      "text/plain": [
       "   Concrete_compressive_strength\n",
       "0                       0.967445\n",
       "1                       0.741964\n",
       "2                       0.472642\n",
       "3                       0.482400\n",
       "4                       0.522806"
      ]
     },
     "execution_count": 16,
     "metadata": {},
     "output_type": "execute_result"
    }
   ],
   "source": [
    "print(yTrain01.shape)\n",
    "yTrain01.head()"
   ]
  },
  {
   "cell_type": "markdown",
   "metadata": {
    "colab_type": "text",
    "id": "BJ3FzZ7lust7"
   },
   "source": [
    "# Arquitectura de la red\n",
    "\n",
    "* Funciones de activacion:\n",
    "\n",
    "Para la neurona de salida, como funcion de activacion, se utilizará la funcion ReLu, dada que la data ha sido normalizada, tendrá unicamente valores entre 0 y 1.\n",
    "\n",
    "* Funcion de costo:\n",
    "\n",
    "Dada la regresion, se utilizará la clásica funcion de costo MSE.\n",
    "\n",
    "* Input y Output layer:\n",
    "\n",
    "Tenemos 7 features, por lo que tendremos 7 parametros de entrada. Dado que buscamos resolver un problema de regresion, utilizaremos unicamente una capa de salida. \n",
    "\n",
    "* Hidden Layer(s):\n",
    "\n",
    "Se partira de un modelo de dos capas ocultas, cada capa con cinco neuronas. A partir de esto, se iniciará la experimentación. Como función de activación para cada capa, se utilizará le función ReLu, aunque tambien se experimentará con la función Leaky ReLu.\n",
    "\n",
    "* Optimizadores:  Se utilizara el optimizador Nesterov y el Adam.\n",
    "\n",
    "* Se utilizará early stopping, deteniendo el entrenamiento cuando el error comience a aumentar.\n",
    "\n",
    "* Se utilizará dropout en caso de ser necesario, para combatir el overfitting de la red.\n",
    "\n",
    "* Como numero de neuronas en cada capa interna, se utilizaran 5 neuronas.\n",
    "\n",
    "* Como numero de capas internas, el modelo utilizará dos capas.\n",
    "\n",
    "*Los hiper parametros de numero de capas y numero de neuronas en cada capa oculta, podrán variar dependiendo de si tenemos overfitting o underfitting.\n",
    "\n",
    "Se aplicara mini batch gradient descent con un batch de 64, y a partir de ahi se harán pruebas."
   ]
  },
  {
   "cell_type": "markdown",
   "metadata": {
    "colab_type": "text",
    "id": "JQLWmp-u4lN8"
   },
   "source": [
    "### Creacion del modelo:"
   ]
  },
  {
   "cell_type": "markdown",
   "metadata": {
    "colab_type": "text",
    "id": "ytBaN1KVHGkr"
   },
   "source": [
    "Semantica de las matrices de pesos:\n",
    "* Filas: Representan la cantidad e parametros entrenables (incluyendo el bias)\n",
    "* Columnas: Representan la cantidad de neuronas."
   ]
  },
  {
   "cell_type": "markdown",
   "metadata": {
    "colab_type": "text",
    "id": "pAKGQ7iB-MhT"
   },
   "source": [
    "Creacion de batches:"
   ]
  },
  {
   "cell_type": "code",
   "execution_count": 17,
   "metadata": {
    "colab": {},
    "colab_type": "code",
    "id": "zGorXA1mOxxJ"
   },
   "outputs": [],
   "source": [
    "def batchsizeDivision(x=xTrain01,y=yTrain01,batchSize=128):\n",
    "  batchesListX = []\n",
    "  batchesListY = []\n",
    "  for i in range((x.shape[0]//batchSize)+1):\n",
    "    if i>=(x.shape[0]/batchSize):\n",
    "      batchesListX.append(x[i*batchSize:])\n",
    "      batchesListY.append(y[i*batchSize:])\n",
    "    else:\n",
    "      batchesListX.append(x[i*batchSize:(i+1)*batchSize])\n",
    "      batchesListY.append(y[i*batchSize:(i+1)*batchSize])\n",
    "  return (batchesListX,batchesListY)"
   ]
  },
  {
   "cell_type": "markdown",
   "metadata": {
    "colab_type": "text",
    "id": "l0jJJ6Cx-SEC"
   },
   "source": [
    "Creacion del grafo:"
   ]
  },
  {
   "cell_type": "code",
   "execution_count": 18,
   "metadata": {
    "colab": {},
    "colab_type": "code",
    "id": "Ay8kOFDRuqIs"
   },
   "outputs": [
    {
     "name": "stdout",
     "output_type": "stream",
     "text": [
      "\n",
      "WARNING: The TensorFlow contrib module will not be included in TensorFlow 2.0.\n",
      "For more information, please see:\n",
      "  * https://github.com/tensorflow/community/blob/master/rfcs/20180907-contrib-sunset.md\n",
      "  * https://github.com/tensorflow/addons\n",
      "If you depend on functionality not listed there, please file an issue.\n",
      "\n",
      "WARNING:tensorflow:From /Users/FranciscoMorales/anaconda3/envs/tensor_flow_cpu/lib/python3.6/site-packages/tensorflow/python/framework/op_def_library.py:263: colocate_with (from tensorflow.python.framework.ops) is deprecated and will be removed in a future version.\n",
      "Instructions for updating:\n",
      "Colocations handled automatically by placer.\n"
     ]
    }
   ],
   "source": [
    "MLPgraph = tf.Graph()\n",
    "with MLPgraph.as_default():\n",
    "  #Carga de la data:\n",
    "  with tf.name_scope('pureData') as scope:\n",
    "\n",
    "    #Inicializando matrices de pesos (Xavier inicialization)\n",
    "    w01 = tf.get_variable(name= \"W1\", shape=[8, 5],\n",
    "           initializer=tf.contrib.layers.xavier_initializer())\n",
    "    w02 = tf.get_variable(name= \"W2\", shape=[6, 5],\n",
    "           initializer=tf.contrib.layers.xavier_initializer())\n",
    "    w03 = tf.get_variable(name= \"W3\", shape=[6, 1],\n",
    "            initializer=tf.contrib.layers.xavier_initializer())\n",
    "    #Aplicando matriz de pesos a capa:\n",
    "    preX = tf.placeholder(dtype=tf.float32,name='X', shape = [None,7])\n",
    "    Y = tf.placeholder(dtype=tf.float32,name='Y', shape= [None,1])\n",
    "    learningRate = tf.placeholder(dtype=tf.float32,name='LR')\n",
    "\n",
    "    X = tf.pad(tensor=preX,paddings= tf.constant([[0,0],[1,0]]),\n",
    "               mode='CONSTANT',constant_values=1.0000) #vector de 8x128\n",
    "\n",
    "\n",
    "  with tf.name_scope('feedFoward') as scope:\n",
    "    #Aplicando feedFoward - Primera capa oculta\n",
    "    a01 = tf.nn.relu(tf.matmul(X,w01))\n",
    "    A01 = tf.pad(tensor=a01,paddings= tf.constant([[0,0],[1,0]]),\n",
    "               mode='CONSTANT',constant_values=1.0000) \n",
    "    #Aplicando feedFoward - Segunda capa oculta\n",
    "    a02 = tf.nn.relu(tf.matmul(A01,w02))\n",
    "    A02 = tf.pad(tensor=a02,paddings= tf.constant([[0,0],[1,0]]),\n",
    "                 mode='CONSTANT',constant_values=1.0000) \n",
    "    #Aplicando feedForward - Tercera capa oculta\n",
    "    a03 = tf.nn.relu(tf.matmul(A02,w03))   \n",
    "  \n",
    "  with tf.name_scope('costFunctionMSE') as scope:\n",
    "    costFunction = 0.5*tf.reduce_mean(tf.pow((Y-a03),2))\n",
    "\n",
    "  with tf.name_scope('gradient_optimizer') as scope:\n",
    "    optimizador =  tf.train.AdamOptimizer(learningRate).minimize(costFunction)\n",
    "    #optimizer = tf.train.AdamOptimizer(learning_rate).minimize(costFunction,var_list=[w01,w02,w03])"
   ]
  },
  {
   "cell_type": "markdown",
   "metadata": {
    "colab_type": "text",
    "id": "d-dvxNAa-Xoi"
   },
   "source": [
    "Funcion de entrenamiento:"
   ]
  },
  {
   "cell_type": "code",
   "execution_count": 19,
   "metadata": {
    "colab": {},
    "colab_type": "code",
    "id": "i1an6Ddhdxlh"
   },
   "outputs": [],
   "source": [
    "def trainingFunction(x,y,lr,epoch,showError):\n",
    "  #Resetteando el grafo\n",
    "  tf.reset_default_graph()\n",
    "  #Iniciando la sesion.\n",
    "  with tf.Session(graph = MLPgraph) as session:\n",
    "    init=tf.global_variables_initializer().run() \n",
    "    #Utilizando mini-batch:\n",
    "    xBatchList, yBatchList = batchsizeDivision(x,y,128)\n",
    "    #Cada epoch implica una corrida total de los batch generados.\n",
    "    for i in range(epoch):\n",
    "      for b in range(len(xBatchList)):\n",
    "        MSE,W1,W2, W3,_ = session.run([costFunction, w01,w02,w03,optimizador],\n",
    "                                      feed_dict = {preX:xBatchList[b],Y:yBatchList[b],learningRate:lr})\n",
    "      if i%showError == 0:\n",
    "        print('Epoch: '+str(i)+' error: '+str(MSE))\n",
    "  return W1,W2,W3"
   ]
  },
  {
   "cell_type": "markdown",
   "metadata": {
    "colab_type": "text",
    "id": "qBBXJ14U-d40"
   },
   "source": [
    "# Experimentacion\n",
    "\n",
    "Utilizamos la data obtenida mediante el proceso de Cross Validation:"
   ]
  },
  {
   "cell_type": "code",
   "execution_count": 20,
   "metadata": {
    "colab": {
     "base_uri": "https://localhost:8080/",
     "height": 187
    },
    "colab_type": "code",
    "id": "_R9nbnD3qavm",
    "outputId": "bf3ace18-5b6a-4033-8c48-415af08bd7df"
   },
   "outputs": [
    {
     "name": "stdout",
     "output_type": "stream",
     "text": [
      "Epoch: 0 error: 0.08567991\n",
      "Epoch: 10 error: 0.08561015\n",
      "Epoch: 20 error: 0.08550274\n",
      "Epoch: 30 error: 0.08378652\n",
      "Epoch: 40 error: 0.07360977\n",
      "Epoch: 50 error: 0.04864864\n",
      "Epoch: 60 error: 0.030125638\n",
      "Epoch: 70 error: 0.023318393\n",
      "Epoch: 80 error: 0.020298664\n",
      "Epoch: 90 error: 0.018956557\n"
     ]
    }
   ],
   "source": [
    "W01, W02, W03 = trainingFunction(x=xTrain01,y=yTrain01,lr=0.0001,epoch=100,showError=10)"
   ]
  },
  {
   "cell_type": "code",
   "execution_count": 24,
   "metadata": {
    "colab": {
     "base_uri": "https://localhost:8080/",
     "height": 187
    },
    "colab_type": "code",
    "id": "Pq27_roOrROi",
    "outputId": "721959d3-aaa0-415d-a5d7-0d2023d70ba1"
   },
   "outputs": [
    {
     "name": "stdout",
     "output_type": "stream",
     "text": [
      "Epoch: 0 error: 0.08564487\n",
      "Epoch: 10 error: 0.08562021\n",
      "Epoch: 20 error: 0.08534939\n",
      "Epoch: 30 error: 0.084787674\n",
      "Epoch: 40 error: 0.08432511\n",
      "Epoch: 50 error: 0.08342004\n",
      "Epoch: 60 error: 0.08047461\n",
      "Epoch: 70 error: 0.07551292\n",
      "Epoch: 80 error: 0.069942646\n",
      "Epoch: 90 error: 0.06529662\n"
     ]
    }
   ],
   "source": [
    "W11, W12, W13 = trainingFunction(x=xTrain02,y=yTrain02,lr=0.0001,epoch=100,showError=10)"
   ]
  },
  {
   "cell_type": "code",
   "execution_count": 22,
   "metadata": {
    "colab": {
     "base_uri": "https://localhost:8080/",
     "height": 187
    },
    "colab_type": "code",
    "id": "B4NXTOq561er",
    "outputId": "0712fd77-0802-4440-a93e-59814ea6b5ca"
   },
   "outputs": [
    {
     "name": "stdout",
     "output_type": "stream",
     "text": [
      "Epoch: 0 error: 0.02042287\n",
      "Epoch: 10 error: 0.020090237\n",
      "Epoch: 20 error: 0.019801889\n",
      "Epoch: 30 error: 0.019537533\n",
      "Epoch: 40 error: 0.019285625\n",
      "Epoch: 50 error: 0.019052655\n",
      "Epoch: 60 error: 0.018808527\n",
      "Epoch: 70 error: 0.018532412\n",
      "Epoch: 80 error: 0.018257964\n",
      "Epoch: 90 error: 0.017995775\n"
     ]
    }
   ],
   "source": [
    "W21, W22, W23 = trainingFunction(x=xTrain03,y=yTrain03,lr=0.0001,epoch=100,showError=10)"
   ]
  },
  {
   "cell_type": "markdown",
   "metadata": {
    "colab": {},
    "colab_type": "code",
    "id": "LuZpAZW-915A"
   },
   "source": [
    "# Aplicacion de resultados:\n",
    "\n",
    "Vemos que al momento de utilizar la data creada utilizando cross-validation, el que mejor desempeño tuvo en el entrenamiento fue el tercer experimento, por tanto, procedemos a utilizarlo con la data real."
   ]
  },
  {
   "cell_type": "code",
   "execution_count": 27,
   "metadata": {},
   "outputs": [
    {
     "name": "stdout",
     "output_type": "stream",
     "text": [
      "(8, 5)\n",
      "(6, 5)\n",
      "(6, 1)\n"
     ]
    }
   ],
   "source": [
    "print(W21.shape)\n",
    "print(W22.shape)\n",
    "print(W23.shape)"
   ]
  },
  {
   "cell_type": "code",
   "execution_count": 46,
   "metadata": {},
   "outputs": [],
   "source": [
    "def validData(y,x,w1,w2,w3):\n",
    "    realX = np.append(x,np.ones_like(y),axis=1)\n",
    "    firstLayer = np.matmul(realX,w1)\n",
    "    secondLayer = np.matmul(np.append(firstLayer,np.ones_like(y),axis=1),w2)\n",
    "    outputLayer = np.matmul(np.append(secondLayer,np.ones_like(y),axis=1),w3)\n",
    "    MSE = 0.5*np.mean(np.power((y-outputLayer),2))\n",
    "    return MSE\n",
    "    "
   ]
  },
  {
   "cell_type": "markdown",
   "metadata": {},
   "source": [
    "### Experimentacion con los primeros parametros y los diversos sets de entrenamiento"
   ]
  },
  {
   "cell_type": "code",
   "execution_count": 49,
   "metadata": {},
   "outputs": [
    {
     "name": "stdout",
     "output_type": "stream",
     "text": [
      "Concrete_compressive_strength    0.052674\n",
      "dtype: float64\n"
     ]
    }
   ],
   "source": [
    "print(validData(yTrain01,xTrain01,W01, W02, W03))"
   ]
  },
  {
   "cell_type": "code",
   "execution_count": 50,
   "metadata": {},
   "outputs": [
    {
     "name": "stdout",
     "output_type": "stream",
     "text": [
      "Concrete_compressive_strength    0.054382\n",
      "dtype: float64\n"
     ]
    }
   ],
   "source": [
    "print(validData(yTrain02,xTrain02,W01, W02, W03))"
   ]
  },
  {
   "cell_type": "code",
   "execution_count": 52,
   "metadata": {},
   "outputs": [
    {
     "name": "stdout",
     "output_type": "stream",
     "text": [
      "Concrete_compressive_strength    0.036289\n",
      "dtype: float64\n"
     ]
    }
   ],
   "source": [
    "print(validData(yTrain03,xTrain03,W01, W02, W03))"
   ]
  },
  {
   "cell_type": "markdown",
   "metadata": {},
   "source": [
    "### Experimentacion con los segundos parametros y los diversos sets de entrenamiento"
   ]
  },
  {
   "cell_type": "code",
   "execution_count": 53,
   "metadata": {},
   "outputs": [
    {
     "name": "stdout",
     "output_type": "stream",
     "text": [
      "Concrete_compressive_strength    0.134656\n",
      "dtype: float64\n"
     ]
    }
   ],
   "source": [
    "print(validData(yTrain01,xTrain01,W11, W12, W13))"
   ]
  },
  {
   "cell_type": "code",
   "execution_count": 54,
   "metadata": {},
   "outputs": [
    {
     "name": "stdout",
     "output_type": "stream",
     "text": [
      "Concrete_compressive_strength    0.13912\n",
      "dtype: float64\n"
     ]
    }
   ],
   "source": [
    "print(validData(yTrain02,xTrain02,W11, W12, W13))"
   ]
  },
  {
   "cell_type": "code",
   "execution_count": 55,
   "metadata": {},
   "outputs": [
    {
     "name": "stdout",
     "output_type": "stream",
     "text": [
      "Concrete_compressive_strength    0.134481\n",
      "dtype: float64\n"
     ]
    }
   ],
   "source": [
    "print(validData(yTrain03,xTrain03,W11, W12, W13))"
   ]
  },
  {
   "cell_type": "markdown",
   "metadata": {},
   "source": [
    "### Experimentacion con los terceros parametros y los diversos sets de entrenamiento"
   ]
  },
  {
   "cell_type": "code",
   "execution_count": 56,
   "metadata": {},
   "outputs": [
    {
     "name": "stdout",
     "output_type": "stream",
     "text": [
      "Concrete_compressive_strength    0.161022\n",
      "dtype: float64\n"
     ]
    }
   ],
   "source": [
    "print(validData(yTrain01,xTrain01,W21, W22, W23))"
   ]
  },
  {
   "cell_type": "code",
   "execution_count": 57,
   "metadata": {},
   "outputs": [
    {
     "name": "stdout",
     "output_type": "stream",
     "text": [
      "Concrete_compressive_strength    0.13912\n",
      "dtype: float64\n"
     ]
    }
   ],
   "source": [
    "print(validData(yTrain02,xTrain02,W21, W22, W23))"
   ]
  },
  {
   "cell_type": "code",
   "execution_count": 58,
   "metadata": {},
   "outputs": [
    {
     "name": "stdout",
     "output_type": "stream",
     "text": [
      "Concrete_compressive_strength    0.170227\n",
      "dtype: float64\n"
     ]
    }
   ],
   "source": [
    "print(validData(yTrain03,xTrain03,W21, W22, W23))"
   ]
  },
  {
   "cell_type": "markdown",
   "metadata": {},
   "source": [
    "# Comentarios:\n",
    "\n",
    "Observamos que aun cuando en el entrenamiento el tercer experimento fue el mejor, al momento de evaluar los datos de prueba el primer experimento es el que menor error provoca, por tanto, en un ambiente de produccion, se utilizarían los primeros parametros."
   ]
  },
  {
   "cell_type": "code",
   "execution_count": null,
   "metadata": {},
   "outputs": [],
   "source": []
  }
 ],
 "metadata": {
  "colab": {
   "collapsed_sections": [],
   "name": "MLP_statistical_learning_2.ipynb",
   "provenance": [],
   "toc_visible": true
  },
  "kernelspec": {
   "display_name": "Python 3",
   "language": "python",
   "name": "python3"
  },
  "language_info": {
   "codemirror_mode": {
    "name": "ipython",
    "version": 3
   },
   "file_extension": ".py",
   "mimetype": "text/x-python",
   "name": "python",
   "nbconvert_exporter": "python",
   "pygments_lexer": "ipython3",
   "version": "3.6.8"
  }
 },
 "nbformat": 4,
 "nbformat_minor": 1
}
