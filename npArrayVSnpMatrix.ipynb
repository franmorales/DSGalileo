{
 "cells": [
  {
   "cell_type": "markdown",
   "metadata": {},
   "source": [
    "## np.array() VS. np.matrix()\n",
    "\n",
    "Ambas formas pueden representar tensores de grado 2 (matrices tal como las conocemos en matematicas). Dado que una matriz se puede tomar como una agrupacion de vectores (un tensor de grado dos se puede entenrse como la composicion de dos o mas tensores de grado 1), es posible crear matrices a traves de vectores."
   ]
  },
  {
   "cell_type": "markdown",
   "metadata": {},
   "source": [
    "## Analisis inicial\n",
    "\n",
    "A continuacion se muestran algunas declaraciones de estos objetos:"
   ]
  },
  {
   "cell_type": "code",
   "execution_count": 27,
   "metadata": {},
   "outputs": [
    {
     "name": "stdout",
     "output_type": "stream",
     "text": [
      "\n",
      "Matriz como utilizando una composicion de vectores\n",
      " [[ 7  5]\n",
      " [11 17]]\n",
      "\n",
      "Matriz declarada de forma estandard utilizando np.matrix()\n",
      " [[ 7  5]\n",
      " [11 17]]\n",
      "\n",
      "Tipo del objeto vectMat <class 'numpy.ndarray'>\n",
      "Tipo del objeto matF1 <class 'numpy.matrixlib.defmatrix.matrix'>\n",
      "\n",
      "Rango para el tensor vectMat 2\n",
      "Forma para el tensor vectMat (2, 2)\n",
      "\n",
      "Rango para el tensor matF1 2\n",
      "Forma para el tensor matF1 (2, 2)\n"
     ]
    }
   ],
   "source": [
    "import numpy as np\n",
    "vectMat = np.array([[7,5],[11,17]])\n",
    "vectMat2 = np.array([[5,2],[4,19]])\n",
    "matF1 = np.matrix([[7,5],[11,17]])\n",
    "matF2 = np.matrix([[5,2],[4,19]])\n",
    "\n",
    "\n",
    "print('\\nMatriz como utilizando una composicion de vectores\\n',vectMat)\n",
    "print('\\nMatriz declarada de forma estandard utilizando np.matrix()\\n', matF1)\n",
    "\n",
    "print('\\nTipo del objeto vectMat', type(vectMat))\n",
    "print('Tipo del objeto matF1', type(matF1))\n",
    "\n",
    "print('\\nRango para el tensor vectMat', vectMat.ndim)\n",
    "print('Forma para el tensor vectMat', vectMat.shape)\n",
    "print('\\nRango para el tensor matF1', matF1.ndim)\n",
    "print('Forma para el tensor matF1', matF1.shape)\n"
   ]
  },
  {
   "cell_type": "markdown",
   "metadata": {},
   "source": [
    "A primera vista puede decirse que en sus caracteristicas matematicas basicas son practicamente equivalentes. Ambos son tensores de rango 2 y ambos devuelven una tupla con el tamano de la matriz. \n",
    "\n",
    "Sin embargo, la diferencia se muestra en el tipo de objeto que representan, siendo el objeto generado con np.array() un objeto de tipo nd.array y el otro un objeto de tipo matrix. Esto conlleva consecuencias fundamentales al momento de aplicar funciones y metodos a los mismos.\n",
    "\n",
    "Se muestran algunas operaciones basicas comunes entre ambos tipos de estructueras(vectores y matrices)"
   ]
  },
  {
   "cell_type": "code",
   "execution_count": 66,
   "metadata": {},
   "outputs": [
    {
     "name": "stdout",
     "output_type": "stream",
     "text": [
      "Segunda estructura para realizar las operaciones:\n",
      " [[ 5  2]\n",
      " [ 4 19]]\n",
      "\n",
      "\n",
      "Suma utilizando objetos tipo np.array \n",
      " [[12  7]\n",
      " [15 36]]\n",
      "Suma utilizando objetos tipo np.matrix \n",
      " [[12  7]\n",
      " [15 36]]\n",
      "\n",
      "Resta utilizando objetos tipo np.array \n",
      " [[ 2  3]\n",
      " [ 7 -2]]\n",
      "Resta utilizando objetos tipo np.matrix \n",
      " [[ 2  3]\n",
      " [ 7 -2]]\n",
      "\n",
      "Multilicacion utilizando objetios tipo np.array()\n",
      " [[ 35  10]\n",
      " [ 44 323]]\n",
      "Multiplicacion utilizando objetos tipo np.matrix()\n",
      " [[ 55 109]\n",
      " [123 345]]\n"
     ]
    }
   ],
   "source": [
    "print('Segunda estructura para realizar las operaciones:\\n', matF2)\n",
    "\n",
    "\n",
    "print('\\n\\nSuma utilizando objetos tipo np.array \\n', vectMat+vectMat2)\n",
    "print('Suma utilizando objetos tipo np.matrix \\n', matF1+matF2)\n",
    "\n",
    "\n",
    "print('\\nResta utilizando objetos tipo np.array \\n',  vectMat-vectMat2)\n",
    "print('Resta utilizando objetos tipo np.matrix \\n', matF1-matF2 )\n",
    "\n",
    "print('\\nMultilicacion utilizando objetios tipo np.array()\\n', vectMat*vectMat2)\n",
    "print('Multiplicacion utilizando objetos tipo np.matrix()\\n', matF1*matF2)\n"
   ]
  },
  {
   "cell_type": "markdown",
   "metadata": {},
   "source": [
    "Como se puede apreciar, vemos que tanto la suma como la resta tienen el mismo resultado, puesto que matematicamente estan definidas de la misma forma para ambas estructuras, sin embargo, la primera notable diferencia la encontramos en la multiplicacion. Vemos que las estructuras definidas mediante np.matrix respetan las reglas matematicas de esta operacion mientras que las definidas por np.array multiplican elemento por elemento. \n",
    "\n",
    "De igual forma, para todas las demas operaciones definidas para las matrices unicamente (matriz inversa, transpuesta, determinante, etc)\n",
    "\n",
    "Sin embargo, es posible efectuar operaciones con los mismos resultados propias de matrices para objetos tipo np.array() utilizando otro tipo de comandos:\n"
   ]
  },
  {
   "cell_type": "markdown",
   "metadata": {},
   "source": [
    "Otra distincion entre np.array() y np.matrix() (y la que supone una ventaja de np.array() sobre np.matrix()) es en cuanto a la creacion de tensores de rango superior, dado que np.array() es en general para estructuras de N  dimensiones mientras que np.matrix es estrictamente (al menos teoria) para estructuras de dos dimensiones."
   ]
  },
  {
   "cell_type": "code",
   "execution_count": 61,
   "metadata": {},
   "outputs": [
    {
     "name": "stdout",
     "output_type": "stream",
     "text": [
      "[[[4 5]\n",
      "  [8 4]]\n",
      "\n",
      " [[6 3]\n",
      "  [5 8]]]\n",
      "3\n"
     ]
    }
   ],
   "source": [
    "y = np.array([[[4,5],[8,4]],[[6,3],[5,8]]])\n",
    "print(y)\n",
    "print(y.ndim)"
   ]
  },
  {
   "cell_type": "code",
   "execution_count": 56,
   "metadata": {},
   "outputs": [
    {
     "ename": "ValueError",
     "evalue": "matrix must be 2-dimensional",
     "output_type": "error",
     "traceback": [
      "\u001b[0;31m---------------------------------------------------------------------------\u001b[0m",
      "\u001b[0;31mValueError\u001b[0m                                Traceback (most recent call last)",
      "\u001b[0;32m<ipython-input-56-941b3304283f>\u001b[0m in \u001b[0;36m<module>\u001b[0;34m\u001b[0m\n\u001b[0;32m----> 1\u001b[0;31m \u001b[0mw\u001b[0m \u001b[0;34m=\u001b[0m \u001b[0mnp\u001b[0m\u001b[0;34m.\u001b[0m\u001b[0mmatrix\u001b[0m\u001b[0;34m(\u001b[0m\u001b[0;34m[\u001b[0m\u001b[0;34m[\u001b[0m\u001b[0;34m[\u001b[0m\u001b[0;36m4\u001b[0m\u001b[0;34m,\u001b[0m\u001b[0;36m5\u001b[0m\u001b[0;34m]\u001b[0m\u001b[0;34m,\u001b[0m\u001b[0;34m[\u001b[0m\u001b[0;36m8\u001b[0m\u001b[0;34m,\u001b[0m\u001b[0;36m4\u001b[0m\u001b[0;34m]\u001b[0m\u001b[0;34m]\u001b[0m\u001b[0;34m,\u001b[0m\u001b[0;34m[\u001b[0m\u001b[0;34m[\u001b[0m\u001b[0;36m6\u001b[0m\u001b[0;34m,\u001b[0m\u001b[0;36m3\u001b[0m\u001b[0;34m]\u001b[0m\u001b[0;34m,\u001b[0m\u001b[0;34m[\u001b[0m\u001b[0;36m5\u001b[0m\u001b[0;34m,\u001b[0m\u001b[0;36m8\u001b[0m\u001b[0;34m]\u001b[0m\u001b[0;34m]\u001b[0m\u001b[0;34m]\u001b[0m\u001b[0;34m)\u001b[0m\u001b[0;34m\u001b[0m\u001b[0;34m\u001b[0m\u001b[0m\n\u001b[0m",
      "\u001b[0;32m~/anaconda3/envs/galileoPython/lib/python3.7/site-packages/numpy/matrixlib/defmatrix.py\u001b[0m in \u001b[0;36m__new__\u001b[0;34m(subtype, data, dtype, copy)\u001b[0m\n\u001b[1;32m    144\u001b[0m         \u001b[0mshape\u001b[0m \u001b[0;34m=\u001b[0m \u001b[0marr\u001b[0m\u001b[0;34m.\u001b[0m\u001b[0mshape\u001b[0m\u001b[0;34m\u001b[0m\u001b[0;34m\u001b[0m\u001b[0m\n\u001b[1;32m    145\u001b[0m         \u001b[0;32mif\u001b[0m \u001b[0;34m(\u001b[0m\u001b[0mndim\u001b[0m \u001b[0;34m>\u001b[0m \u001b[0;36m2\u001b[0m\u001b[0;34m)\u001b[0m\u001b[0;34m:\u001b[0m\u001b[0;34m\u001b[0m\u001b[0;34m\u001b[0m\u001b[0m\n\u001b[0;32m--> 146\u001b[0;31m             \u001b[0;32mraise\u001b[0m \u001b[0mValueError\u001b[0m\u001b[0;34m(\u001b[0m\u001b[0;34m\"matrix must be 2-dimensional\"\u001b[0m\u001b[0;34m)\u001b[0m\u001b[0;34m\u001b[0m\u001b[0;34m\u001b[0m\u001b[0m\n\u001b[0m\u001b[1;32m    147\u001b[0m         \u001b[0;32melif\u001b[0m \u001b[0mndim\u001b[0m \u001b[0;34m==\u001b[0m \u001b[0;36m0\u001b[0m\u001b[0;34m:\u001b[0m\u001b[0;34m\u001b[0m\u001b[0;34m\u001b[0m\u001b[0m\n\u001b[1;32m    148\u001b[0m             \u001b[0mshape\u001b[0m \u001b[0;34m=\u001b[0m \u001b[0;34m(\u001b[0m\u001b[0;36m1\u001b[0m\u001b[0;34m,\u001b[0m \u001b[0;36m1\u001b[0m\u001b[0;34m)\u001b[0m\u001b[0;34m\u001b[0m\u001b[0;34m\u001b[0m\u001b[0m\n",
      "\u001b[0;31mValueError\u001b[0m: matrix must be 2-dimensional"
     ]
    }
   ],
   "source": [
    "w = np.matrix([[[4,5],[8,4]],[[6,3],[5,8]]])"
   ]
  },
  {
   "cell_type": "markdown",
   "metadata": {},
   "source": [
    "Tal como observamos een el tipo de error que nos genera la ultima sentencia, Python nos indica que una instancia del objeto np.matrix() debe ser un arreglo de dos dimensiones.\n",
    "\n",
    "Como ultimo punto, es posible realizar un typecasting para realizar la conversion de un tipo de objeto a otro. "
   ]
  },
  {
   "cell_type": "code",
   "execution_count": 68,
   "metadata": {},
   "outputs": [
    {
     "name": "stdout",
     "output_type": "stream",
     "text": [
      "<class 'numpy.ndarray'>\n",
      "<class 'numpy.matrixlib.defmatrix.matrix'>\n"
     ]
    }
   ],
   "source": [
    "print(type(np.asarray(matF1)))\n",
    "print(type(np.asmatrix(vectMat)))"
   ]
  },
  {
   "cell_type": "code",
   "execution_count": null,
   "metadata": {},
   "outputs": [],
   "source": []
  }
 ],
 "metadata": {
  "kernelspec": {
   "display_name": "Python 3",
   "language": "python",
   "name": "python3"
  },
  "language_info": {
   "codemirror_mode": {
    "name": "ipython",
    "version": 3
   },
   "file_extension": ".py",
   "mimetype": "text/x-python",
   "name": "python",
   "nbconvert_exporter": "python",
   "pygments_lexer": "ipython3",
   "version": "3.7.2"
  }
 },
 "nbformat": 4,
 "nbformat_minor": 2
}
