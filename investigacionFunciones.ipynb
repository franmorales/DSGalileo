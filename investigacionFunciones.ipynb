{
 "cells": [
  {
   "cell_type": "markdown",
   "metadata": {},
   "source": [
    "Universidad Galileo de Guatemala.\n",
    "\n",
    "FISICC.\n",
    "\n",
    "Ciencia de Datos en Python.\n",
    "\n",
    "Francisco Antonio Morales Hernandez.\n",
    "\n",
    "Carnet: 19002196."
   ]
  },
  {
   "cell_type": "markdown",
   "metadata": {},
   "source": [
    "## Funciones en Python.\n",
    "\n",
    "Las funciones no representan un concepto propio de Python ya que son comunes a la mayoria de lenguajes de programacion. Una funcion es basicamente una pieza sistematica de codigo que procesa ciertos parametros de entrada, para obtener ciertos valores de salida.\n",
    "\n",
    "Las funciones suponen una pieza fundamental en los conceptos de encapsulacion y abstraccion. Encapsulacion se refiere al hecho de realizar dividir el codigo en pequenas porciones a fin de hacerlo mas facil de comprender y rehutilizar dichas porciones en caso de ser necesarias. Abstraccion apela al concepto de \"caja negra\", en donde podemos utilizar un tipo de codigo sin necesariamente saber a detalle su funcionamiento interno. \n",
    "\n",
    "A continuacion se detalla la sintaxis basica de la forma en la que se declaran las funciones:"
   ]
  },
  {
   "cell_type": "code",
   "execution_count": 2,
   "metadata": {},
   "outputs": [
    {
     "name": "stdout",
     "output_type": "stream",
     "text": [
      "6\n"
     ]
    }
   ],
   "source": [
    "def suma(x, y):\n",
    "    z = x+y\n",
    "    return z\n",
    "\n",
    "print(suma(4,2))"
   ]
  },
  {
   "cell_type": "markdown",
   "metadata": {},
   "source": [
    "Para definir una funcion se utiliza la palabra reservada **def** seguida del nombre de la funcion y entre parentesis los paramentros de entrada seguido de dos puntos y el contenido de la funcion en si. La funcion concluye cuando encuentra la sentencia **return** dentro del codigo, devolviendo el valor que se especifica luego"
   ]
  },
  {
   "cell_type": "markdown",
   "metadata": {},
   "source": [
    "## Parametros posicionales.\n",
    "\n",
    "A los valores de entrada dentro de una funcion se les llama parametros. Tomemos en cuenta la siguiente funcion:"
   ]
  },
  {
   "cell_type": "code",
   "execution_count": 8,
   "metadata": {},
   "outputs": [
    {
     "name": "stdout",
     "output_type": "stream",
     "text": [
      "Buenos dias Pancho\n"
     ]
    }
   ],
   "source": [
    "def greet(nombre, saludo):\n",
    "        helloString = saludo+' '+nombre\n",
    "        return helloString\n",
    "\n",
    "print(greet('Pancho', 'Buenos dias')) #Invocacion de la funcion"
   ]
  },
  {
   "cell_type": "markdown",
   "metadata": {},
   "source": [
    "La forma en la que se invoca la funcion hace referencia al concepto de parametros posicionados ya que debido al orden, el string 'Pancho' es asignado al valor de **nombre** y el string 'Buenos dias' al valor de **saludo**. Se les llama parametros posicionales porque el orden en el que son colocados dentro de la invocacion de la funcion es importante."
   ]
  },
  {
   "cell_type": "markdown",
   "metadata": {},
   "source": [
    "## Parametros nombrados.\n",
    "\n",
    "En este tipo de parametros se especifica el nombre del paramentro al momento de la invocacion. Remitase al siguiente ejemplo:"
   ]
  },
  {
   "cell_type": "code",
   "execution_count": 10,
   "metadata": {},
   "outputs": [
    {
     "name": "stdout",
     "output_type": "stream",
     "text": [
      "Buenos dias Nataly\n",
      "Buenos dias Nataly\n"
     ]
    }
   ],
   "source": [
    "print(greet(saludo='Buenos dias',nombre='Nataly'))\n",
    "print(greet(nombre='Nataly', saludo='Buenos dias'))"
   ]
  },
  {
   "cell_type": "markdown",
   "metadata": {},
   "source": [
    "Como podemos apreciar, el resultado es el mismo para ambas invocaciones, debido a que especificamos el nombre del parametro como tal, por lo que no hay ambiguedad al momento de la asignacion aun si el orden de invocacion no es el mismo que en el que se declaran los argumentos dentro de la funcion."
   ]
  },
  {
   "cell_type": "markdown",
   "metadata": {},
   "source": [
    "## Retorno de multiples valores\n",
    "\n",
    "Las funciones en python son capaces de retornar multiples valores dentro de una estructura de datos (tupla en este caso). Por ejemplo la siguiente funcion:"
   ]
  },
  {
   "cell_type": "code",
   "execution_count": 13,
   "metadata": {},
   "outputs": [
    {
     "name": "stdout",
     "output_type": "stream",
     "text": [
      "(17, 3)\n",
      "<class 'tuple'>\n"
     ]
    }
   ],
   "source": [
    "def sumRes(x, y):\n",
    "    return x+y,x-y\n",
    "\n",
    "print(sumRes(10,7))\n",
    "print(type(sumRes(10,7)))"
   ]
  },
  {
   "cell_type": "markdown",
   "metadata": {},
   "source": [
    "Como podemos observar, la funcion **sumRes** nos retorna los valores de la suma y resta sobre una tupla."
   ]
  },
  {
   "cell_type": "markdown",
   "metadata": {},
   "source": [
    "## Funciones como objetos y como parametros de otras funciones\n",
    "\n",
    "Las funciones representan en si un tipo especifico de objetos que ocupa un espacio en momoria. Podemos apreciar mejor esto de la siguiente forma"
   ]
  },
  {
   "cell_type": "code",
   "execution_count": 16,
   "metadata": {},
   "outputs": [
    {
     "name": "stdout",
     "output_type": "stream",
     "text": [
      "<function sumRes at 0x7fe21c0c22f0>\n",
      "<class 'function'>\n"
     ]
    }
   ],
   "source": [
    "print(sumRes)\n",
    "print(type(sumRes))"
   ]
  },
  {
   "cell_type": "markdown",
   "metadata": {},
   "source": [
    "Vemos que como tal, la funcion ocupa en si un espacio de memoria y posee un tipo especifico de objeto. Debido a que las fucniones son objetos, pueden ser utilizados como argumentos de otras funciones y como valores de estructuras de datos."
   ]
  },
  {
   "cell_type": "code",
   "execution_count": 20,
   "metadata": {},
   "outputs": [
    {
     "name": "stdout",
     "output_type": "stream",
     "text": [
      "(17, 3)\n",
      "Buenos dias Pancho\n"
     ]
    }
   ],
   "source": [
    "listFunc = [sumRes, greet]\n",
    "print(listFunc[0](10,7))\n",
    "print(listFunc[1]('Pancho','Buenos dias'))"
   ]
  },
  {
   "cell_type": "markdown",
   "metadata": {},
   "source": [
    "En el ejemplo anterior se observa como las funciones en si mismas forman parte de los valores de una lista (estructura de datos). A continuacion se ve como una funcion puede ser parametro de otra funcion."
   ]
  },
  {
   "cell_type": "code",
   "execution_count": 21,
   "metadata": {},
   "outputs": [
    {
     "name": "stdout",
     "output_type": "stream",
     "text": [
      "(17, 3)\n",
      "Buenas noches Pancho\n"
     ]
    }
   ],
   "source": [
    "def passFunc(func,ParX,ParY):\n",
    "    return func(ParX,ParY)\n",
    "\n",
    "print(passFunc(sumRes,10,7))\n",
    "print(passFunc(greet,'Pancho','Buenas noches'))\n"
   ]
  },
  {
   "cell_type": "markdown",
   "metadata": {},
   "source": [
    "El ejmplo aunque simple, ilustra el concepto de que una funcion dado que es un objeto en si, puede ser utilizado como parametro de otra funcion."
   ]
  },
  {
   "cell_type": "markdown",
   "metadata": {},
   "source": [
    "## Funciones anonimas o lambda\n",
    "\n",
    "Es una forma de crear funciones que ejecutan tareas simples de forma rapida. Toda funcion lambda puede ser expresada de forma convencional, pero no  toda funcion convencional puede ser expreasada como una funcion lambda. Por ejemplo la funcion **suma** expresada en celdas anteriores, tendria su equivalente en funcion lambda de la siguiente forma:"
   ]
  },
  {
   "cell_type": "code",
   "execution_count": 25,
   "metadata": {},
   "outputs": [
    {
     "name": "stdout",
     "output_type": "stream",
     "text": [
      "11\n"
     ]
    }
   ],
   "source": [
    "#Estructura general de funciones lambda: lambda <argumentos>: resultado\n",
    "result = lambda x, y: x+y\n",
    "print(result(5,6))"
   ]
  },
  {
   "cell_type": "code",
   "execution_count": null,
   "metadata": {},
   "outputs": [],
   "source": []
  }
 ],
 "metadata": {
  "kernelspec": {
   "display_name": "Python 3",
   "language": "python",
   "name": "python3"
  },
  "language_info": {
   "codemirror_mode": {
    "name": "ipython",
    "version": 3
   },
   "file_extension": ".py",
   "mimetype": "text/x-python",
   "name": "python",
   "nbconvert_exporter": "python",
   "pygments_lexer": "ipython3",
   "version": "3.7.2"
  }
 },
 "nbformat": 4,
 "nbformat_minor": 2
}
