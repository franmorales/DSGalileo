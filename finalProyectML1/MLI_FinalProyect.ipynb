{
 "cells": [
  {
   "cell_type": "markdown",
   "metadata": {},
   "source": [
    "# Proyecto Final Statistical Learning I "
   ]
  },
  {
   "cell_type": "code",
   "execution_count": 1,
   "metadata": {},
   "outputs": [],
   "source": [
    "#Core\n",
    "import numpy as np\n",
    "import pandas as pd\n",
    "import tensorflow as tf\n",
    "\n",
    "#Visualization\n",
    "import seaborn as sns\n",
    "import matplotlib.pyplot as plt\n",
    "\n",
    "#Scikit learn\n",
    "from sklearn import tree\n",
    "from sklearn import svm\n",
    "from sklearn import preprocessing\n",
    "from sklearn.model_selection import train_test_split\n",
    "sns.set(style=\"ticks\", color_codes=True)\n",
    "\n",
    "#Carga del data set:\n",
    "dataSet = pd.read_csv('data_titanic_proyecto.csv')"
   ]
  },
  {
   "cell_type": "markdown",
   "metadata": {},
   "source": [
    "## Fase 0: Preparacion y exploracion de la data\n",
    "\n",
    "En primer lugar, observamos que existen variables no numericas (incluso la variable a predecir) a la que se le tendra que aplicar one-hot encoding. \n",
    "\n",
    "Tambien, observamos que existen varios valores NaN y variables a que a primera vista, se observa que no aportaran nada al modelo debido a que no suponen una caracteristica general sino mas bien algo personal (como el nombre y el ID) por lo que seran eliminadas:"
   ]
  },
  {
   "cell_type": "code",
   "execution_count": 2,
   "metadata": {},
   "outputs": [
    {
     "name": "stdout",
     "output_type": "stream",
     "text": [
      "(891, 12)\n"
     ]
    },
    {
     "data": {
      "text/html": [
       "<div>\n",
       "<style scoped>\n",
       "    .dataframe tbody tr th:only-of-type {\n",
       "        vertical-align: middle;\n",
       "    }\n",
       "\n",
       "    .dataframe tbody tr th {\n",
       "        vertical-align: top;\n",
       "    }\n",
       "\n",
       "    .dataframe thead th {\n",
       "        text-align: right;\n",
       "    }\n",
       "</style>\n",
       "<table border=\"1\" class=\"dataframe\">\n",
       "  <thead>\n",
       "    <tr style=\"text-align: right;\">\n",
       "      <th></th>\n",
       "      <th>PassengerId</th>\n",
       "      <th>Name</th>\n",
       "      <th>Age</th>\n",
       "      <th>SibSp</th>\n",
       "      <th>Parch</th>\n",
       "      <th>Ticket</th>\n",
       "      <th>Fare</th>\n",
       "      <th>Cabin</th>\n",
       "      <th>Embarked</th>\n",
       "      <th>passenger_class</th>\n",
       "      <th>passenger_sex</th>\n",
       "      <th>passenger_survived</th>\n",
       "    </tr>\n",
       "  </thead>\n",
       "  <tbody>\n",
       "    <tr>\n",
       "      <th>0</th>\n",
       "      <td>1</td>\n",
       "      <td>Braund, Mr. Owen Harris</td>\n",
       "      <td>22.0</td>\n",
       "      <td>1</td>\n",
       "      <td>0</td>\n",
       "      <td>A/5 21171</td>\n",
       "      <td>7.2500</td>\n",
       "      <td>NaN</td>\n",
       "      <td>S</td>\n",
       "      <td>Lower</td>\n",
       "      <td>M</td>\n",
       "      <td>N</td>\n",
       "    </tr>\n",
       "    <tr>\n",
       "      <th>1</th>\n",
       "      <td>2</td>\n",
       "      <td>Cumings, Mrs. John Bradley (Florence Briggs Th...</td>\n",
       "      <td>38.0</td>\n",
       "      <td>1</td>\n",
       "      <td>0</td>\n",
       "      <td>PC 17599</td>\n",
       "      <td>71.2833</td>\n",
       "      <td>C85</td>\n",
       "      <td>C</td>\n",
       "      <td>Upper</td>\n",
       "      <td>F</td>\n",
       "      <td>Y</td>\n",
       "    </tr>\n",
       "    <tr>\n",
       "      <th>2</th>\n",
       "      <td>3</td>\n",
       "      <td>Heikkinen, Miss. Laina</td>\n",
       "      <td>26.0</td>\n",
       "      <td>0</td>\n",
       "      <td>0</td>\n",
       "      <td>STON/O2. 3101282</td>\n",
       "      <td>7.9250</td>\n",
       "      <td>NaN</td>\n",
       "      <td>S</td>\n",
       "      <td>Lower</td>\n",
       "      <td>F</td>\n",
       "      <td>Y</td>\n",
       "    </tr>\n",
       "    <tr>\n",
       "      <th>3</th>\n",
       "      <td>4</td>\n",
       "      <td>Futrelle, Mrs. Jacques Heath (Lily May Peel)</td>\n",
       "      <td>35.0</td>\n",
       "      <td>1</td>\n",
       "      <td>0</td>\n",
       "      <td>113803</td>\n",
       "      <td>53.1000</td>\n",
       "      <td>C123</td>\n",
       "      <td>S</td>\n",
       "      <td>Upper</td>\n",
       "      <td>F</td>\n",
       "      <td>Y</td>\n",
       "    </tr>\n",
       "    <tr>\n",
       "      <th>4</th>\n",
       "      <td>5</td>\n",
       "      <td>Allen, Mr. William Henry</td>\n",
       "      <td>35.0</td>\n",
       "      <td>0</td>\n",
       "      <td>0</td>\n",
       "      <td>373450</td>\n",
       "      <td>8.0500</td>\n",
       "      <td>NaN</td>\n",
       "      <td>S</td>\n",
       "      <td>Lower</td>\n",
       "      <td>M</td>\n",
       "      <td>N</td>\n",
       "    </tr>\n",
       "  </tbody>\n",
       "</table>\n",
       "</div>"
      ],
      "text/plain": [
       "   PassengerId                                               Name   Age  \\\n",
       "0            1                            Braund, Mr. Owen Harris  22.0   \n",
       "1            2  Cumings, Mrs. John Bradley (Florence Briggs Th...  38.0   \n",
       "2            3                             Heikkinen, Miss. Laina  26.0   \n",
       "3            4       Futrelle, Mrs. Jacques Heath (Lily May Peel)  35.0   \n",
       "4            5                           Allen, Mr. William Henry  35.0   \n",
       "\n",
       "   SibSp  Parch            Ticket     Fare Cabin Embarked passenger_class  \\\n",
       "0      1      0         A/5 21171   7.2500   NaN        S           Lower   \n",
       "1      1      0          PC 17599  71.2833   C85        C           Upper   \n",
       "2      0      0  STON/O2. 3101282   7.9250   NaN        S           Lower   \n",
       "3      1      0            113803  53.1000  C123        S           Upper   \n",
       "4      0      0            373450   8.0500   NaN        S           Lower   \n",
       "\n",
       "  passenger_sex passenger_survived  \n",
       "0             M                  N  \n",
       "1             F                  Y  \n",
       "2             F                  Y  \n",
       "3             F                  Y  \n",
       "4             M                  N  "
      ]
     },
     "execution_count": 2,
     "metadata": {},
     "output_type": "execute_result"
    }
   ],
   "source": [
    "print(dataSet.shape)\n",
    "dataSet.head(5)"
   ]
  },
  {
   "cell_type": "code",
   "execution_count": 3,
   "metadata": {},
   "outputs": [
    {
     "data": {
      "text/plain": [
       "PassengerId             0\n",
       "Name                    0\n",
       "Age                   177\n",
       "SibSp                   0\n",
       "Parch                   0\n",
       "Ticket                  0\n",
       "Fare                    0\n",
       "Cabin                 687\n",
       "Embarked                2\n",
       "passenger_class         0\n",
       "passenger_sex           0\n",
       "passenger_survived      0\n",
       "dtype: int64"
      ]
     },
     "execution_count": 3,
     "metadata": {},
     "output_type": "execute_result"
    }
   ],
   "source": [
    "dataSet.isna().sum()"
   ]
  },
  {
   "cell_type": "markdown",
   "metadata": {},
   "source": [
    "Una observacion preliminar descarta las Features de **Name** y **ID** por ser demasiado especificas. De igual forma, no tomaremos en cuenta la variable **Cabin** ya que mas del 75% (687/891) de sus valores son NaN. Otra variable que se considera muy especifica de cada pasajero es el **Ticket**. Para la variable **Embarked** dado que posee unicamente dos valores NaN, se obtara por eliminar dichas entradas. Con respecto a la variable **Age** de manera intuitiva, pareciera tener mucha significancia para ser eliminada por la cantidad de valores NaN (casi 20%), sin embargo, para poder dar una conclusion mas acertada acerca de si eliminamos esta variable o no, procedemos a una verificacion visual esporadica:"
   ]
  },
  {
   "cell_type": "code",
   "execution_count": 4,
   "metadata": {},
   "outputs": [
    {
     "data": {
      "text/plain": [
       "<seaborn.axisgrid.FacetGrid at 0x1a2c90f908>"
      ]
     },
     "execution_count": 4,
     "metadata": {},
     "output_type": "execute_result"
    },
    {
     "data": {
      "image/png": "[encoded data removed]",
      "text/plain": [
       "<Figure size 360x360 with 1 Axes>"
      ]
     },
     "metadata": {
      "needs_background": "light"
     },
     "output_type": "display_data"
    }
   ],
   "source": [
    "sns.catplot(y=\"Age\", x=\"passenger_survived\", kind=\"violin\", data=dataSet)"
   ]
  },
  {
   "cell_type": "markdown",
   "metadata": {},
   "source": [
    "Como se evidencia en las graficas de violin, la variable de la edad es significativa al momento de relalizar la evualuacion de si una persona sobre vive o no, por tanto no podemos desechar la variable ya que es significativa para el modelo. Tambien se eliminaran las variables que se consideran innecesarias o poco significativas para generar el modelo.\n",
    "\n",
    "* **Reemplazo de valores NaN para la edad**.\n",
    "\n",
    "Para solventar el problema de los datos faltantes, se aprovechara la media de las edades en el data set. Ademas para evitar la perdida de la variabilidad en el modelo utilizamos una medida de desviacion estandard para generar las edades de forma aleatoria manteniendo siempre una correlacion estadistica normal.\n",
    "\n",
    "Fuentes: \n",
    "\n",
    "    https://towardsdatascience.com/how-to-handle-missing-data-8646b18db0d4\n",
    "    https://docs.scipy.org/doc/numpy-1.15.0/reference/generated/numpy.random.normal.html\n",
    "\n"
   ]
  },
  {
   "cell_type": "code",
   "execution_count": 5,
   "metadata": {},
   "outputs": [
    {
     "name": "stdout",
     "output_type": "stream",
     "text": [
      "PassengerId             0\n",
      "Name                    0\n",
      "Age                     0\n",
      "SibSp                   0\n",
      "Parch                   0\n",
      "Ticket                  0\n",
      "Fare                    0\n",
      "Cabin                 687\n",
      "Embarked                2\n",
      "passenger_class         0\n",
      "passenger_sex           0\n",
      "passenger_survived      0\n",
      "dtype: int64\n"
     ]
    },
    {
     "data": {
      "text/plain": [
       "<seaborn.axisgrid.FacetGrid at 0x1a2cc0bf98>"
      ]
     },
     "execution_count": 5,
     "metadata": {},
     "output_type": "execute_result"
    },
    {
     "data": {
      "image/png": "[encoded data removed]",
      "text/plain": [
       "<Figure size 360x360 with 1 Axes>"
      ]
     },
     "metadata": {
      "needs_background": "light"
     },
     "output_type": "display_data"
    }
   ],
   "source": [
    "# Creacion del vector con las edades aleatorias que se utilizara para llenar los espacios en blanco.\n",
    "fillAge = np.array(np.random.normal(dataSet['Age'].mean(), dataSet['Age'].std(),dataSet.isna().sum()['Age']),dtype =np.int)\n",
    "\n",
    "#Creacion de un sub data frame en donde unicamente esta contenida la edad:\n",
    "copyAge = dataSet[\"Age\"].copy()\n",
    "\n",
    "#Mutacion del data frame que contiene el los valores NaN.\n",
    "copyAge[np.isnan(copyAge)] = fillAge\n",
    "dataSet[\"Age\"] = copyAge\n",
    "print(dataSet.isna().sum())\n",
    "sns.catplot(y=\"Age\", x=\"passenger_survived\", kind=\"violin\", data=dataSet)"
   ]
  },
  {
   "cell_type": "markdown",
   "metadata": {},
   "source": [
    "Como podemos apreciar, la feature **Age** ya no posee valores NaN y la grafica de Violin muestra que el metodo escogido se adapta de forma estable.\n",
    "\n",
    "* **Supresion de variables y eliminacion de valores NaN (dos columnas)** "
   ]
  },
  {
   "cell_type": "code",
   "execution_count": 6,
   "metadata": {},
   "outputs": [
    {
     "data": {
      "text/html": [
       "<div>\n",
       "<style scoped>\n",
       "    .dataframe tbody tr th:only-of-type {\n",
       "        vertical-align: middle;\n",
       "    }\n",
       "\n",
       "    .dataframe tbody tr th {\n",
       "        vertical-align: top;\n",
       "    }\n",
       "\n",
       "    .dataframe thead th {\n",
       "        text-align: right;\n",
       "    }\n",
       "</style>\n",
       "<table border=\"1\" class=\"dataframe\">\n",
       "  <thead>\n",
       "    <tr style=\"text-align: right;\">\n",
       "      <th></th>\n",
       "      <th>Age</th>\n",
       "      <th>SibSp</th>\n",
       "      <th>Parch</th>\n",
       "      <th>Fare</th>\n",
       "      <th>Embarked</th>\n",
       "      <th>passenger_class</th>\n",
       "      <th>passenger_sex</th>\n",
       "      <th>passenger_survived</th>\n",
       "    </tr>\n",
       "  </thead>\n",
       "  <tbody>\n",
       "    <tr>\n",
       "      <th>0</th>\n",
       "      <td>22.0</td>\n",
       "      <td>1</td>\n",
       "      <td>0</td>\n",
       "      <td>7.2500</td>\n",
       "      <td>S</td>\n",
       "      <td>Lower</td>\n",
       "      <td>M</td>\n",
       "      <td>N</td>\n",
       "    </tr>\n",
       "    <tr>\n",
       "      <th>1</th>\n",
       "      <td>38.0</td>\n",
       "      <td>1</td>\n",
       "      <td>0</td>\n",
       "      <td>71.2833</td>\n",
       "      <td>C</td>\n",
       "      <td>Upper</td>\n",
       "      <td>F</td>\n",
       "      <td>Y</td>\n",
       "    </tr>\n",
       "    <tr>\n",
       "      <th>2</th>\n",
       "      <td>26.0</td>\n",
       "      <td>0</td>\n",
       "      <td>0</td>\n",
       "      <td>7.9250</td>\n",
       "      <td>S</td>\n",
       "      <td>Lower</td>\n",
       "      <td>F</td>\n",
       "      <td>Y</td>\n",
       "    </tr>\n",
       "    <tr>\n",
       "      <th>3</th>\n",
       "      <td>35.0</td>\n",
       "      <td>1</td>\n",
       "      <td>0</td>\n",
       "      <td>53.1000</td>\n",
       "      <td>S</td>\n",
       "      <td>Upper</td>\n",
       "      <td>F</td>\n",
       "      <td>Y</td>\n",
       "    </tr>\n",
       "    <tr>\n",
       "      <th>4</th>\n",
       "      <td>35.0</td>\n",
       "      <td>0</td>\n",
       "      <td>0</td>\n",
       "      <td>8.0500</td>\n",
       "      <td>S</td>\n",
       "      <td>Lower</td>\n",
       "      <td>M</td>\n",
       "      <td>N</td>\n",
       "    </tr>\n",
       "    <tr>\n",
       "      <th>5</th>\n",
       "      <td>38.0</td>\n",
       "      <td>0</td>\n",
       "      <td>0</td>\n",
       "      <td>8.4583</td>\n",
       "      <td>Q</td>\n",
       "      <td>Lower</td>\n",
       "      <td>M</td>\n",
       "      <td>N</td>\n",
       "    </tr>\n",
       "    <tr>\n",
       "      <th>6</th>\n",
       "      <td>54.0</td>\n",
       "      <td>0</td>\n",
       "      <td>0</td>\n",
       "      <td>51.8625</td>\n",
       "      <td>S</td>\n",
       "      <td>Upper</td>\n",
       "      <td>M</td>\n",
       "      <td>N</td>\n",
       "    </tr>\n",
       "    <tr>\n",
       "      <th>7</th>\n",
       "      <td>2.0</td>\n",
       "      <td>3</td>\n",
       "      <td>1</td>\n",
       "      <td>21.0750</td>\n",
       "      <td>S</td>\n",
       "      <td>Lower</td>\n",
       "      <td>M</td>\n",
       "      <td>N</td>\n",
       "    </tr>\n",
       "    <tr>\n",
       "      <th>8</th>\n",
       "      <td>27.0</td>\n",
       "      <td>0</td>\n",
       "      <td>2</td>\n",
       "      <td>11.1333</td>\n",
       "      <td>S</td>\n",
       "      <td>Lower</td>\n",
       "      <td>F</td>\n",
       "      <td>Y</td>\n",
       "    </tr>\n",
       "    <tr>\n",
       "      <th>9</th>\n",
       "      <td>14.0</td>\n",
       "      <td>1</td>\n",
       "      <td>0</td>\n",
       "      <td>30.0708</td>\n",
       "      <td>C</td>\n",
       "      <td>Middle</td>\n",
       "      <td>F</td>\n",
       "      <td>Y</td>\n",
       "    </tr>\n",
       "  </tbody>\n",
       "</table>\n",
       "</div>"
      ],
      "text/plain": [
       "    Age  SibSp  Parch     Fare Embarked passenger_class passenger_sex  \\\n",
       "0  22.0      1      0   7.2500        S           Lower             M   \n",
       "1  38.0      1      0  71.2833        C           Upper             F   \n",
       "2  26.0      0      0   7.9250        S           Lower             F   \n",
       "3  35.0      1      0  53.1000        S           Upper             F   \n",
       "4  35.0      0      0   8.0500        S           Lower             M   \n",
       "5  38.0      0      0   8.4583        Q           Lower             M   \n",
       "6  54.0      0      0  51.8625        S           Upper             M   \n",
       "7   2.0      3      1  21.0750        S           Lower             M   \n",
       "8  27.0      0      2  11.1333        S           Lower             F   \n",
       "9  14.0      1      0  30.0708        C          Middle             F   \n",
       "\n",
       "  passenger_survived  \n",
       "0                  N  \n",
       "1                  Y  \n",
       "2                  Y  \n",
       "3                  Y  \n",
       "4                  N  \n",
       "5                  N  \n",
       "6                  N  \n",
       "7                  N  \n",
       "8                  Y  \n",
       "9                  Y  "
      ]
     },
     "execution_count": 6,
     "metadata": {},
     "output_type": "execute_result"
    }
   ],
   "source": [
    "dataSet = dataSet.drop(['PassengerId','Name','Ticket','Cabin'], axis=1)\n",
    "dataSet = dataSet.dropna()\n",
    "dataSet.head(10)"
   ]
  },
  {
   "cell_type": "markdown",
   "metadata": {},
   "source": [
    "* **One-hot encoding**\n",
    "\n",
    "Dado que aun tenemos variables no numericas, procedemos a la aplicacion de one-hot encoding no de la forma de agregar mas columnas (features) al dataset sino mas bien aplicando vaores enteros no necesariamente binarios (cuando asi lo requiera). Se adopta el siguiente convenio:\n",
    "\n",
    "1) Si el pasajero sobrevive, se evalua con Y = 1, de lo contrario Y = 0.\n",
    "\n",
    "2) Si el sexo del pasajero es masculino, X = 1, de lo contrario es X = 0.\n",
    "\n",
    "3) Para los valores de Embarked se utilizaran los valores numericos 1,2 y 3 para los valores de string 'C', 'Q' y 'S' respectivamente.\n",
    "\n",
    "4) Para los valores de passenger_class se utilizaran los valores 1, 2, 3 para sus contrapartes 'Lowr' 'Middle' y 'Upper' respectivamente."
   ]
  },
  {
   "cell_type": "code",
   "execution_count": 7,
   "metadata": {},
   "outputs": [],
   "source": [
    "# Aplicacino de condiciones: \n",
    "df_onehot = dataSet.copy()\n",
    "\n",
    "df_onehot.loc[df_onehot.Embarked == 'C', 'embarked'] = 1 \n",
    "df_onehot.loc[df_onehot.Embarked == 'Q', 'embarked'] = 2\n",
    "df_onehot.loc[df_onehot.Embarked == 'S', 'embarked'] = 3\n",
    "\n",
    "df_onehot.loc[df_onehot.passenger_class == 'Lower', 'class_pass'] = 1 \n",
    "df_onehot.loc[df_onehot.passenger_class == 'Middle', 'class_pass'] = 2\n",
    "df_onehot.loc[df_onehot.passenger_class == 'Upper', 'class_pass'] = 3\n",
    "\n",
    "df_onehot.loc[df_onehot.passenger_sex == 'M', 'passenger_gender'] = 1 \n",
    "df_onehot.loc[df_onehot.passenger_sex == 'F', 'passenger_gender'] = 0\n",
    "\n",
    "df_onehot.loc[df_onehot.passenger_survived == 'Y', 'survived'] = 1 \n",
    "df_onehot.loc[df_onehot.passenger_survived == 'N', 'survived'] = 0\n",
    "\n",
    "df_onehot = df_onehot.drop(['Embarked','passenger_class','passenger_sex','passenger_survived'], axis=1)"
   ]
  },
  {
   "cell_type": "markdown",
   "metadata": {},
   "source": [
    "* **Visualizacion de la data**\n",
    "\n",
    "Continauando con nuestro analisis exploratorio de la data, procedemos con un poco de visualizacion entre la relacion de cada una de las features y la variable total a predecir.\n",
    "\n",
    "Previo a la visualizcion, debemos darnos una idea (aunque sea general) de los posibles valores que pueden tomar las features. Sabemos por el one-hot encoding que las 4 variables que transformamos tienen valores discretos con un maximo de 3 posibles valores (para las variables de clase y embarque) y tambien tenemos una idea de los posibles valores de Age (muchos distintos posibles valores continuos), y Fare (muchos posibles valores discretos).  \n",
    "\n",
    "\n",
    "Por tanto, unicamente queda explorar las variables SibSp y Parch."
   ]
  },
  {
   "cell_type": "code",
   "execution_count": 8,
   "metadata": {
    "scrolled": true
   },
   "outputs": [
    {
     "name": "stdout",
     "output_type": "stream",
     "text": [
      "[1 0 3 4 2 5 8]\n",
      "[0 1 2 5 3 4 6]\n"
     ]
    },
    {
     "data": {
      "text/html": [
       "<div>\n",
       "<style scoped>\n",
       "    .dataframe tbody tr th:only-of-type {\n",
       "        vertical-align: middle;\n",
       "    }\n",
       "\n",
       "    .dataframe tbody tr th {\n",
       "        vertical-align: top;\n",
       "    }\n",
       "\n",
       "    .dataframe thead th {\n",
       "        text-align: right;\n",
       "    }\n",
       "</style>\n",
       "<table border=\"1\" class=\"dataframe\">\n",
       "  <thead>\n",
       "    <tr style=\"text-align: right;\">\n",
       "      <th></th>\n",
       "      <th>Age</th>\n",
       "      <th>SibSp</th>\n",
       "      <th>Parch</th>\n",
       "      <th>Fare</th>\n",
       "      <th>embarked</th>\n",
       "      <th>class_pass</th>\n",
       "      <th>passenger_gender</th>\n",
       "      <th>survived</th>\n",
       "    </tr>\n",
       "  </thead>\n",
       "  <tbody>\n",
       "    <tr>\n",
       "      <th>0</th>\n",
       "      <td>22.0</td>\n",
       "      <td>1</td>\n",
       "      <td>0</td>\n",
       "      <td>7.2500</td>\n",
       "      <td>3.0</td>\n",
       "      <td>1.0</td>\n",
       "      <td>1.0</td>\n",
       "      <td>0.0</td>\n",
       "    </tr>\n",
       "    <tr>\n",
       "      <th>1</th>\n",
       "      <td>38.0</td>\n",
       "      <td>1</td>\n",
       "      <td>0</td>\n",
       "      <td>71.2833</td>\n",
       "      <td>1.0</td>\n",
       "      <td>3.0</td>\n",
       "      <td>0.0</td>\n",
       "      <td>1.0</td>\n",
       "    </tr>\n",
       "    <tr>\n",
       "      <th>2</th>\n",
       "      <td>26.0</td>\n",
       "      <td>0</td>\n",
       "      <td>0</td>\n",
       "      <td>7.9250</td>\n",
       "      <td>3.0</td>\n",
       "      <td>1.0</td>\n",
       "      <td>0.0</td>\n",
       "      <td>1.0</td>\n",
       "    </tr>\n",
       "    <tr>\n",
       "      <th>3</th>\n",
       "      <td>35.0</td>\n",
       "      <td>1</td>\n",
       "      <td>0</td>\n",
       "      <td>53.1000</td>\n",
       "      <td>3.0</td>\n",
       "      <td>3.0</td>\n",
       "      <td>0.0</td>\n",
       "      <td>1.0</td>\n",
       "    </tr>\n",
       "    <tr>\n",
       "      <th>4</th>\n",
       "      <td>35.0</td>\n",
       "      <td>0</td>\n",
       "      <td>0</td>\n",
       "      <td>8.0500</td>\n",
       "      <td>3.0</td>\n",
       "      <td>1.0</td>\n",
       "      <td>1.0</td>\n",
       "      <td>0.0</td>\n",
       "    </tr>\n",
       "  </tbody>\n",
       "</table>\n",
       "</div>"
      ],
      "text/plain": [
       "    Age  SibSp  Parch     Fare  embarked  class_pass  passenger_gender  \\\n",
       "0  22.0      1      0   7.2500       3.0         1.0               1.0   \n",
       "1  38.0      1      0  71.2833       1.0         3.0               0.0   \n",
       "2  26.0      0      0   7.9250       3.0         1.0               0.0   \n",
       "3  35.0      1      0  53.1000       3.0         3.0               0.0   \n",
       "4  35.0      0      0   8.0500       3.0         1.0               1.0   \n",
       "\n",
       "   survived  \n",
       "0       0.0  \n",
       "1       1.0  \n",
       "2       1.0  \n",
       "3       1.0  \n",
       "4       0.0  "
      ]
     },
     "execution_count": 8,
     "metadata": {},
     "output_type": "execute_result"
    }
   ],
   "source": [
    "print(df_onehot.SibSp.unique())\n",
    "print(df_onehot.Parch.unique())\n",
    "df_onehot.head(5)"
   ]
  },
  {
   "cell_type": "markdown",
   "metadata": {},
   "source": [
    "En base a esto ya podemos escoger el tipo de grafica que requerimos:"
   ]
  },
  {
   "cell_type": "code",
   "execution_count": 9,
   "metadata": {
    "scrolled": true
   },
   "outputs": [
    {
     "data": {
      "image/png": "[encoded data removed]",
      "text/plain": [
       "<Figure size 1512x216 with 7 Axes>"
      ]
     },
     "metadata": {},
     "output_type": "display_data"
    },
    {
     "data": {
      "image/png": "[encoded data removed]",
      "text/plain": [
       "<Figure size 1512x216 with 7 Axes>"
      ]
     },
     "metadata": {},
     "output_type": "display_data"
    },
    {
     "data": {
      "image/png": "[encoded data removed]",
      "text/plain": [
       "<Figure size 648x216 with 3 Axes>"
      ]
     },
     "metadata": {},
     "output_type": "display_data"
    },
    {
     "data": {
      "image/png": "[encoded data removed]",
      "text/plain": [
       "<Figure size 648x216 with 3 Axes>"
      ]
     },
     "metadata": {},
     "output_type": "display_data"
    },
    {
     "data": {
      "image/png": "[encoded data removed]",
      "text/plain": [
       "<Figure size 432x216 with 2 Axes>"
      ]
     },
     "metadata": {},
     "output_type": "display_data"
    }
   ],
   "source": [
    "#Grafica de barras:\n",
    "discreteFeatures = ['SibSp','Parch','embarked','class_pass','passenger_gender']\n",
    "sns.set(style=\"ticks\")\n",
    "for ele in discreteFeatures:\n",
    "    g = sns.FacetGrid(df_onehot, col=ele)\n",
    "    g.map(plt.hist, \"survived\")"
   ]
  },
  {
   "cell_type": "markdown",
   "metadata": {},
   "source": [
    "Ahora nos queda graficar las features no categoricas tanto discretas como continuas:"
   ]
  },
  {
   "cell_type": "code",
   "execution_count": 10,
   "metadata": {
    "scrolled": true
   },
   "outputs": [
    {
     "data": {
      "text/plain": [
       "<seaborn.axisgrid.FacetGrid at 0x1a2d2a29e8>"
      ]
     },
     "execution_count": 10,
     "metadata": {},
     "output_type": "execute_result"
    },
    {
     "data": {
      "image/png": "[encoded data removed]",
      "text/plain": [
       "<Figure size 360x360 with 1 Axes>"
      ]
     },
     "metadata": {},
     "output_type": "display_data"
    },
    {
     "data": {
      "image/png": "[encoded data removed]",
      "text/plain": [
       "<Figure size 360x360 with 1 Axes>"
      ]
     },
     "metadata": {},
     "output_type": "display_data"
    }
   ],
   "source": [
    "sns.catplot(y=\"Age\", x=\"survived\", kind=\"violin\", data=df_onehot)\n",
    "sns.catplot(y=\"Fare\", x=\"survived\", kind=\"violin\", data=df_onehot)"
   ]
  },
  {
   "cell_type": "code",
   "execution_count": 11,
   "metadata": {},
   "outputs": [
    {
     "data": {
      "text/plain": [
       "Text(0, 0.5, 'Densidad')"
      ]
     },
     "execution_count": 11,
     "metadata": {},
     "output_type": "execute_result"
    },
    {
     "data": {
      "image/png": "[encoded data removed]",
      "text/plain": [
       "<Figure size 432x288 with 1 Axes>"
      ]
     },
     "metadata": {},
     "output_type": "display_data"
    }
   ],
   "source": [
    "#Otra grafica para la Edad:\n",
    "df = df_onehot[df_onehot.survived == 0.0]\n",
    "sns.distplot(df['Age'],  kde=False, label='non-survived')\n",
    "\n",
    "df =df_onehot[df_onehot.survived == 1.0]\n",
    "sns.distplot(df['Age'],  kde=False,label='survived')\n",
    "\n",
    "plt.legend(prop={'size': 12})\n",
    "plt.title('Edad vs desnsidad vs sobrevivientes')\n",
    "plt.xlabel('Edad')\n",
    "plt.ylabel('Densidad')"
   ]
  },
  {
   "cell_type": "code",
   "execution_count": 12,
   "metadata": {},
   "outputs": [
    {
     "data": {
      "text/plain": [
       "Text(0, 0.5, 'Densidad')"
      ]
     },
     "execution_count": 12,
     "metadata": {},
     "output_type": "execute_result"
    },
    {
     "data": {
      "image/png": "[encoded data removed]",
      "text/plain": [
       "<Figure size 432x288 with 1 Axes>"
      ]
     },
     "metadata": {},
     "output_type": "display_data"
    }
   ],
   "source": [
    "#Otra grafica para el Fare:\n",
    "df = df_onehot[df_onehot.survived == 0.0]\n",
    "sns.distplot(df['Fare'],  kde=False, label='non-survived')\n",
    "\n",
    "df =df_onehot[df_onehot.survived == 1.0]\n",
    "sns.distplot(df['Fare'],  kde=False,label='survived')\n",
    "\n",
    "plt.legend(prop={'size': 12})\n",
    "plt.title('Fare vs desnsidad vs sobrevivientes')\n",
    "plt.xlabel('Fare')\n",
    "plt.ylabel('Densidad')"
   ]
  },
  {
   "cell_type": "markdown",
   "metadata": {},
   "source": [
    "*Nota de mencion: La razon por la que se grafico nuevamente la data de estas dos variables evaluando la densidad, es porque al momento de implementar el algoritmo de Neive-bayes me di cuenta que requeria que la data estuviera expresada como grupos discretos y no como valores continuos. Por tanto, se procedera a realizar la respectiva transformacion a estas dos variables*"
   ]
  },
  {
   "cell_type": "markdown",
   "metadata": {},
   "source": [
    "* **Feature Engineering:**\n",
    "\n",
    "**Agrupacion de variables continuas a grupos discretos (variables Fare y Age)**\n",
    "\n",
    "Criterios de agrupacion:\n",
    "\n",
    "1) Para la edad se tomarana los siguientes grupos:\n",
    "    \n",
    "    a) De 0 a 10 anios  -> Grupo 1\n",
    "    b) De 10 a 17 anios -> Grupo 2\n",
    "    c) De 17 a 25 anios -> Grupo 3\n",
    "    d) De 25 a 35 anios -> Grupo 4\n",
    "    e) De 35 a 45 anios -> Grupo 5\n",
    "    f) De 45 a 60 anios -> Grupo 6\n",
    "    e) De 60 anios en adelante -> Gurpo 7"
   ]
  },
  {
   "cell_type": "code",
   "execution_count": 13,
   "metadata": {},
   "outputs": [],
   "source": [
    "df_onehot.loc[(df_onehot.Age<=10) , 'passAge'] = 1 \n",
    "df_onehot.loc[(df_onehot['Age'] > 10) & (df_onehot['Age'] <= 17), 'passAge'] = 2\n",
    "df_onehot.loc[(df_onehot['Age'] > 17) & (df_onehot['Age'] <= 25), 'passAge'] = 3\n",
    "df_onehot.loc[(df_onehot['Age'] > 25) & (df_onehot['Age'] <= 35), 'passAge'] = 4\n",
    "df_onehot.loc[(df_onehot['Age'] > 35) & (df_onehot['Age'] <= 45), 'passAge'] = 5\n",
    "df_onehot.loc[(df_onehot['Age'] > 45) & (df_onehot['Age'] <= 60), 'passAge'] = 6\n",
    "df_onehot.loc[(df_onehot.Age>60) , 'passAge'] = 7"
   ]
  },
  {
   "cell_type": "markdown",
   "metadata": {},
   "source": [
    "1) Para la variable Fare se tomarana los siguientes grupos:\n",
    "    \n",
    "    a) De 0 a 40   -> Grupo 1\n",
    "    b) De 40 a 60  -> Grupo 2\n",
    "    c) De 60 a 90  -> Grupo 3\n",
    "    d) De 90 a 140 -> Grupo 4\n",
    "    e) De 140 en adelante -> 5"
   ]
  },
  {
   "cell_type": "code",
   "execution_count": 14,
   "metadata": {},
   "outputs": [
    {
     "data": {
      "text/html": [
       "<div>\n",
       "<style scoped>\n",
       "    .dataframe tbody tr th:only-of-type {\n",
       "        vertical-align: middle;\n",
       "    }\n",
       "\n",
       "    .dataframe tbody tr th {\n",
       "        vertical-align: top;\n",
       "    }\n",
       "\n",
       "    .dataframe thead th {\n",
       "        text-align: right;\n",
       "    }\n",
       "</style>\n",
       "<table border=\"1\" class=\"dataframe\">\n",
       "  <thead>\n",
       "    <tr style=\"text-align: right;\">\n",
       "      <th></th>\n",
       "      <th>SibSp</th>\n",
       "      <th>Parch</th>\n",
       "      <th>embarked</th>\n",
       "      <th>class_pass</th>\n",
       "      <th>passenger_gender</th>\n",
       "      <th>survived</th>\n",
       "      <th>passAge</th>\n",
       "      <th>passFare</th>\n",
       "    </tr>\n",
       "  </thead>\n",
       "  <tbody>\n",
       "    <tr>\n",
       "      <th>0</th>\n",
       "      <td>1</td>\n",
       "      <td>0</td>\n",
       "      <td>3.0</td>\n",
       "      <td>1.0</td>\n",
       "      <td>1.0</td>\n",
       "      <td>0.0</td>\n",
       "      <td>3.0</td>\n",
       "      <td>1.0</td>\n",
       "    </tr>\n",
       "    <tr>\n",
       "      <th>1</th>\n",
       "      <td>1</td>\n",
       "      <td>0</td>\n",
       "      <td>1.0</td>\n",
       "      <td>3.0</td>\n",
       "      <td>0.0</td>\n",
       "      <td>1.0</td>\n",
       "      <td>5.0</td>\n",
       "      <td>3.0</td>\n",
       "    </tr>\n",
       "    <tr>\n",
       "      <th>2</th>\n",
       "      <td>0</td>\n",
       "      <td>0</td>\n",
       "      <td>3.0</td>\n",
       "      <td>1.0</td>\n",
       "      <td>0.0</td>\n",
       "      <td>1.0</td>\n",
       "      <td>4.0</td>\n",
       "      <td>1.0</td>\n",
       "    </tr>\n",
       "    <tr>\n",
       "      <th>3</th>\n",
       "      <td>1</td>\n",
       "      <td>0</td>\n",
       "      <td>3.0</td>\n",
       "      <td>3.0</td>\n",
       "      <td>0.0</td>\n",
       "      <td>1.0</td>\n",
       "      <td>4.0</td>\n",
       "      <td>2.0</td>\n",
       "    </tr>\n",
       "    <tr>\n",
       "      <th>4</th>\n",
       "      <td>0</td>\n",
       "      <td>0</td>\n",
       "      <td>3.0</td>\n",
       "      <td>1.0</td>\n",
       "      <td>1.0</td>\n",
       "      <td>0.0</td>\n",
       "      <td>4.0</td>\n",
       "      <td>1.0</td>\n",
       "    </tr>\n",
       "    <tr>\n",
       "      <th>5</th>\n",
       "      <td>0</td>\n",
       "      <td>0</td>\n",
       "      <td>2.0</td>\n",
       "      <td>1.0</td>\n",
       "      <td>1.0</td>\n",
       "      <td>0.0</td>\n",
       "      <td>5.0</td>\n",
       "      <td>1.0</td>\n",
       "    </tr>\n",
       "    <tr>\n",
       "      <th>6</th>\n",
       "      <td>0</td>\n",
       "      <td>0</td>\n",
       "      <td>3.0</td>\n",
       "      <td>3.0</td>\n",
       "      <td>1.0</td>\n",
       "      <td>0.0</td>\n",
       "      <td>6.0</td>\n",
       "      <td>2.0</td>\n",
       "    </tr>\n",
       "    <tr>\n",
       "      <th>7</th>\n",
       "      <td>3</td>\n",
       "      <td>1</td>\n",
       "      <td>3.0</td>\n",
       "      <td>1.0</td>\n",
       "      <td>1.0</td>\n",
       "      <td>0.0</td>\n",
       "      <td>1.0</td>\n",
       "      <td>1.0</td>\n",
       "    </tr>\n",
       "    <tr>\n",
       "      <th>8</th>\n",
       "      <td>0</td>\n",
       "      <td>2</td>\n",
       "      <td>3.0</td>\n",
       "      <td>1.0</td>\n",
       "      <td>0.0</td>\n",
       "      <td>1.0</td>\n",
       "      <td>4.0</td>\n",
       "      <td>1.0</td>\n",
       "    </tr>\n",
       "    <tr>\n",
       "      <th>9</th>\n",
       "      <td>1</td>\n",
       "      <td>0</td>\n",
       "      <td>1.0</td>\n",
       "      <td>2.0</td>\n",
       "      <td>0.0</td>\n",
       "      <td>1.0</td>\n",
       "      <td>2.0</td>\n",
       "      <td>1.0</td>\n",
       "    </tr>\n",
       "  </tbody>\n",
       "</table>\n",
       "</div>"
      ],
      "text/plain": [
       "   SibSp  Parch  embarked  class_pass  passenger_gender  survived  passAge  \\\n",
       "0      1      0       3.0         1.0               1.0       0.0      3.0   \n",
       "1      1      0       1.0         3.0               0.0       1.0      5.0   \n",
       "2      0      0       3.0         1.0               0.0       1.0      4.0   \n",
       "3      1      0       3.0         3.0               0.0       1.0      4.0   \n",
       "4      0      0       3.0         1.0               1.0       0.0      4.0   \n",
       "5      0      0       2.0         1.0               1.0       0.0      5.0   \n",
       "6      0      0       3.0         3.0               1.0       0.0      6.0   \n",
       "7      3      1       3.0         1.0               1.0       0.0      1.0   \n",
       "8      0      2       3.0         1.0               0.0       1.0      4.0   \n",
       "9      1      0       1.0         2.0               0.0       1.0      2.0   \n",
       "\n",
       "   passFare  \n",
       "0       1.0  \n",
       "1       3.0  \n",
       "2       1.0  \n",
       "3       2.0  \n",
       "4       1.0  \n",
       "5       1.0  \n",
       "6       2.0  \n",
       "7       1.0  \n",
       "8       1.0  \n",
       "9       1.0  "
      ]
     },
     "execution_count": 14,
     "metadata": {},
     "output_type": "execute_result"
    }
   ],
   "source": [
    "df_onehot.loc[(df_onehot.Fare<=40) , 'passFare'] = 1 \n",
    "df_onehot.loc[(df_onehot['Fare'] > 40) & (df_onehot['Fare'] <= 60), 'passFare'] = 2\n",
    "df_onehot.loc[(df_onehot['Fare'] > 60) & (df_onehot['Fare'] <= 90), 'passFare'] = 3\n",
    "df_onehot.loc[(df_onehot['Fare'] > 90) & (df_onehot['Fare'] <= 140), 'passFare'] = 4\n",
    "df_onehot.loc[(df_onehot.Fare>140) , 'passFare'] = 1 \n",
    "df_onehot = df_onehot.drop(['Age','Fare'],axis=1)\n",
    "\n",
    "df_onehot.head(10)"
   ]
  },
  {
   "cell_type": "markdown",
   "metadata": {},
   "source": [
    "**Combinacion de varibles**\n",
    "\n",
    "Se procedera a combinar las variables 'SibSp' y 'Parch', de esta forma se reduciran el numero de Features, por tanto, vemos cual es la mejor forma de combinarlas:"
   ]
  },
  {
   "cell_type": "code",
   "execution_count": 15,
   "metadata": {
    "scrolled": true
   },
   "outputs": [
    {
     "data": {
      "text/plain": [
       "SibSp       283\n",
       "Parch       213\n",
       "survived    340\n",
       "Values      142\n",
       "dtype: int64"
      ]
     },
     "execution_count": 15,
     "metadata": {},
     "output_type": "execute_result"
    }
   ],
   "source": [
    "#Realizamos pruebas sobre un dsata set incluyendo unicamente las dos variables a tratar:\n",
    "SibParchMulti  = df_onehot[['SibSp','Parch','survived']].astype(float)\n",
    "SibParchMulti['Values'] = SibParchMulti.SibSp*SibParchMulti.Parch\n",
    "SibParchMulti.astype(bool).sum(axis=0)"
   ]
  },
  {
   "cell_type": "markdown",
   "metadata": {},
   "source": [
    "Vemos que multiplicarlo pareciera no ser una buena opcion ya que la mayor parte de los valores de la nueva columna son ceros por lo que optamos por sumar los valores:"
   ]
  },
  {
   "cell_type": "code",
   "execution_count": 16,
   "metadata": {
    "scrolled": true
   },
   "outputs": [
    {
     "data": {
      "text/plain": [
       "SibSp       283\n",
       "Parch       213\n",
       "survived    340\n",
       "Values      354\n",
       "dtype: int64"
      ]
     },
     "execution_count": 16,
     "metadata": {},
     "output_type": "execute_result"
    }
   ],
   "source": [
    "#Procedemos a multiplicar los valores del dataSet:\n",
    "SibParchSuma  = df_onehot[['SibSp','Parch','survived']].astype(float)\n",
    "SibParchSuma['Values'] = SibParchSuma.SibSp+SibParchSuma.Parch\n",
    "SibParchSuma.astype(bool).sum(axis=0)"
   ]
  },
  {
   "cell_type": "markdown",
   "metadata": {},
   "source": [
    "Vemos que esta transformacion nos brinda menos valores zero (mas valores no zero). Como criterio final de decision, proceder a realizar unas cuantas graficas:"
   ]
  },
  {
   "cell_type": "code",
   "execution_count": 17,
   "metadata": {
    "scrolled": true
   },
   "outputs": [
    {
     "data": {
      "text/plain": [
       "<seaborn.axisgrid.FacetGrid at 0x1a2d5d7c88>"
      ]
     },
     "execution_count": 17,
     "metadata": {},
     "output_type": "execute_result"
    },
    {
     "data": {
      "image/png": "[encoded data removed]",
      "text/plain": [
       "<Figure size 360x360 with 1 Axes>"
      ]
     },
     "metadata": {},
     "output_type": "display_data"
    },
    {
     "data": {
      "image/png": "[encoded data removed]",
      "text/plain": [
       "<Figure size 360x360 with 1 Axes>"
      ]
     },
     "metadata": {},
     "output_type": "display_data"
    }
   ],
   "source": [
    "sns.catplot(x=\"survived\", y=\"Values\", kind=\"violin\", data=SibParchSuma)\n",
    "sns.catplot(x=\"survived\", y=\"Values\", kind=\"violin\", data=SibParchMulti)"
   ]
  },
  {
   "cell_type": "markdown",
   "metadata": {},
   "source": [
    "Basandonos en la parte del histograma creado por la grafica de violin, cuando multiplicamos la data parecieramos tener una distribucion normal para ambos resultados con una media muy cercana a zero, eso es entendible porque la mayoria de los valores son de zero, vemos tambien que cuando la data se suma obtenemos valores mas dispersos. Por tanto, tomamos la suma de las variables para crear una nueva feature y procedemos con la suprecion de las otras dos."
   ]
  },
  {
   "cell_type": "code",
   "execution_count": 18,
   "metadata": {},
   "outputs": [],
   "source": [
    "df_onehot[\"SibParchSum\"] =  df_onehot.SibSp+df_onehot.Parch"
   ]
  },
  {
   "cell_type": "code",
   "execution_count": 19,
   "metadata": {
    "scrolled": true
   },
   "outputs": [
    {
     "data": {
      "text/html": [
       "<div>\n",
       "<style scoped>\n",
       "    .dataframe tbody tr th:only-of-type {\n",
       "        vertical-align: middle;\n",
       "    }\n",
       "\n",
       "    .dataframe tbody tr th {\n",
       "        vertical-align: top;\n",
       "    }\n",
       "\n",
       "    .dataframe thead th {\n",
       "        text-align: right;\n",
       "    }\n",
       "</style>\n",
       "<table border=\"1\" class=\"dataframe\">\n",
       "  <thead>\n",
       "    <tr style=\"text-align: right;\">\n",
       "      <th></th>\n",
       "      <th>embarked</th>\n",
       "      <th>class_pass</th>\n",
       "      <th>passenger_gender</th>\n",
       "      <th>survived</th>\n",
       "      <th>passAge</th>\n",
       "      <th>passFare</th>\n",
       "      <th>SibParchSum</th>\n",
       "    </tr>\n",
       "  </thead>\n",
       "  <tbody>\n",
       "    <tr>\n",
       "      <th>0</th>\n",
       "      <td>3.0</td>\n",
       "      <td>1.0</td>\n",
       "      <td>1.0</td>\n",
       "      <td>0.0</td>\n",
       "      <td>3.0</td>\n",
       "      <td>1.0</td>\n",
       "      <td>1.0</td>\n",
       "    </tr>\n",
       "    <tr>\n",
       "      <th>1</th>\n",
       "      <td>1.0</td>\n",
       "      <td>3.0</td>\n",
       "      <td>0.0</td>\n",
       "      <td>1.0</td>\n",
       "      <td>5.0</td>\n",
       "      <td>3.0</td>\n",
       "      <td>1.0</td>\n",
       "    </tr>\n",
       "    <tr>\n",
       "      <th>2</th>\n",
       "      <td>3.0</td>\n",
       "      <td>1.0</td>\n",
       "      <td>0.0</td>\n",
       "      <td>1.0</td>\n",
       "      <td>4.0</td>\n",
       "      <td>1.0</td>\n",
       "      <td>0.0</td>\n",
       "    </tr>\n",
       "    <tr>\n",
       "      <th>3</th>\n",
       "      <td>3.0</td>\n",
       "      <td>3.0</td>\n",
       "      <td>0.0</td>\n",
       "      <td>1.0</td>\n",
       "      <td>4.0</td>\n",
       "      <td>2.0</td>\n",
       "      <td>1.0</td>\n",
       "    </tr>\n",
       "    <tr>\n",
       "      <th>4</th>\n",
       "      <td>3.0</td>\n",
       "      <td>1.0</td>\n",
       "      <td>1.0</td>\n",
       "      <td>0.0</td>\n",
       "      <td>4.0</td>\n",
       "      <td>1.0</td>\n",
       "      <td>0.0</td>\n",
       "    </tr>\n",
       "  </tbody>\n",
       "</table>\n",
       "</div>"
      ],
      "text/plain": [
       "   embarked  class_pass  passenger_gender  survived  passAge  passFare  \\\n",
       "0       3.0         1.0               1.0       0.0      3.0       1.0   \n",
       "1       1.0         3.0               0.0       1.0      5.0       3.0   \n",
       "2       3.0         1.0               0.0       1.0      4.0       1.0   \n",
       "3       3.0         3.0               0.0       1.0      4.0       2.0   \n",
       "4       3.0         1.0               1.0       0.0      4.0       1.0   \n",
       "\n",
       "   SibParchSum  \n",
       "0          1.0  \n",
       "1          1.0  \n",
       "2          0.0  \n",
       "3          1.0  \n",
       "4          0.0  "
      ]
     },
     "execution_count": 19,
     "metadata": {},
     "output_type": "execute_result"
    }
   ],
   "source": [
    "df_onehot = df_onehot.drop(['SibSp','Parch'],axis=1)\n",
    "df_onehot['SibParchSum'] = df_onehot['SibParchSum'].astype(float)\n",
    "df_onehot.head(5)"
   ]
  },
  {
   "cell_type": "markdown",
   "metadata": {},
   "source": [
    "**Escalamiento/normalizacin de las features: Aplicacion de la formula: x' =  (x - xmin)/(xmax - xmin)**"
   ]
  },
  {
   "cell_type": "code",
   "execution_count": 20,
   "metadata": {},
   "outputs": [
    {
     "data": {
      "text/html": [
       "<div>\n",
       "<style scoped>\n",
       "    .dataframe tbody tr th:only-of-type {\n",
       "        vertical-align: middle;\n",
       "    }\n",
       "\n",
       "    .dataframe tbody tr th {\n",
       "        vertical-align: top;\n",
       "    }\n",
       "\n",
       "    .dataframe thead th {\n",
       "        text-align: right;\n",
       "    }\n",
       "</style>\n",
       "<table border=\"1\" class=\"dataframe\">\n",
       "  <thead>\n",
       "    <tr style=\"text-align: right;\">\n",
       "      <th></th>\n",
       "      <th>embarked</th>\n",
       "      <th>class_pass</th>\n",
       "      <th>passenger_gender</th>\n",
       "      <th>survived</th>\n",
       "      <th>passAge</th>\n",
       "      <th>passFare</th>\n",
       "      <th>SibParchSum</th>\n",
       "    </tr>\n",
       "  </thead>\n",
       "  <tbody>\n",
       "    <tr>\n",
       "      <th>0</th>\n",
       "      <td>1.0</td>\n",
       "      <td>0.0</td>\n",
       "      <td>1.0</td>\n",
       "      <td>0.0</td>\n",
       "      <td>0.333333</td>\n",
       "      <td>0.000000</td>\n",
       "      <td>0.1</td>\n",
       "    </tr>\n",
       "    <tr>\n",
       "      <th>1</th>\n",
       "      <td>0.0</td>\n",
       "      <td>1.0</td>\n",
       "      <td>0.0</td>\n",
       "      <td>1.0</td>\n",
       "      <td>0.666667</td>\n",
       "      <td>0.666667</td>\n",
       "      <td>0.1</td>\n",
       "    </tr>\n",
       "    <tr>\n",
       "      <th>2</th>\n",
       "      <td>1.0</td>\n",
       "      <td>0.0</td>\n",
       "      <td>0.0</td>\n",
       "      <td>1.0</td>\n",
       "      <td>0.500000</td>\n",
       "      <td>0.000000</td>\n",
       "      <td>0.0</td>\n",
       "    </tr>\n",
       "    <tr>\n",
       "      <th>3</th>\n",
       "      <td>1.0</td>\n",
       "      <td>1.0</td>\n",
       "      <td>0.0</td>\n",
       "      <td>1.0</td>\n",
       "      <td>0.500000</td>\n",
       "      <td>0.333333</td>\n",
       "      <td>0.1</td>\n",
       "    </tr>\n",
       "    <tr>\n",
       "      <th>4</th>\n",
       "      <td>1.0</td>\n",
       "      <td>0.0</td>\n",
       "      <td>1.0</td>\n",
       "      <td>0.0</td>\n",
       "      <td>0.500000</td>\n",
       "      <td>0.000000</td>\n",
       "      <td>0.0</td>\n",
       "    </tr>\n",
       "  </tbody>\n",
       "</table>\n",
       "</div>"
      ],
      "text/plain": [
       "   embarked  class_pass  passenger_gender  survived   passAge  passFare  \\\n",
       "0       1.0         0.0               1.0       0.0  0.333333  0.000000   \n",
       "1       0.0         1.0               0.0       1.0  0.666667  0.666667   \n",
       "2       1.0         0.0               0.0       1.0  0.500000  0.000000   \n",
       "3       1.0         1.0               0.0       1.0  0.500000  0.333333   \n",
       "4       1.0         0.0               1.0       0.0  0.500000  0.000000   \n",
       "\n",
       "   SibParchSum  \n",
       "0          0.1  \n",
       "1          0.1  \n",
       "2          0.0  \n",
       "3          0.1  \n",
       "4          0.0  "
      ]
     },
     "execution_count": 20,
     "metadata": {},
     "output_type": "execute_result"
    }
   ],
   "source": [
    "scaling = preprocessing.MinMaxScaler()\n",
    "scaledMatrix = scaling.fit_transform(df_onehot)\n",
    "df_normalized = pd.DataFrame(scaledMatrix,columns=df_onehot.columns)\n",
    "df_normalized.head(5)"
   ]
  },
  {
   "cell_type": "markdown",
   "metadata": {},
   "source": [
    "* **Data Split (train, test, validation)**\n",
    "\n",
    "Se tomaran un 20% de datos para test, un 85% de datos para train y de ese 80% se tomara un 15% de datos para validacion."
   ]
  },
  {
   "cell_type": "code",
   "execution_count": 21,
   "metadata": {},
   "outputs": [],
   "source": [
    "xTrain, xPreTest, yTrain, yPreTest = train_test_split(df_normalized[['passAge','passFare','embarked','class_pass','passenger_gender','SibParchSum']],\n",
    "                                                    df_normalized[['survived']], \n",
    "                                                    test_size=0.30)\n",
    "xTest, xVal, yTest, yVal = train_test_split(xPreTest, yPreTest, test_size=0.35)"
   ]
  },
  {
   "cell_type": "code",
   "execution_count": 22,
   "metadata": {},
   "outputs": [
    {
     "name": "stdout",
     "output_type": "stream",
     "text": [
      "(889, 7)\n",
      "(622, 6)\n",
      "(622, 1)\n",
      "(173, 6)\n",
      "(173, 1)\n",
      "(94, 6)\n",
      "(94, 1)\n"
     ]
    }
   ],
   "source": [
    "print(df_normalized.shape)\n",
    "print(xTrain.shape)\n",
    "print(yTrain.shape)\n",
    "print(xTest.shape)\n",
    "print(yTest.shape)\n",
    "print(xVal.shape)\n",
    "print(yVal.shape)"
   ]
  },
  {
   "cell_type": "code",
   "execution_count": 23,
   "metadata": {},
   "outputs": [
    {
     "data": {
      "text/plain": [
       "Index(['passAge', 'passFare', 'embarked', 'class_pass', 'passenger_gender',\n",
       "       'SibParchSum'],\n",
       "      dtype='object')"
      ]
     },
     "execution_count": 23,
     "metadata": {},
     "output_type": "execute_result"
    }
   ],
   "source": [
    "xTrain.columns"
   ]
  },
  {
   "cell_type": "markdown",
   "metadata": {},
   "source": [
    "Se dividen los datos con aproximadamente la siguiente distribucion:\n",
    "\n",
    "1) Entrenamiento 70%\n",
    "\n",
    "2) Prueba 20%\n",
    "\n",
    "3) Validacion 10%"
   ]
  },
  {
   "cell_type": "markdown",
   "metadata": {},
   "source": [
    "## Fase 1: Creacion de modelos.\n",
    "\n",
    "* **Desicion Trees Model (Scikit learn)**\n",
    "\n",
    "Dado que este es un algoritmo no parametrico, no es necesario crear una bitacora con el record de parametros como tal, unicamente se tomaran las metricas que genera el modelo:"
   ]
  },
  {
   "cell_type": "code",
   "execution_count": 24,
   "metadata": {},
   "outputs": [],
   "source": [
    "models= []\n",
    "def dt(X=xTrain,Y=yTrain):\n",
    "    clf = tree.DecisionTreeClassifier()\n",
    "    clf = clf.fit(X, Y)\n",
    "    return clf\n",
    "models.append(dt)"
   ]
  },
  {
   "cell_type": "code",
   "execution_count": 25,
   "metadata": {},
   "outputs": [
    {
     "data": {
      "text/plain": [
       "array([0., 0., 0., 0., 0., 1., 1., 0., 1., 0., 0., 0., 0., 0., 1., 0., 0.,\n",
       "       1., 1., 0., 0., 0., 0., 0., 0., 1., 0., 1., 1., 0., 0., 0., 0., 0.,\n",
       "       0., 0., 1., 1., 0., 0., 0., 1., 0., 0., 1., 1., 0., 0., 0., 0., 1.,\n",
       "       0., 1., 0., 0., 0., 0., 0., 0., 0., 1., 0., 0., 1., 1., 1., 0., 0.,\n",
       "       0., 0., 1., 1., 0., 1., 0., 0., 1., 1., 1., 0., 1., 0., 0., 1., 1.,\n",
       "       0., 0., 0., 0., 1., 1., 0., 0., 0., 1., 1., 0., 1., 0., 1., 1., 0.,\n",
       "       0., 0., 1., 1., 0., 1., 0., 0., 0., 1., 0., 0., 1., 1., 1., 1., 0.,\n",
       "       0., 1., 0., 1., 1., 0., 0., 0., 0., 0., 0., 1., 0., 0., 0., 0., 0.,\n",
       "       1., 1., 0., 1., 1., 0., 0., 0., 0., 0., 0., 0., 0., 0., 0., 0., 0.,\n",
       "       0., 1., 0., 0., 0., 0., 0., 0., 0., 0., 0., 0., 0., 1., 0., 0., 1.,\n",
       "       0., 0., 0.])"
      ]
     },
     "execution_count": 25,
     "metadata": {},
     "output_type": "execute_result"
    }
   ],
   "source": [
    "#Realizamos las prediccione sobre el dataset de pruebas:\n",
    "dtPredictions = models[0]().predict(xTest)\n",
    "dtPredictions"
   ]
  },
  {
   "cell_type": "code",
   "execution_count": 78,
   "metadata": {},
   "outputs": [
    {
     "data": {
      "text/plain": [
       "0.8208092485549133"
      ]
     },
     "execution_count": 78,
     "metadata": {},
     "output_type": "execute_result"
    }
   ],
   "source": [
    "#Accuracy\n",
    "np.count_nonzero(np.array(np.equal(dtPredictions,np.reshape(np.asanyarray(yTest),yTest.shape[0])),int))/yTest.shape[0]"
   ]
  },
  {
   "cell_type": "markdown",
   "metadata": {},
   "source": [
    "* **Support Vector Machines (Scikit learn)**:"
   ]
  },
  {
   "cell_type": "code",
   "execution_count": 34,
   "metadata": {},
   "outputs": [],
   "source": [
    "def svmAlg(X=xTrain,Y=yTrain):\n",
    "    clf = svm.SVC(gamma='scale')\n",
    "    clf.fit(xTrain,\n",
    "            np.reshape(np.asanyarray(Y),Y.shape[0]))\n",
    "    return clf\n",
    "models.append(svmAlg)"
   ]
  },
  {
   "cell_type": "code",
   "execution_count": 35,
   "metadata": {},
   "outputs": [],
   "source": [
    "svmPredictions = models[1]().predict(xTest)"
   ]
  },
  {
   "cell_type": "code",
   "execution_count": 36,
   "metadata": {},
   "outputs": [
    {
     "data": {
      "text/plain": [
       "array([0., 0., 0., 0., 0., 1., 1., 0., 1., 0., 0., 0., 0., 0., 0., 0., 0.,\n",
       "       0., 1., 0., 0., 0., 0., 0., 0., 1., 0., 1., 1., 0., 0., 0., 0., 0.,\n",
       "       0., 0., 1., 1., 0., 0., 0., 1., 0., 1., 1., 1., 0., 0., 0., 0., 1.,\n",
       "       0., 1., 0., 0., 1., 0., 1., 0., 0., 1., 0., 0., 1., 1., 1., 0., 0.,\n",
       "       0., 0., 0., 0., 0., 1., 0., 0., 1., 1., 0., 0., 1., 0., 0., 1., 0.,\n",
       "       0., 0., 0., 0., 0., 1., 0., 0., 0., 1., 1., 0., 0., 0., 1., 1., 0.,\n",
       "       0., 0., 0., 1., 0., 1., 0., 0., 0., 1., 0., 0., 1., 1., 0., 1., 0.,\n",
       "       0., 1., 0., 0., 0., 0., 1., 0., 0., 0., 0., 1., 0., 0., 0., 0., 0.,\n",
       "       1., 0., 0., 1., 0., 0., 0., 0., 0., 0., 0., 0., 0., 0., 0., 0., 0.,\n",
       "       0., 1., 0., 0., 0., 0., 0., 0., 0., 0., 0., 0., 0., 1., 0., 0., 1.,\n",
       "       0., 0., 0.])"
      ]
     },
     "execution_count": 36,
     "metadata": {},
     "output_type": "execute_result"
    }
   ],
   "source": [
    "svmPredictions"
   ]
  },
  {
   "cell_type": "code",
   "execution_count": 79,
   "metadata": {},
   "outputs": [
    {
     "data": {
      "text/plain": [
       "0.8208092485549133"
      ]
     },
     "execution_count": 79,
     "metadata": {},
     "output_type": "execute_result"
    }
   ],
   "source": [
    "#Acuraccy\n",
    "np.count_nonzero(np.array(np.equal(svmPredictions,np.reshape(np.asanyarray(yTest),yTest.shape[0])),int))/yTest.shape[0]"
   ]
  },
  {
   "cell_type": "markdown",
   "metadata": {},
   "source": [
    "* **Naive Bayes**\n",
    "\n",
    "Para la implementacion de este algoritmo, lo que debemos hacer es tener la data dividida en grupos. Para esto, nos quedan dos features por \"grupalizar\"."
   ]
  },
  {
   "cell_type": "code",
   "execution_count": 94,
   "metadata": {},
   "outputs": [],
   "source": [
    "totalSurvived = int(yTest.astype(bool).sum(axis=0))\n",
    "totalNonSurv = len(yTest) - totalSurvived\n",
    "#print(totalSurvived)\n",
    "#print(totalNonSurv)"
   ]
  },
  {
   "cell_type": "markdown",
   "metadata": {},
   "source": [
    "Tabla de frecuencia y probabilidad para la edad:"
   ]
  },
  {
   "cell_type": "code",
   "execution_count": 95,
   "metadata": {},
   "outputs": [],
   "source": [
    "survived_age = pd.crosstab(columns=yTest[\"survived\"], index=xTest[\"passAge\"])\n",
    "survived_age.columns= [\"non_survived\",\"survived\"]\n",
    "survived_age[\"Total\"] = survived_age.non_survived + survived_age.survived\n",
    "#survived_age"
   ]
  },
  {
   "cell_type": "code",
   "execution_count": 96,
   "metadata": {},
   "outputs": [
    {
     "data": {
      "text/html": [
       "<div>\n",
       "<style scoped>\n",
       "    .dataframe tbody tr th:only-of-type {\n",
       "        vertical-align: middle;\n",
       "    }\n",
       "\n",
       "    .dataframe tbody tr th {\n",
       "        vertical-align: top;\n",
       "    }\n",
       "\n",
       "    .dataframe thead th {\n",
       "        text-align: right;\n",
       "    }\n",
       "</style>\n",
       "<table border=\"1\" class=\"dataframe\">\n",
       "  <thead>\n",
       "    <tr style=\"text-align: right;\">\n",
       "      <th></th>\n",
       "      <th>non_survived</th>\n",
       "      <th>survived</th>\n",
       "      <th>Total</th>\n",
       "    </tr>\n",
       "    <tr>\n",
       "      <th>passAge</th>\n",
       "      <th></th>\n",
       "      <th></th>\n",
       "      <th></th>\n",
       "    </tr>\n",
       "  </thead>\n",
       "  <tbody>\n",
       "    <tr>\n",
       "      <th>0.000000</th>\n",
       "      <td>0.081081</td>\n",
       "      <td>0.129032</td>\n",
       "      <td>0.098266</td>\n",
       "    </tr>\n",
       "    <tr>\n",
       "      <th>0.166667</th>\n",
       "      <td>0.072072</td>\n",
       "      <td>0.048387</td>\n",
       "      <td>0.063584</td>\n",
       "    </tr>\n",
       "    <tr>\n",
       "      <th>0.333333</th>\n",
       "      <td>0.324324</td>\n",
       "      <td>0.193548</td>\n",
       "      <td>0.277457</td>\n",
       "    </tr>\n",
       "    <tr>\n",
       "      <th>0.500000</th>\n",
       "      <td>0.288288</td>\n",
       "      <td>0.322581</td>\n",
       "      <td>0.300578</td>\n",
       "    </tr>\n",
       "    <tr>\n",
       "      <th>0.666667</th>\n",
       "      <td>0.126126</td>\n",
       "      <td>0.145161</td>\n",
       "      <td>0.132948</td>\n",
       "    </tr>\n",
       "    <tr>\n",
       "      <th>0.833333</th>\n",
       "      <td>0.063063</td>\n",
       "      <td>0.145161</td>\n",
       "      <td>0.092486</td>\n",
       "    </tr>\n",
       "    <tr>\n",
       "      <th>1.000000</th>\n",
       "      <td>0.045045</td>\n",
       "      <td>0.016129</td>\n",
       "      <td>0.034682</td>\n",
       "    </tr>\n",
       "  </tbody>\n",
       "</table>\n",
       "</div>"
      ],
      "text/plain": [
       "          non_survived  survived     Total\n",
       "passAge                                   \n",
       "0.000000      0.081081  0.129032  0.098266\n",
       "0.166667      0.072072  0.048387  0.063584\n",
       "0.333333      0.324324  0.193548  0.277457\n",
       "0.500000      0.288288  0.322581  0.300578\n",
       "0.666667      0.126126  0.145161  0.132948\n",
       "0.833333      0.063063  0.145161  0.092486\n",
       "1.000000      0.045045  0.016129  0.034682"
      ]
     },
     "execution_count": 96,
     "metadata": {},
     "output_type": "execute_result"
    }
   ],
   "source": [
    "survived_age[\"non_survived\"] = survived_age.non_survived/totalNonSurv\n",
    "survived_age[\"survived\"] = survived_age.survived/totalSurvived\n",
    "survived_age[\"Total\"] = survived_age.Total/(totalSurvived+totalNonSurv)\n",
    "survived_age"
   ]
  },
  {
   "cell_type": "markdown",
   "metadata": {},
   "source": [
    "Tabla de frecuencia y probabilidad para la variable Fare:"
   ]
  },
  {
   "cell_type": "code",
   "execution_count": 81,
   "metadata": {},
   "outputs": [
    {
     "data": {
      "text/html": [
       "<div>\n",
       "<style scoped>\n",
       "    .dataframe tbody tr th:only-of-type {\n",
       "        vertical-align: middle;\n",
       "    }\n",
       "\n",
       "    .dataframe tbody tr th {\n",
       "        vertical-align: top;\n",
       "    }\n",
       "\n",
       "    .dataframe thead th {\n",
       "        text-align: right;\n",
       "    }\n",
       "</style>\n",
       "<table border=\"1\" class=\"dataframe\">\n",
       "  <thead>\n",
       "    <tr style=\"text-align: right;\">\n",
       "      <th></th>\n",
       "      <th>non_survived</th>\n",
       "      <th>survived</th>\n",
       "      <th>Total</th>\n",
       "    </tr>\n",
       "    <tr>\n",
       "      <th>passFare</th>\n",
       "      <th></th>\n",
       "      <th></th>\n",
       "      <th></th>\n",
       "    </tr>\n",
       "  </thead>\n",
       "  <tbody>\n",
       "    <tr>\n",
       "      <th>0.000000</th>\n",
       "      <td>0.882883</td>\n",
       "      <td>0.758065</td>\n",
       "      <td>0.838150</td>\n",
       "    </tr>\n",
       "    <tr>\n",
       "      <th>0.333333</th>\n",
       "      <td>0.036036</td>\n",
       "      <td>0.129032</td>\n",
       "      <td>0.069364</td>\n",
       "    </tr>\n",
       "    <tr>\n",
       "      <th>0.666667</th>\n",
       "      <td>0.081081</td>\n",
       "      <td>0.048387</td>\n",
       "      <td>0.069364</td>\n",
       "    </tr>\n",
       "    <tr>\n",
       "      <th>1.000000</th>\n",
       "      <td>0.000000</td>\n",
       "      <td>0.064516</td>\n",
       "      <td>0.023121</td>\n",
       "    </tr>\n",
       "  </tbody>\n",
       "</table>\n",
       "</div>"
      ],
      "text/plain": [
       "          non_survived  survived     Total\n",
       "passFare                                  \n",
       "0.000000      0.882883  0.758065  0.838150\n",
       "0.333333      0.036036  0.129032  0.069364\n",
       "0.666667      0.081081  0.048387  0.069364\n",
       "1.000000      0.000000  0.064516  0.023121"
      ]
     },
     "execution_count": 81,
     "metadata": {},
     "output_type": "execute_result"
    }
   ],
   "source": [
    "survived_fare = pd.crosstab(columns=yTest[\"survived\"], index=xTest[\"passFare\"])\n",
    "survived_fare.columns= [\"non_survived\",\"survived\"]\n",
    "survived_fare[\"Total\"] = survived_fare.non_survived + survived_fare.survived\n",
    "#survived_fare\n",
    "\n",
    "survived_fare[\"non_survived\"] = survived_fare.non_survived/totalNonSurv\n",
    "survived_fare[\"survived\"] = survived_fare.survived/totalSurvived\n",
    "survived_fare[\"Total\"] = survived_fare.Total/(totalSurvived+totalNonSurv)\n",
    "survived_fare"
   ]
  },
  {
   "cell_type": "markdown",
   "metadata": {},
   "source": [
    "Tabla de frecuencia y probabilidad para la variable embarked:"
   ]
  },
  {
   "cell_type": "code",
   "execution_count": 87,
   "metadata": {},
   "outputs": [
    {
     "data": {
      "text/html": [
       "<div>\n",
       "<style scoped>\n",
       "    .dataframe tbody tr th:only-of-type {\n",
       "        vertical-align: middle;\n",
       "    }\n",
       "\n",
       "    .dataframe tbody tr th {\n",
       "        vertical-align: top;\n",
       "    }\n",
       "\n",
       "    .dataframe thead th {\n",
       "        text-align: right;\n",
       "    }\n",
       "</style>\n",
       "<table border=\"1\" class=\"dataframe\">\n",
       "  <thead>\n",
       "    <tr style=\"text-align: right;\">\n",
       "      <th></th>\n",
       "      <th>non_survived</th>\n",
       "      <th>survived</th>\n",
       "      <th>Total</th>\n",
       "    </tr>\n",
       "    <tr>\n",
       "      <th>embarked</th>\n",
       "      <th></th>\n",
       "      <th></th>\n",
       "      <th></th>\n",
       "    </tr>\n",
       "  </thead>\n",
       "  <tbody>\n",
       "    <tr>\n",
       "      <th>0.0</th>\n",
       "      <td>0.099099</td>\n",
       "      <td>0.322581</td>\n",
       "      <td>0.179191</td>\n",
       "    </tr>\n",
       "    <tr>\n",
       "      <th>0.5</th>\n",
       "      <td>0.063063</td>\n",
       "      <td>0.064516</td>\n",
       "      <td>0.063584</td>\n",
       "    </tr>\n",
       "    <tr>\n",
       "      <th>1.0</th>\n",
       "      <td>0.837838</td>\n",
       "      <td>0.612903</td>\n",
       "      <td>0.757225</td>\n",
       "    </tr>\n",
       "  </tbody>\n",
       "</table>\n",
       "</div>"
      ],
      "text/plain": [
       "          non_survived  survived     Total\n",
       "embarked                                  \n",
       "0.0           0.099099  0.322581  0.179191\n",
       "0.5           0.063063  0.064516  0.063584\n",
       "1.0           0.837838  0.612903  0.757225"
      ]
     },
     "execution_count": 87,
     "metadata": {},
     "output_type": "execute_result"
    }
   ],
   "source": [
    "survived_embarked = pd.crosstab(columns=yTest[\"survived\"], index=xTest[\"embarked\"])\n",
    "survived_embarked.columns= [\"non_survived\",\"survived\"]\n",
    "survived_embarked[\"Total\"] = survived_embarked.non_survived + survived_embarked.survived\n",
    "#survived_embarked\n",
    "\n",
    "survived_embarked[\"non_survived\"] = survived_embarked.non_survived/totalNonSurv\n",
    "survived_embarked[\"survived\"] = survived_embarked.survived/totalSurvived\n",
    "survived_embarked[\"Total\"] = survived_embarked.Total/(totalSurvived+totalNonSurv)\n",
    "survived_embarked"
   ]
  },
  {
   "cell_type": "markdown",
   "metadata": {},
   "source": [
    "Tabla de frecuencia y probabilidad para la variable clase:"
   ]
  },
  {
   "cell_type": "code",
   "execution_count": 88,
   "metadata": {},
   "outputs": [
    {
     "data": {
      "text/html": [
       "<div>\n",
       "<style scoped>\n",
       "    .dataframe tbody tr th:only-of-type {\n",
       "        vertical-align: middle;\n",
       "    }\n",
       "\n",
       "    .dataframe tbody tr th {\n",
       "        vertical-align: top;\n",
       "    }\n",
       "\n",
       "    .dataframe thead th {\n",
       "        text-align: right;\n",
       "    }\n",
       "</style>\n",
       "<table border=\"1\" class=\"dataframe\">\n",
       "  <thead>\n",
       "    <tr style=\"text-align: right;\">\n",
       "      <th></th>\n",
       "      <th>non_survived</th>\n",
       "      <th>survived</th>\n",
       "      <th>Total</th>\n",
       "    </tr>\n",
       "    <tr>\n",
       "      <th>class_pass</th>\n",
       "      <th></th>\n",
       "      <th></th>\n",
       "      <th></th>\n",
       "    </tr>\n",
       "  </thead>\n",
       "  <tbody>\n",
       "    <tr>\n",
       "      <th>0.0</th>\n",
       "      <td>0.675676</td>\n",
       "      <td>0.306452</td>\n",
       "      <td>0.543353</td>\n",
       "    </tr>\n",
       "    <tr>\n",
       "      <th>0.5</th>\n",
       "      <td>0.180180</td>\n",
       "      <td>0.290323</td>\n",
       "      <td>0.219653</td>\n",
       "    </tr>\n",
       "    <tr>\n",
       "      <th>1.0</th>\n",
       "      <td>0.144144</td>\n",
       "      <td>0.403226</td>\n",
       "      <td>0.236994</td>\n",
       "    </tr>\n",
       "  </tbody>\n",
       "</table>\n",
       "</div>"
      ],
      "text/plain": [
       "            non_survived  survived     Total\n",
       "class_pass                                  \n",
       "0.0             0.675676  0.306452  0.543353\n",
       "0.5             0.180180  0.290323  0.219653\n",
       "1.0             0.144144  0.403226  0.236994"
      ]
     },
     "execution_count": 88,
     "metadata": {},
     "output_type": "execute_result"
    }
   ],
   "source": [
    "survived_class_pass = pd.crosstab(columns=yTest[\"survived\"], index=xTest[\"class_pass\"])\n",
    "survived_class_pass.columns= [\"non_survived\",\"survived\"]\n",
    "survived_class_pass[\"Total\"] = survived_class_pass.non_survived + survived_class_pass.survived\n",
    "#survived_class_pass\n",
    "\n",
    "survived_class_pass[\"non_survived\"] = survived_class_pass.non_survived/totalNonSurv\n",
    "survived_class_pass[\"survived\"] = survived_class_pass.survived/totalSurvived\n",
    "survived_class_pass[\"Total\"] = survived_class_pass.Total/(totalSurvived+totalNonSurv)\n",
    "survived_class_pass"
   ]
  },
  {
   "cell_type": "markdown",
   "metadata": {},
   "source": [
    "Tabla de frecuencia y probabilidad para la variable sexo:"
   ]
  },
  {
   "cell_type": "code",
   "execution_count": 93,
   "metadata": {
    "scrolled": true
   },
   "outputs": [
    {
     "data": {
      "text/html": [
       "<div>\n",
       "<style scoped>\n",
       "    .dataframe tbody tr th:only-of-type {\n",
       "        vertical-align: middle;\n",
       "    }\n",
       "\n",
       "    .dataframe tbody tr th {\n",
       "        vertical-align: top;\n",
       "    }\n",
       "\n",
       "    .dataframe thead th {\n",
       "        text-align: right;\n",
       "    }\n",
       "</style>\n",
       "<table border=\"1\" class=\"dataframe\">\n",
       "  <thead>\n",
       "    <tr style=\"text-align: right;\">\n",
       "      <th></th>\n",
       "      <th>non_survived</th>\n",
       "      <th>survived</th>\n",
       "      <th>Total</th>\n",
       "    </tr>\n",
       "    <tr>\n",
       "      <th>passenger_gender</th>\n",
       "      <th></th>\n",
       "      <th></th>\n",
       "      <th></th>\n",
       "    </tr>\n",
       "  </thead>\n",
       "  <tbody>\n",
       "    <tr>\n",
       "      <th>0.0</th>\n",
       "      <td>0.153153</td>\n",
       "      <td>0.645161</td>\n",
       "      <td>0.32948</td>\n",
       "    </tr>\n",
       "    <tr>\n",
       "      <th>1.0</th>\n",
       "      <td>0.846847</td>\n",
       "      <td>0.354839</td>\n",
       "      <td>0.67052</td>\n",
       "    </tr>\n",
       "  </tbody>\n",
       "</table>\n",
       "</div>"
      ],
      "text/plain": [
       "                  non_survived  survived    Total\n",
       "passenger_gender                                 \n",
       "0.0                   0.153153  0.645161  0.32948\n",
       "1.0                   0.846847  0.354839  0.67052"
      ]
     },
     "execution_count": 93,
     "metadata": {},
     "output_type": "execute_result"
    }
   ],
   "source": [
    "survived_passenger_gender = pd.crosstab(columns=yTest[\"survived\"], index=xTest[\"passenger_gender\"])\n",
    "survived_passenger_gender.columns= [\"non_survived\",\"survived\"]\n",
    "survived_passenger_gender[\"Total\"] = survived_passenger_gender.non_survived + survived_passenger_gender.survived\n",
    "#survived_passenger_gender\n",
    "\n",
    "survived_passenger_gender[\"non_survived\"] = survived_passenger_gender.non_survived/totalNonSurv\n",
    "survived_passenger_gender[\"survived\"] = survived_passenger_gender.survived/totalSurvived\n",
    "survived_passenger_gender[\"Total\"] = survived_passenger_gender.Total/(totalSurvived+totalNonSurv)\n",
    "survived_passenger_gender"
   ]
  },
  {
   "cell_type": "markdown",
   "metadata": {},
   "source": [
    "Tabla de frecuencia y probabilidad para la variable combinada SibParchSum:"
   ]
  },
  {
   "cell_type": "code",
   "execution_count": 90,
   "metadata": {},
   "outputs": [
    {
     "data": {
      "text/html": [
       "<div>\n",
       "<style scoped>\n",
       "    .dataframe tbody tr th:only-of-type {\n",
       "        vertical-align: middle;\n",
       "    }\n",
       "\n",
       "    .dataframe tbody tr th {\n",
       "        vertical-align: top;\n",
       "    }\n",
       "\n",
       "    .dataframe thead th {\n",
       "        text-align: right;\n",
       "    }\n",
       "</style>\n",
       "<table border=\"1\" class=\"dataframe\">\n",
       "  <thead>\n",
       "    <tr style=\"text-align: right;\">\n",
       "      <th></th>\n",
       "      <th>non_survived</th>\n",
       "      <th>survived</th>\n",
       "      <th>Total</th>\n",
       "    </tr>\n",
       "    <tr>\n",
       "      <th>SibParchSum</th>\n",
       "      <th></th>\n",
       "      <th></th>\n",
       "      <th></th>\n",
       "    </tr>\n",
       "  </thead>\n",
       "  <tbody>\n",
       "    <tr>\n",
       "      <th>0.0</th>\n",
       "      <td>0.657658</td>\n",
       "      <td>0.467742</td>\n",
       "      <td>0.589595</td>\n",
       "    </tr>\n",
       "    <tr>\n",
       "      <th>0.1</th>\n",
       "      <td>0.162162</td>\n",
       "      <td>0.241935</td>\n",
       "      <td>0.190751</td>\n",
       "    </tr>\n",
       "    <tr>\n",
       "      <th>0.2</th>\n",
       "      <td>0.054054</td>\n",
       "      <td>0.145161</td>\n",
       "      <td>0.086705</td>\n",
       "    </tr>\n",
       "    <tr>\n",
       "      <th>0.3</th>\n",
       "      <td>0.018018</td>\n",
       "      <td>0.112903</td>\n",
       "      <td>0.052023</td>\n",
       "    </tr>\n",
       "    <tr>\n",
       "      <th>0.4</th>\n",
       "      <td>0.036036</td>\n",
       "      <td>0.016129</td>\n",
       "      <td>0.028902</td>\n",
       "    </tr>\n",
       "    <tr>\n",
       "      <th>0.5</th>\n",
       "      <td>0.027027</td>\n",
       "      <td>0.000000</td>\n",
       "      <td>0.017341</td>\n",
       "    </tr>\n",
       "    <tr>\n",
       "      <th>0.6</th>\n",
       "      <td>0.027027</td>\n",
       "      <td>0.016129</td>\n",
       "      <td>0.023121</td>\n",
       "    </tr>\n",
       "    <tr>\n",
       "      <th>1.0</th>\n",
       "      <td>0.018018</td>\n",
       "      <td>0.000000</td>\n",
       "      <td>0.011561</td>\n",
       "    </tr>\n",
       "  </tbody>\n",
       "</table>\n",
       "</div>"
      ],
      "text/plain": [
       "             non_survived  survived     Total\n",
       "SibParchSum                                  \n",
       "0.0              0.657658  0.467742  0.589595\n",
       "0.1              0.162162  0.241935  0.190751\n",
       "0.2              0.054054  0.145161  0.086705\n",
       "0.3              0.018018  0.112903  0.052023\n",
       "0.4              0.036036  0.016129  0.028902\n",
       "0.5              0.027027  0.000000  0.017341\n",
       "0.6              0.027027  0.016129  0.023121\n",
       "1.0              0.018018  0.000000  0.011561"
      ]
     },
     "execution_count": 90,
     "metadata": {},
     "output_type": "execute_result"
    }
   ],
   "source": [
    "survived_SibParchSum = pd.crosstab(columns=yTest[\"survived\"], index=xTest[\"SibParchSum\"])\n",
    "survived_SibParchSum.columns= [\"non_survived\",\"survived\"]\n",
    "survived_SibParchSum[\"Total\"] = survived_SibParchSum.non_survived + survived_SibParchSum.survived\n",
    "#survived_SibParchSum\n",
    "\n",
    "survived_SibParchSum[\"non_survived\"] = survived_SibParchSum.non_survived/totalNonSurv\n",
    "survived_SibParchSum[\"survived\"] = survived_SibParchSum.survived/totalSurvived\n",
    "survived_SibParchSum[\"Total\"] = survived_SibParchSum.Total/(totalSurvived+totalNonSurv)\n",
    "survived_SibParchSum"
   ]
  }
 ],
 "metadata": {
  "kernelspec": {
   "display_name": "Python 3",
   "language": "python",
   "name": "python3"
  },
  "language_info": {
   "codemirror_mode": {
    "name": "ipython",
    "version": 3
   },
   "file_extension": ".py",
   "mimetype": "text/x-python",
   "name": "python",
   "nbconvert_exporter": "python",
   "pygments_lexer": "ipython3",
   "version": "3.6.8"
  }
 },
 "nbformat": 4,
 "nbformat_minor": 2
}
